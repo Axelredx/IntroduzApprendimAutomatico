{
  "nbformat": 4,
  "nbformat_minor": 0,
  "metadata": {
    "colab": {
      "provenance": []
    },
    "kernelspec": {
      "name": "python3",
      "display_name": "Python 3"
    },
    "language_info": {
      "name": "python"
    }
  },
  "cells": [
    {
      "cell_type": "markdown",
      "source": [
        "# **Laboratorio di introduzione all'apprendimento automatico - Lezione 1**\n",
        "\n",
        "**Contatti**\n",
        "\n",
        "Giosuè Cotugno - Ph.D student @ Unibo - Data science and computation\n",
        "\n",
        "*   Integration of Compuer Vision on Motorbike\n",
        "*   giosue.cotugno2@unibo.it\n",
        "*   ( DISI ) Via Antonio Zanolini, 41a, 40126 Bologna BO, primo piano, si entra dal retro.\n",
        "*   ricevo solo su appuntamento da concordare via email.\n",
        "\n",
        "\n",
        "**Informazioni personali**\n",
        "\n",
        "Le mie atività di ricerca riguadano task di Artificial Vision come\n",
        "\n",
        "*   Obstacle Detection\n",
        "*   Trajectory forecasting\n",
        "*   Depth estimation\n",
        "*   Sensor-based Activity Recognition\n",
        "\n",
        "\n",
        "**Struttura delle lezioni:**\n",
        "\n",
        "5 Lezioni da 2 ore ciascuna.\n",
        "\n",
        "*Proposta: 15 min break  - 1h di lezione - 15 min di break - 30 min di lezione*\n",
        "\n",
        "\n",
        "\n",
        "**Contenuti del corso:**\n",
        "\n",
        "Prima parte\n",
        "*   Lezione 1 - Introduzine alle immagini, numpy e matplotlib.\n",
        "*   Lezione 2 - SkitLearn e Tasks supervisionati.\n",
        "*   Lezione 3 - Tasks non supervisionati.\n",
        "\n",
        "Seconda parte\n",
        "\n",
        "*   Lezione 4 - TensorFlow e Keras: my first neural network\n",
        "*   Lezione 5 - CNN AutoEncoders - Semantic segmentation\n",
        "\n",
        "\n",
        "\n"
      ],
      "metadata": {
        "id": "JMXwixJ_Smxw"
      }
    },
    {
      "cell_type": "markdown",
      "source": [
        "**Lezione 1**\n",
        "\n",
        "Argomenti della lezione odierna:\n",
        "\n",
        "1.   Numpy e Matplotlib\n",
        "2.   Immagini e tensori\n",
        "3.   Manipolazione di immagini"
      ],
      "metadata": {
        "id": "T_vtmNx7gmvi"
      }
    },
    {
      "cell_type": "markdown",
      "source": [
        "#Numpy"
      ],
      "metadata": {
        "id": "TNp3yISS1Qxx"
      }
    },
    {
      "cell_type": "code",
      "source": [
        "import numpy as np"
      ],
      "metadata": {
        "id": "TRCZNR_v1NNX"
      },
      "execution_count": null,
      "outputs": []
    },
    {
      "cell_type": "markdown",
      "source": [
        "Numpy è una libreria python che permette di creare e manipolare degli array multidimensionali in modo altamente ottimizzato.\n",
        "\n",
        "Fra le routines che Numpy mette a disposizone troviamo funzioni di sorting, do manipolazione della forma degli array, funzioni per fare trasformate di Furier, operazioni di algebra lineare di base, calcoli statistici, e altro."
      ],
      "metadata": {
        "id": "BRY3ON1f1aQ5"
      }
    },
    {
      "cell_type": "markdown",
      "source": [
        "## Proviamo Numpy\n",
        "\n",
        "https://numpy.org/doc/stable/user/absolute_beginners.html"
      ],
      "metadata": {
        "id": "XUzQzGx95Ut9"
      }
    },
    {
      "cell_type": "markdown",
      "source": [
        "Dichiarare un vettore numpy"
      ],
      "metadata": {
        "id": "GSACSSrxH2TH"
      }
    },
    {
      "cell_type": "code",
      "source": [
        "arr = np.array([1,2,3,4,5])\n",
        "lista = [1,2,3,4,5]\n",
        "\n",
        "print( arr ) # arr*5 ? #arr + 5 ?\n",
        "print( lista )"
      ],
      "metadata": {
        "id": "WfRekWloH4Mn"
      },
      "execution_count": null,
      "outputs": []
    },
    {
      "cell_type": "markdown",
      "source": [
        "Array ad N dimensioni"
      ],
      "metadata": {
        "id": "IgRNdHnuH9Dv"
      }
    },
    {
      "cell_type": "code",
      "source": [
        "scalare = np.array(1)\n",
        "arr1d = np.array([1,2,3,4,5])\n",
        "arr2d = np.array([ [1,2,3], [4,5,6] ] )\n",
        "arr3d = np.array([ [ [1,2,3],[3,4,5] ] , [ [5,6,7 ],[7,8,9] ] ])\n",
        "arr5d = np.array( [1,2,3], ndmin=5)\n",
        "\n",
        "print( scalare) #provali\n",
        "# print( scalare.ndim )\n",
        "# print( arr1d.ndim )\n",
        "# print( arr2d.ndim )\n",
        "# print( arr3d.ndim )\n",
        "# print( arr5d.ndim )"
      ],
      "metadata": {
        "id": "lW_3le4vIB5T"
      },
      "execution_count": null,
      "outputs": []
    },
    {
      "cell_type": "markdown",
      "source": [
        "Metodi utili per creare un array numpy"
      ],
      "metadata": {
        "id": "hadn59rlIHQV"
      }
    },
    {
      "cell_type": "code",
      "source": [
        "np.arange( 0, 50, 3) #ones, zeros linspace"
      ],
      "metadata": {
        "id": "QAq-Z5XgIc9f"
      },
      "execution_count": null,
      "outputs": []
    },
    {
      "cell_type": "markdown",
      "source": [
        "Manipolazione di array"
      ],
      "metadata": {
        "id": "b6HfaqBZIdje"
      }
    },
    {
      "cell_type": "code",
      "source": [
        "# Imposta il seed per la riproducibilità\n",
        "np.random.seed(42)\n",
        "random_matrix = np.random.randint(0, 10, size=(4,4)) # Genera una matrice di 4x4 numeri casuali interi tra 0 e 9 (inclusi)\n",
        "random_matrix"
      ],
      "metadata": {
        "id": "U8BGZpdx5UTt"
      },
      "execution_count": null,
      "outputs": []
    },
    {
      "cell_type": "markdown",
      "source": [
        "Per accedere agli elementi di questa matrice la sintassi è simile a quella delle liste in python\n",
        "\n",
        "> **np_array[ start : end , start : end ]**\n",
        "\n"
      ],
      "metadata": {
        "id": "Fi-pl0Rq-1DW"
      }
    },
    {
      "cell_type": "code",
      "source": [
        "first_raw = random_matrix[0] #prendi la prima riga\n",
        "third_col = random_matrix[:,2]#prendi la terza colonna\n",
        "two_cols = random_matrix[:,1:3]#prendi la seconda e la terza colonna\n",
        "\n",
        "small_matrix = random_matrix[1:3,1:3] # quali elementi sono ?\n",
        "\n",
        "print(f\"prima riga = {first_raw}\")\n",
        "print(f\"terza colonna = {third_col}\")\n",
        "print(f\"seconda e terza colonna\\n{two_cols}\")"
      ],
      "metadata": {
        "id": "XTX-LbVy8lJd"
      },
      "execution_count": null,
      "outputs": []
    },
    {
      "cell_type": "code",
      "source": [
        "print(f\"Matrice piu piccola\\n{small_matrix}\")"
      ],
      "metadata": {
        "id": "XT28vAwVAYUv"
      },
      "execution_count": null,
      "outputs": []
    },
    {
      "cell_type": "markdown",
      "source": [
        "Operazioni aritmetiche sulle matrici"
      ],
      "metadata": {
        "id": "d4YKJXaP-LkX"
      }
    },
    {
      "cell_type": "code",
      "source": [
        "ones = np.ones( shape=(4,4) ) #Crea una matrice 4x4 con valore 1\n",
        "ones"
      ],
      "metadata": {
        "id": "mcLjP4DB6uHv"
      },
      "execution_count": null,
      "outputs": []
    },
    {
      "cell_type": "code",
      "source": [
        "sum_matrix = random_matrix + ones #somma le due matrici e ne crea una nuova\n",
        "sum_matrix"
      ],
      "metadata": {
        "id": "UO2jzWf652p1"
      },
      "execution_count": null,
      "outputs": []
    },
    {
      "cell_type": "code",
      "source": [
        "mul_matrix = random_matrix * (sum_matrix/2) #moltiplica il contenuto di random per un altra matrice che prima ha diviso per due\n",
        "mul_matrix"
      ],
      "metadata": {
        "id": "W20qD00m8RIe"
      },
      "execution_count": null,
      "outputs": []
    },
    {
      "cell_type": "markdown",
      "source": [
        "# Matplotlib\n",
        "\n",
        "https://matplotlib.org/stable/users/getting_started/"
      ],
      "metadata": {
        "id": "BbgcZwZUDhDm"
      }
    },
    {
      "cell_type": "code",
      "source": [
        "import matplotlib.pyplot as plt"
      ],
      "metadata": {
        "id": "-wsZLbVGD8gW"
      },
      "execution_count": null,
      "outputs": []
    },
    {
      "cell_type": "markdown",
      "source": [
        "Matplotlib è una libreria Python utilizzata per creare grafici e visualizzazioni di dati. Può essere impiegata per generare grafici 2D e 3D di dati numerici, istogrammi, diagrammi a dispersione e molte altre tipologie di grafici. Inoltre, Matplotlib è utile anche per la visualizzazione di immagini, consentendo di visualizzare e manipolare immagini digitali tramite il modulo **imshow**.\n"
      ],
      "metadata": {
        "id": "69tBZm-UDyNW"
      }
    },
    {
      "cell_type": "markdown",
      "source": [
        "##Proviamo Matplotlib"
      ],
      "metadata": {
        "id": "D4cAjefKD7c0"
      }
    },
    {
      "cell_type": "code",
      "source": [
        "#array t contiene 100 valori equidistanti distribuiti nell'intervallo da 0 a 2 * np.pi, inclusi sia 0 che 2 * np.pi.\n",
        "t = np.linspace(0, 2 * np.pi, 100)\n",
        "\n",
        "# Calcolo delle funzioni seno e coseno\n",
        "sin_wave = np.sin(t)\n",
        "cos_wave = np.cos(t)\n",
        "\n",
        "# Creazione di un'area di disegno in Matplotlib e visualizzazione delle funzioni\n",
        "plt.figure(figsize=(8, 4))# istanzio una nuova \"figura\"\n",
        "\n",
        "plt.plot(t, sin_wave, label='Seno')  #x=t e y=seno\n",
        "plt.plot(t, cos_wave, label='Coseno')#x=t e y=coseno\n",
        "plt.xlabel('Tempo')\n",
        "plt.ylabel('Valore')\n",
        "plt.title('Grafico di Seno e Coseno')\n",
        "plt.legend()\n",
        "plt.grid(True)\n",
        "\n",
        "# Mostra il grafico\n",
        "plt.show()"
      ],
      "metadata": {
        "id": "x3N0zqHJDmTA"
      },
      "execution_count": null,
      "outputs": []
    },
    {
      "cell_type": "markdown",
      "source": [
        "#Immagini e Pixel"
      ],
      "metadata": {
        "id": "KS78S0D_xXjL"
      }
    },
    {
      "cell_type": "markdown",
      "source": [
        "Le immagini digitali sono costituite da una collezione ordinata di pixel che rappresentano dei punti individuali all'interno dell'immagine.\n",
        "\n",
        "Ad ogni pixel è associato un colore o un valore di intensità attraverso un sistema di colore. Assegnando un colore ai singoli pixel di un immagine si determina l'aspeto visivo dell'immagine.\n",
        "\n",
        "Un sistema di colori è una rappresentazione astratta dello spazio dei colori.\n",
        "Ne esistono diversi per diversi spazi di colore e i componenti che rappresentano un sistema di colore sono chiamati \"canali di colore\".\n",
        "\n",
        "*   **Binary**: In un'immagine binaria, un pixel può essere solo nero o bianco, rappresentato rispettivamente con 0 o 1.\n",
        "\n",
        "*   **Grayscale**: In questa modalità, l'intensità del grigio è espressa con un unico valore numerico. Tipicamente, il range va da 0 (nero) a 255 (bianco).\n",
        "\n",
        "\n",
        "*   **RGB (Red, Green, Blu)**: Questo modello di colore utilizza tre canali, ognuno dei quali ha un range da 0 a 255 per rappresentare l'intensità del colore rosso, verde e blu del pixel.\n",
        "\n",
        "*   **RGBA (Red, Green, Blue, Alpha)**: Simile a RGB, ma con l'aggiunta di un canale alpha per rappresentare la trasparenza. I range per i canali RGB sono da 0 a 255, mentre per il canale alpha è tipicamente da 0 (completamente trasparente) a 255 (completamente opaco).\n",
        "\n",
        "*   **CMYK (Cyan, Magenta, Yellow, Black)**: Utilizzato nell'industria grafica, i canali CMYK hanno spesso range da 0 a 100% per rappresentare le quantità di ciascun colore.\n",
        "\n",
        "*   **HSV e HSL ( Hue, Saturation, Value/Lightness )**: La tonalità (H) la tinta tra i colori dell'arcobaleno (0 = rosso, 255 = violetto).\n",
        "La saturazione (S) indica quanto i colori sono \"vividi\" (0 = colori sbiaditi, 255 = colori accesi), e il valore (V) noto anche come o luminosità (L) va da 0 molto scuro a 255 molto chiaro\n",
        "\n"
      ],
      "metadata": {
        "id": "FP6g2BU21mPE"
      }
    },
    {
      "cell_type": "code",
      "source": [
        "import imageio.v2 as imageio\n",
        "#Scarichiamo un immagine da un link drive\n",
        "url=\"https://drive.google.com/uc?id=1oMwhUwK-tuCaAP-_2aiTyoCrLIcqkDc9\"\n",
        "img_oppenheimer = imageio.imread(url) #usiamo un array Numpy per rappresentare l'immagine in RGB\n",
        "\n",
        "img = img_oppenheimer.copy().astype(np.uint16) #facciamo una copia così non lavoriamo sull'originale\n",
        "\n",
        "# Visualizza l'immagine con Matplotlib\n",
        "plt.imshow(img)\n",
        "plt.axis('off')  # Nasconde gli assi\n",
        "plt.show()\n",
        "\n",
        "#Stampiamo alcune caratteristiche dell'immagine.\n",
        "print(f\"dimensioni dell'immagine: {img.shape}\")  # (altezza x larghezza x canali)"
      ],
      "metadata": {
        "id": "tL7apFceVed6"
      },
      "execution_count": null,
      "outputs": []
    },
    {
      "cell_type": "markdown",
      "source": [
        "#Immagini e Tensori"
      ],
      "metadata": {
        "id": "Cjcgd2xusnCh"
      }
    },
    {
      "cell_type": "markdown",
      "source": [
        "Un tensore è una struttura dati multidimensionale che consente di organizzare e gesire dati in forma di array o matrici con piu di due dimensioni.\n",
        "\n",
        "I tensori sono molto utilizzati per gestire dati complessi e strutturati in modo flessibile.\n",
        "\n",
        "\n",
        "Nell'ambito dell'apprendimento automatico e dell'analisi dei dati, come l'elaborazione delle immagini, viene immediato rappresentare un immagine con una struttura di colori RGB attraverso un tensore tridimensionale:\n",
        "\n",
        "- una dimensione per la larghezza dell'immagine,\n",
        "- una dimensione per l'altezza\n",
        "- una dimensioni per i canali di colore ( rosso, verde e blue ) (qundi 3 ).\n",
        "\n",
        "\n",
        "\n",
        "\n",
        "Vocabolario\n",
        "\n",
        "> Asse o Dimensione: una particolare dimensione di un tensore.\n",
        "\n",
        "> Shape: La lunghezza (numero di elementi) di ogni asse del tensore.\n",
        "\n",
        "> Rango: nuero di assi del tensore. uno scalare ha rango 0, un vettore ha rango 1, una matrice ha rango 2.\n",
        "\n",
        "> Size: numero totale di elementi in un tensore, il prodotto degli elementi nel vetore shape del tensore.\n",
        "\n",
        "\n",
        "![image](https://drive.google.com/uc?id=1ru1CpMrJzt9ODprpvHnj7A9nryZjD4Mz)\n",
        "\n",
        "![shape](https://drive.google.com/uc?id=17wmgute3XK4AOAEMpemVJbuCN7pX3PRN)\n"
      ],
      "metadata": {
        "id": "OGsRksTrPOWN"
      }
    },
    {
      "cell_type": "markdown",
      "source": [
        "#Isolare i canali"
      ],
      "metadata": {
        "id": "w39uV1ZWK9B1"
      }
    },
    {
      "cell_type": "code",
      "source": [
        "#Faccio tre copie dell'immagine per non sovrascrivere la precedente\n",
        "red = img.copy()\n",
        "blue = img.copy()\n",
        "green = img.copy()\n",
        "\n",
        "#Isoliamo il canale rosso\n",
        "red[:,:, 1] = 0 #metto a 0 il canale blue\n",
        "red[:,:, 2] = 0 #metto a 0 il canale green\n",
        "plt.imshow(red)\n",
        "plt.axis('off')  # Nasconde gli assi\n",
        "plt.title('Canale Rosso')\n",
        "plt.show()\n",
        "\n",
        "\n",
        "#Isoliamo il canale verde\n",
        "green[:,:, 0] = 0 #metto a 0 il canale red\n",
        "green[:,:, 2] = 0 #metto a 0 il canale blue\n",
        "plt.imshow(green)\n",
        "plt.axis('off')  # Nasconde gli assi\n",
        "plt.title('Canale Verde')\n",
        "plt.show()\n",
        "\n",
        "\n",
        "blue[:,:, 0] = 0 #metto a 0 il canale red\n",
        "blue[:,:, 1] = 0 #metto a 0 il canale blue\n",
        "plt.imshow(blue)\n",
        "plt.axis('off')  # Nasconde gli assi\n",
        "plt.title('Canale Blue')\n",
        "plt.show()\n"
      ],
      "metadata": {
        "id": "-UtVug7FwQWL"
      },
      "execution_count": null,
      "outputs": []
    },
    {
      "cell_type": "code",
      "execution_count": null,
      "metadata": {
        "id": "4UjBP2O0SjXp"
      },
      "outputs": [],
      "source": [
        "#manipolazine dei canali di un immagine con numpy\n",
        "rgb = red + green + blue\n",
        "plt.imshow(rgb)\n",
        "plt.axis('off')  # Nasconde gli assi\n",
        "plt.title('R + G + B')\n",
        "plt.show()"
      ]
    },
    {
      "cell_type": "markdown",
      "source": [
        "#Manipolazione dei Canali"
      ],
      "metadata": {
        "id": "MtIu7jsFOklH"
      }
    },
    {
      "cell_type": "markdown",
      "source": [
        "Filtro Saturazione ?!\n",
        "\n",
        "**Saturazione:** rappresenta l'intensità o la purezza dei colori in un'immagine"
      ],
      "metadata": {
        "id": "yoqw3cS9QXWK"
      }
    },
    {
      "cell_type": "code",
      "source": [
        "#il valore del fattore di saturazione tipicamente è compreso fra  [-1, +∞]\n",
        "#s = -1 completa desaturazione e si trasforma in una immagine nera.\n",
        "#s = tra -1 e 0 indicano una riduzione della saturazione.\n",
        "#s = 1 corrisponde a l'attuale saturazione dell'immagine .\n",
        "#s > 1 indicano un aumento della saturazione.\n",
        "\n",
        "\n",
        "saturation_factor = 1.5\n",
        "saturated_image = img * saturation_factor\n",
        "# Assicurati che i valori rimangano nel range 0-255, e poi riportali in int\n",
        "saturated_image = np.clip(saturated_image, 0, 255).astype(np.uint8)\n",
        "\n",
        "plt.imshow(saturated_image)\n",
        "plt.axis('off')  # Nasconde gli assi\n",
        "plt.title('Saturated')\n",
        "plt.show()"
      ],
      "metadata": {
        "id": "bY4w8KvMQWvE"
      },
      "execution_count": null,
      "outputs": []
    },
    {
      "cell_type": "markdown",
      "source": [
        "Filtro Luminosità ?!\n",
        "\n",
        "**Sapevi che:**  La luminosità è soggettiva e può variare da persona a persona. La luminanza no.\n",
        "\n",
        "**Luminanza:** intensità luminosa di un'immagine o di un colore specifico. Viene misurata in  (cd/m²)."
      ],
      "metadata": {
        "id": "jTTRXeLORRW4"
      }
    },
    {
      "cell_type": "code",
      "source": [
        "# Aumenta la luminosità aggiungendo un valore ai canali RGB\n",
        "\n",
        "brightness_factor = 5\n",
        "brightened_image = img + brightness_factor  # Aumento di 5\n",
        "\n",
        "# Assicurati che i valori rimangano nel range 0-255\n",
        "brightened_image = np.clip(brightened_image, 0, 255).astype(np.uint8)\n",
        "plt.imshow(brightened_image)\n",
        "plt.axis('off')  # Nasconde gli assi\n",
        "plt.title('Brightened')\n",
        "plt.show()\n",
        "\n",
        "print(\"E se volessimo rendere l'immagine piu scura ?\")"
      ],
      "metadata": {
        "id": "q58S9_BVRQwr"
      },
      "execution_count": null,
      "outputs": []
    },
    {
      "cell_type": "markdown",
      "source": [
        "**Effetto polaroid**\n",
        "\n",
        "Le Polaroid rendono i colori chiari più chiari e i colori scuri più scuri. Si può ottenere una buona approssimazione di questo effetto usando una variante della funzione logistica:\n"
      ],
      "metadata": {
        "id": "gpwy5MGmUX-b"
      }
    },
    {
      "cell_type": "code",
      "source": [
        "def scaled_logistic(x):\n",
        "    return 1 / (1 + np.exp(-12 * x + 6))\n",
        "\n",
        "x = np.linspace(0, 1, 100)\n",
        "y = scaled_logistic(x)\n",
        "\n",
        "plt.plot(x, y)\n",
        "plt.plot(x, x, '--') # Mostra la retta y = x per confronto\n",
        "plt.show()"
      ],
      "metadata": {
        "id": "fGHvqbhLUXtT"
      },
      "execution_count": null,
      "outputs": []
    },
    {
      "cell_type": "markdown",
      "source": [
        "applichiamola alle immagini"
      ],
      "metadata": {
        "id": "reVPJJAadU4j"
      }
    },
    {
      "cell_type": "code",
      "source": [
        "def polaroid( image ):\n",
        "    image = image.astype(np.float32) / 255 # Converti in range [0, 1]\n",
        "    image = scaled_logistic(image)\n",
        "    image = (image * 255).astype(np.uint8) # Rconverti in range [0, 255]\n",
        "    return image\n",
        "\n",
        "\n",
        "polaroided = polaroid( img )\n",
        "plt.imshow( polaroided )\n",
        "plt.axis('off')  # Nasconde gli assi\n",
        "plt.title('Polaroid')\n",
        "plt.show()\n",
        "\n"
      ],
      "metadata": {
        "id": "zCsMqJM7dW5G"
      },
      "execution_count": null,
      "outputs": []
    },
    {
      "cell_type": "markdown",
      "source": [
        "##Open CV\n",
        "\n",
        "https://opencv.org/get-started/\n",
        "\n",
        "è una libreria open per la computer vision e l'image processing."
      ],
      "metadata": {
        "id": "5T4W6i33mgbI"
      }
    },
    {
      "cell_type": "markdown",
      "source": [
        "**Resize di un immagine**"
      ],
      "metadata": {
        "id": "cPqu46nVmk_c"
      }
    },
    {
      "cell_type": "code",
      "source": [
        "url=\"https://drive.google.com/uc?id=1vWgkE4_TUuBJhlsZv7JdURRCM_WoYNRl\"\n",
        "img_dog = imageio.imread(url) #usiamo un array Numpy per rappresentare l'immagine in RGB\n",
        "\n",
        "img2 = img_dog.copy().astype(np.uint16)\n",
        "print(f\"Dimensioni dell'immagine del cane {img2.shape}\")\n",
        "print(f\"Dimensioni dell'immagine di Oppenheimer {img.shape}\")\n",
        "plt.imshow( img2 )\n",
        "plt.axis('off')  # Nasconde gli assi\n",
        "plt.title('A dog')\n",
        "plt.show()"
      ],
      "metadata": {
        "id": "XG8rxWPZmi8q"
      },
      "execution_count": null,
      "outputs": []
    },
    {
      "cell_type": "markdown",
      "source": [
        "Effettuiamo un resize per dare alle due immagini la stessa dimensione"
      ],
      "metadata": {
        "id": "dxnD0CWem1hr"
      }
    },
    {
      "cell_type": "code",
      "source": [
        "import cv2\n",
        "\n",
        "#attenzione open CV vuole prima la width e poi la height\n",
        "new_shape = (img.shape[1], img.shape[0])\n",
        "img2 = cv2.resize( img2, new_shape )\n",
        "\n",
        "print(f\"Dimensioni della nuova immagine {img2.shape}\")\n",
        "print(f\"Dimensioni dell'immagine di Oppenheimer {img.shape}\")\n",
        "\n",
        "plt.imshow( img2 )\n",
        "plt.axis('off')  # Nasconde gli assi\n",
        "plt.title('A resized dog')\n",
        "plt.show()\n"
      ],
      "metadata": {
        "id": "vX8EMzginJL3"
      },
      "execution_count": null,
      "outputs": []
    },
    {
      "cell_type": "markdown",
      "source": [
        "**Interpolazione fra due immagini**"
      ],
      "metadata": {
        "id": "66OohFj7UfRN"
      }
    },
    {
      "cell_type": "code",
      "source": [
        "def interpolate(image1, image2, coefficient):\n",
        "    if image1.shape != image2.shape:\n",
        "      raise ValueError(\"The images must have the same shape\")\n",
        "\n",
        "    if coefficient<0 or coefficient>1:\n",
        "      raise ValueError(\"Coefficient must be in [0,1]\")\n",
        "\n",
        "    interpolated = image1 * (1 - coefficient) + image2 * coefficient\n",
        "    # interpolated ora è un'immagine floating point, riconvertiamola in interi\n",
        "    return interpolated.astype(np.uint8)\n",
        "\n",
        "\n",
        "# 0 = prendo solo image1, 1 = prendo solo image2\n",
        "interpolated = interpolate( img, img2, coefficient=0.5)\n",
        "\n",
        "plt.imshow( interpolated )\n",
        "plt.axis('off')  # Nasconde gli assi\n",
        "plt.title('Immagini iterpolate')\n",
        "\n",
        "plt.show()"
      ],
      "metadata": {
        "id": "QFSCAb0ZUh7P"
      },
      "execution_count": null,
      "outputs": []
    },
    {
      "cell_type": "markdown",
      "source": [
        "**Disegnare sull'immagine**\n",
        "\n",
        "> OpenCV ci permette pure di manipolare l'immagine piu agilmente come ad esempio\n",
        "\n",
        "\n"
      ],
      "metadata": {
        "id": "KUJ87xNaUiUZ"
      }
    },
    {
      "cell_type": "markdown",
      "source": [
        "Aggiungere figure geometriche semplici sull'immagine"
      ],
      "metadata": {
        "id": "04jZMLEqoKfG"
      }
    },
    {
      "cell_type": "code",
      "source": [
        "#Iperparamentri\n",
        "color_black = [0, 0, 0]\n",
        "spessore = 5\n",
        "\n",
        "# cv.rectangle(immagine, (x_topleft, y_topleft), (x_bottomright, y_bottomright), colore, spessore)\n",
        "square_image = cv2.rectangle(img2.copy(), (400, 300), (500, 350), color_black , spessore)\n",
        "\n",
        "# cv.line(immagine, (x_topleft, y_topleft), (x_bottomright, y_bottomright), colore, spessore)\n",
        "line_image = cv2.line(img2.copy(), (100, 100), (500, 550),color_black , spessore)\n",
        "\n",
        "# cv.circle(immagine, (centro_x, centro_y), raggio, colore, spessore)\n",
        "circle_image = cv2.circle(img2.copy(), (450, 200), 100, color_black , spessore)\n",
        "\n",
        "image_list =[square_image,line_image , circle_image]\n",
        "# Stampa\n",
        "fig, axes = plt.subplots(1, len(image_list), figsize=(16, 9))  # Crea una figura con le dimensioni appropriate\n",
        "for i, image in enumerate(image_list):\n",
        "        axes[i].imshow(image)\n",
        "        axes[i].axis('off')\n",
        "\n",
        "plt.subplots_adjust(wspace=0.05, hspace=0.2)  # Aggiusta lo spazio tra le immagini\n",
        "plt.show()"
      ],
      "metadata": {
        "id": "qYFbIYPfwA32"
      },
      "execution_count": null,
      "outputs": []
    },
    {
      "cell_type": "markdown",
      "source": [
        "Creare figure geometriche complesse,"
      ],
      "metadata": {
        "id": "pO6PQg-iwVpK"
      }
    },
    {
      "cell_type": "code",
      "source": [
        "#Per creare un poliono occorre definire la lista di punti (x,y) dei vertici del poligono.\n",
        "punti_triangolo = [(50, 50), (300, 150), (200, 250)] # caso triangolo\n",
        "\n",
        "#trasformo la lista in un vettore numpy con shape ( 3, 1, 2 )\n",
        "tr_points = np.array(punti_triangolo, np.int32).reshape((len(punti_triangolo), 1, 2))\n",
        "\n",
        "punti_poligono = [(800, 100), (950, 350), (900, 450), (800, 500)]\n",
        "pol_points = np.array(punti_poligono, np.int32).reshape((len(punti_poligono), 1, 2))\n",
        "\n",
        "\n",
        "# cv.polylines(immagine, lista di poligoni, True se deve chiudere i poligoni, colore, spessore)\n",
        "polygon_image = cv2.polylines(img2.copy(), [tr_points, pol_points], True, color_black , spessore)\n",
        "\n",
        "#stampa\n",
        "plt.imshow( polygon_image )\n",
        "plt.axis('off')  # Nasconde gli assi\n",
        "plt.title('Immagine con 2 figure geometriche')\n",
        "plt.show()\n",
        "\n"
      ],
      "metadata": {
        "id": "AHrdPJ7ZwWZj"
      },
      "execution_count": null,
      "outputs": []
    },
    {
      "cell_type": "markdown",
      "source": [
        "oppure è possibile pure aggiungere del testo all'immagine"
      ],
      "metadata": {
        "id": "WUpksoBGyF3Y"
      }
    },
    {
      "cell_type": "code",
      "source": [
        "# cv.putText(immagine, testo, (posizione_x, posizione_y), font, fattore di scala, colore, spessore)\n",
        "font = cv2.FONT_HERSHEY_SIMPLEX\n",
        "fatore_di_scala= 4\n",
        "color_red = [255,0,0]\n",
        "text_image = cv2.putText(img2.copy(), 'UniBo', (500, 300), font , fatore_di_scala, color_red , spessore)\n",
        "\n",
        "#stampa\n",
        "plt.imshow( text_image )\n",
        "plt.axis('off')  # Nasconde gli assi\n",
        "plt.title('Immagine con testo')\n",
        "plt.show()\n",
        "\n"
      ],
      "metadata": {
        "id": "be3HQ1UbUkVz"
      },
      "execution_count": null,
      "outputs": []
    },
    {
      "cell_type": "markdown",
      "source": [
        "**Maschera**\n",
        "\n",
        "maschera è un array multidimensionale di valori binari o in scala di grigi utilizzato per specificare le regioni di interesse in un'immagine o in un volume di dati.\n",
        "\n",
        "In appendimeno automatico viene utilizzata per vari scopi ad esempio\n",
        "\n",
        "*   Nelle loss functions\n",
        "*   Segmentazione semantica\n",
        "*   Inpainting\n",
        "*   Filtraggio mirato\n"
      ],
      "metadata": {
        "id": "ryISWY01U54t"
      }
    },
    {
      "cell_type": "code",
      "source": [
        "#Esempio: se volessi ottenere una maschera che mi da il testo unibo dall'immagine\n",
        "\n",
        "# Crea una maschera basata sul confronto tra l'immagine originale e il colore rosso\n",
        "color_red = [255,0,0]\n",
        "mask = (text_image == color_red).all(axis=2).astype(np.uint8)\n",
        "\n",
        "print(mask)\n",
        "print(f\"La shape di mask è {mask.shape}\")\n",
        "\n",
        "plt.imshow(mask)\n",
        "plt.axis('off')\n",
        "plt.title('Maschera del testo')\n",
        "plt.show()"
      ],
      "metadata": {
        "id": "5fKB3ldeU5iI"
      },
      "execution_count": null,
      "outputs": []
    },
    {
      "cell_type": "markdown",
      "source": [
        "**Impainting**\n",
        "\n"
      ],
      "metadata": {
        "id": "p7TPl4f87Jzh"
      }
    },
    {
      "cell_type": "code",
      "source": [
        "# Esegui l'inpainting\n",
        "# inpaintRadius specifica quanti pixel l'operazione di inpainting deve riempire attorno all'area specificata dalla maschera.\n",
        "# L'algoritmo di Telea per calcolare l'inpainting utilizza un'approccio basato su equazioni alle derivate parziali (PDE)\n",
        "\n",
        "image = text_image.copy().astype(np.uint8)\n",
        "mask = mask.copy().astype(np.uint8)\n",
        "\n",
        "inpainting_result = cv2.inpaint(image, mask, inpaintRadius=3, flags=cv2.INPAINT_TELEA)\n",
        "\n",
        "\n",
        "# Stampa\n",
        "image_list =[text_image,inpainting_result]\n",
        "titles = ['Prima', 'Dopo']\n",
        "fig, axes = plt.subplots(1, len(image_list), figsize=(16, 9))  # Crea una figura con le dimensioni appropriate\n",
        "\n",
        "for i, (image,title) in enumerate( zip( image_list,titles) ):\n",
        "        axes[i].imshow(image)\n",
        "        axes[i].axis('off')\n",
        "        axes[i].set_title(title)\n",
        "\n",
        "plt.subplots_adjust(wspace=0.05, hspace=0.2)  # Aggiusta lo spazio tra le immagini\n",
        "plt.show()\n"
      ],
      "metadata": {
        "id": "fq6tyl_V7kMD"
      },
      "execution_count": null,
      "outputs": []
    },
    {
      "cell_type": "markdown",
      "source": [
        "##GRAYSCALE"
      ],
      "metadata": {
        "id": "kCGSjhjvWim8"
      }
    },
    {
      "cell_type": "markdown",
      "source": [
        "La scala di grigi tratta principalmente immagini in bianco e nerò ed è quindi formato da un solo canale per rappresentare l'immagine in bianco e nero.\n",
        "Ci sono varie formule per passare da RGB alla gray. Vedremo la piu comune."
      ],
      "metadata": {
        "id": "cw6YSSjhWmJC"
      }
    },
    {
      "cell_type": "code",
      "source": [
        "##estraiamo i canali dall'immagine\n",
        "img= img_oppenheimer.copy()\n",
        "\n",
        "r = img[:,:,0]\n",
        "g = img[:,:,1]\n",
        "b = img[:,:,2]\n",
        "\n",
        "#NOTA equivalente a scrivere gray = np.mean( img, axis=2)\n",
        "\n",
        "#facciamo la media dei 3 canali\n",
        "new_gray = (r//3 + g//3 + b//3)\n",
        "\n",
        "plt.imshow(new_gray, cmap=\"gray\")\n",
        "plt.axis('off')\n",
        "plt.title('Grayscale con la media')\n",
        "plt.show()\n"
      ],
      "metadata": {
        "id": "DBaYk2_tWlvr"
      },
      "execution_count": null,
      "outputs": []
    },
    {
      "cell_type": "code",
      "source": [
        "#Torniamo indietro\n",
        "\n",
        "# Torna ai canali R, G e B\n",
        "r = new_gray\n",
        "g = new_gray\n",
        "b = new_gray\n",
        "rgb_image = np.stack([r,g,b], axis=-1)\n",
        "\n",
        "\n",
        "print( rgb_image.shape)\n",
        "\n",
        "# Visualizza l'immagine RGB\n",
        "plt.imshow( rgb_image)\n",
        "plt.axis('off')\n",
        "plt.title('RGB')\n",
        "plt.show()\n",
        "\n",
        "#perchè non è a colori ?"
      ],
      "metadata": {
        "id": "2l8sR29dNoez"
      },
      "execution_count": null,
      "outputs": []
    },
    {
      "cell_type": "markdown",
      "source": [
        "## HSV"
      ],
      "metadata": {
        "id": "pmHh-VzzWnCH"
      }
    },
    {
      "cell_type": "markdown",
      "source": [
        "**Recap HSV** usa tre numeri:\n",
        "- Hue: ovvero la tinta tra i colori dell'arcobaleno (0 = rosso, 255 = violetto)\n",
        "- Saturation: ovvero quanto i colori sono \"vividi\" (0 = colori sbiaditi, 255 = colori accesi)\n",
        "- Value: (nota anche come Brightness), ovvero la luminosità (0 = scuro, 255 = chiaro)\n"
      ],
      "metadata": {
        "id": "-Pk36fJ5BL6Z"
      }
    },
    {
      "cell_type": "code",
      "source": [
        "img = img_oppenheimer.copy()\n",
        "\n",
        "# Converti l'immagine RGB in HSV\n",
        "image_hsv = cv2.cvtColor(img, cv2.COLOR_BGR2HSV)\n",
        "\n",
        "\n",
        "\n",
        "# Modifica la luminosità\n",
        "\n",
        "hsv_brightened = image_hsv.copy().astype(np.uint16)\n",
        "brightness = 50\n",
        "hsv_brightened[:,:,2] =  np.clip( hsv_brightened[:,:,2] + brightness, 0,255)\n",
        "hsv_brightened= hsv_brightened.astype(np.uint8)\n",
        "\n",
        "\n",
        "#Modifica la saturazione\n",
        "hsv_saturated = image_hsv.copy().astype(np.uint16)\n",
        "saturation_factor = 55\n",
        "hsv_saturated[:,:,1] = (hsv_saturated[:,:,1] + saturation_factor).clip( 0,255)\n",
        "hsv_saturated = hsv_saturated.astype(np.uint8)\n",
        "\n",
        "\n",
        "# Visualizza le immagini\n",
        "# Stampa\n",
        "image_list =[image_hsv, hsv_brightened, hsv_saturated]\n",
        "\n",
        "titles = ['Immagine Iniziale', 'Piu luminosa', 'Piu satura']\n",
        "fig, axes = plt.subplots(1, len(image_list), figsize=(16, 9))  # Crea una figura con le dimensioni appropriate\n",
        "\n",
        "for i, (image_hsv, title) in enumerate(zip(image_list, titles)):\n",
        "    img_bgr = cv2.cvtColor(image_hsv, cv2.COLOR_HSV2BGR)\n",
        "    axes[i].imshow(img_bgr)\n",
        "    axes[i].axis('off')\n",
        "    axes[i].set_title(title)\n",
        "\n",
        "plt.subplots_adjust(wspace=0.05, hspace=0.2)  # Aggiusta lo spazio tra le immagini\n",
        "plt.show()\n"
      ],
      "metadata": {
        "id": "N7IWXk8ZWody"
      },
      "execution_count": null,
      "outputs": []
    },
    {
      "cell_type": "markdown",
      "source": [
        "Esercizio per casa:\n",
        "\n",
        "\n",
        "> Effettua un interpolazione fra due immagini hsv. Attenzione l'effetto di interpolazione è maggiore. Perchè?\n"
      ],
      "metadata": {
        "id": "gYdY8yT4_Tbw"
      }
    },
    {
      "cell_type": "code",
      "source": [
        "def hsv_interpolate(image1, image2, coefficient):\n",
        "    raise NotImplementedError(\"Function not implementated\")\n",
        "\n",
        "\n",
        "img1 = img_oppenheimer.copy()\n",
        "img2 = img_dog.copy()\n",
        "coefficient=0.5\n",
        "\n",
        "interpolated_hsv = hsv_interpolate( img1, img2, coefficient )\n",
        "\n",
        "# Stampa\n",
        "image_list =[img1, img2, interpolated_hsv ]\n",
        "titles = ['Immagine1', 'Immagine2', 'Interpolazione']\n",
        "\n",
        "fig, axes = plt.subplots(1, len(image_list), figsize=(16, 9))  # Crea una figura con le dimensioni appropriate\n",
        "\n",
        "for i, (image,title) in enumerate( zip( image_list,titles) ):\n",
        "        axes[i].imshow( cv2.cvtColor(image, cv2.COLOR_HSV2BGR) )\n",
        "        axes[i].axis('off')\n",
        "        axes[i].set_title(title)\n",
        "\n",
        "plt.subplots_adjust(wspace=0.05, hspace=0.2)  # Aggiusta lo spazio tra le immagini\n",
        "plt.show()\n",
        "\n"
      ],
      "metadata": {
        "id": "cR8zBwVBH2e2"
      },
      "execution_count": null,
      "outputs": []
    },
    {
      "cell_type": "markdown",
      "source": [
        "---\n",
        "Fine.\n",
        "\n",
        "```\n",
        "# Any Questions ?\n",
        "\n",
        "```\n",
        "\n",
        "Grazie per l'attenzione"
      ],
      "metadata": {
        "id": "BaxCnjZKWpa7"
      }
    }
  ]
}