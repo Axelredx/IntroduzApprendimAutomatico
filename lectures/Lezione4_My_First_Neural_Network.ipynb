{
  "nbformat": 4,
  "nbformat_minor": 0,
  "metadata": {
    "colab": {
      "provenance": []
    },
    "kernelspec": {
      "name": "python3",
      "display_name": "Python 3"
    },
    "language_info": {
      "name": "python"
    }
  },
  "cells": [
    {
      "cell_type": "markdown",
      "source": [
        "Lezione 4 - My First Neural Network\n",
        "\n",
        "\n",
        "\n",
        "*   Tensorflow and Keras\n",
        "*   My First Neural Network\n",
        "\n"
      ],
      "metadata": {
        "id": "Jqed09ApoNET"
      }
    },
    {
      "cell_type": "markdown",
      "source": [],
      "metadata": {
        "id": "crNyfBmoWGJt"
      }
    },
    {
      "cell_type": "markdown",
      "source": [
        "#Tensorflow\n",
        "\n",
        "\n",
        "*   Nata come proggetto interno a Google (DistBelief), sviluppato da Google Brain nel 2011.\n",
        "*   Codice rilasciato **open source nel 2015** con licenza Apache License 2.0.\n",
        "*   **Keras** diventa interfaccia principale dal 2019 con **TensorFlow 2.0**\n",
        "*   Il suo principale concorrente è Pytorch, creato da Facebook."
      ],
      "metadata": {
        "id": "53AMLlVjo-O0"
      }
    },
    {
      "cell_type": "markdown",
      "source": [
        "##Tensorflow in pratica\n",
        "\n",
        "Nasce come framework per svolgere calcolo differenziale sui tensori.\n",
        "Simile a numpy quindi però ha delle features in piu quali:\n",
        "\n",
        "Riesce ad esegure anche su GPUs e TPUs.\n",
        "Fa calcolo differenziale e quindi può computare direttamente qualsiasi equazione differenziabile di tensori.\n",
        "La computazione può essere distribuita verso un grande numero di dispositivi o su una singola macchina o un grande numero di macchine ( potenzialmente con molti devices in ognuno)\n",
        "\n",
        "\n",
        "E quindi Oggi tensorflow è diventata una end-to-end machine learning platform:\n",
        "\n",
        "*   Metodi per preparare e caricare i dati.\n",
        "*   Metodi per costruire modelli di ML.\n",
        "*   Metodi per il deploy di ML\n",
        "*   Metodi per mettere in produzione un modello di ML.\n",
        "\n"
      ],
      "metadata": {
        "id": "vbnKhiX6rZCs"
      }
    },
    {
      "cell_type": "markdown",
      "source": [
        "##TF strenghts\n",
        "\n",
        "\n",
        "1.   Efficiently executing low-level tensor operations on CPU, GPU, or TPU.\n",
        "\n",
        "2.   Computing the gradient of arbitrary differentiable expressions.\n",
        "\n",
        "3.   Scaling computation to many devices, such as clusters of hundreds of GPUs.\n",
        "\n",
        "4.   Exporting programs (\"graphs\") to external runtimes such as servers, browsers, mobile and embedded devices.\n"
      ],
      "metadata": {
        "id": "Q8VNqYo2vhSI"
      }
    },
    {
      "cell_type": "markdown",
      "source": [
        "#Keras\n",
        "Keras consente di costruire, addestrare e valutare reti neurali in modo efficiente e flessibile tramite un interfaccia di alto livello molto flessibile e facile da usare.\n",
        "\n",
        "E' la api di default per TensorFlow, questo vuol dire che quando una rete neurale in keras, stiamo creando un modello di tensorflow.\n",
        "\n",
        "> [Keras Ecosystem](https://keras.io/getting_started/ecosystem/)\n"
      ],
      "metadata": {
        "id": "nQNxertLuWzR"
      }
    },
    {
      "cell_type": "markdown",
      "source": [
        "##Create a Keras model\n"
      ],
      "metadata": {
        "id": "px066gpuzthP"
      }
    },
    {
      "cell_type": "markdown",
      "source": [
        "**Functional API**"
      ],
      "metadata": {
        "id": "FpD3--IC3TQ5"
      }
    },
    {
      "cell_type": "code",
      "source": [
        "from keras.layers import Input, Dense\n",
        "from keras.models import Model\n",
        "\n",
        "def build_neural_network():\n",
        "  in_layer = Input(shape=(4,), name=\"Input_Layer\")\n",
        "  x = Dense(units=128, activation='relu', name=\"Hidden_Layer_1\")(in_layer)\n",
        "  x = Dense(units=64, activation='relu', name=\"Hidden_Layer_2\")(x)\n",
        "  x = Dense(units=32, activation='relu', name=\"Hidden_Layer_3\")(x)\n",
        "  out_layer = Dense(units=10, activation='softmax',name=\"Output_Layer\")(x)\n",
        "  model = Model(inputs=in_layer, outputs=out_layer, name=\"MyFirstNeuralNetwork\")\n",
        "  return model\n",
        "\n",
        "model = build_neural_network()"
      ],
      "metadata": {
        "id": "49u_qpah2XQD"
      },
      "execution_count": 85,
      "outputs": []
    },
    {
      "cell_type": "code",
      "source": [
        "model.summary()"
      ],
      "metadata": {
        "colab": {
          "base_uri": "https://localhost:8080/",
          "height": 289
        },
        "id": "n-TWAt8iAO57",
        "outputId": "899a53db-f2d7-46bb-ad3b-14f4e5339919"
      },
      "execution_count": 86,
      "outputs": [
        {
          "output_type": "display_data",
          "data": {
            "text/plain": [
              "\u001b[1mModel: \"MyFirstNeuralNetwork\"\u001b[0m\n"
            ],
            "text/html": [
              "<pre style=\"white-space:pre;overflow-x:auto;line-height:normal;font-family:Menlo,'DejaVu Sans Mono',consolas,'Courier New',monospace\"><span style=\"font-weight: bold\">Model: \"MyFirstNeuralNetwork\"</span>\n",
              "</pre>\n"
            ]
          },
          "metadata": {}
        },
        {
          "output_type": "display_data",
          "data": {
            "text/plain": [
              "┏━━━━━━━━━━━━━━━━━━━━━━━━━━━━━━━━━━━━━━┳━━━━━━━━━━━━━━━━━━━━━━━━━━━━━┳━━━━━━━━━━━━━━━━━┓\n",
              "┃\u001b[1m \u001b[0m\u001b[1mLayer (type)                        \u001b[0m\u001b[1m \u001b[0m┃\u001b[1m \u001b[0m\u001b[1mOutput Shape               \u001b[0m\u001b[1m \u001b[0m┃\u001b[1m \u001b[0m\u001b[1m        Param #\u001b[0m\u001b[1m \u001b[0m┃\n",
              "┡━━━━━━━━━━━━━━━━━━━━━━━━━━━━━━━━━━━━━━╇━━━━━━━━━━━━━━━━━━━━━━━━━━━━━╇━━━━━━━━━━━━━━━━━┩\n",
              "│ Input_Layer (\u001b[38;5;33mInputLayer\u001b[0m)             │ (\u001b[38;5;45mNone\u001b[0m, \u001b[38;5;34m4\u001b[0m)                   │               \u001b[38;5;34m0\u001b[0m │\n",
              "├──────────────────────────────────────┼─────────────────────────────┼─────────────────┤\n",
              "│ Hidden_Layer_1 (\u001b[38;5;33mDense\u001b[0m)               │ (\u001b[38;5;45mNone\u001b[0m, \u001b[38;5;34m128\u001b[0m)                 │             \u001b[38;5;34m640\u001b[0m │\n",
              "├──────────────────────────────────────┼─────────────────────────────┼─────────────────┤\n",
              "│ Hidden_Layer_2 (\u001b[38;5;33mDense\u001b[0m)               │ (\u001b[38;5;45mNone\u001b[0m, \u001b[38;5;34m64\u001b[0m)                  │           \u001b[38;5;34m8,256\u001b[0m │\n",
              "├──────────────────────────────────────┼─────────────────────────────┼─────────────────┤\n",
              "│ Hidden_Layer_3 (\u001b[38;5;33mDense\u001b[0m)               │ (\u001b[38;5;45mNone\u001b[0m, \u001b[38;5;34m32\u001b[0m)                  │           \u001b[38;5;34m2,080\u001b[0m │\n",
              "├──────────────────────────────────────┼─────────────────────────────┼─────────────────┤\n",
              "│ Output_Layer (\u001b[38;5;33mDense\u001b[0m)                 │ (\u001b[38;5;45mNone\u001b[0m, \u001b[38;5;34m10\u001b[0m)                  │             \u001b[38;5;34m330\u001b[0m │\n",
              "└──────────────────────────────────────┴─────────────────────────────┴─────────────────┘\n"
            ],
            "text/html": [
              "<pre style=\"white-space:pre;overflow-x:auto;line-height:normal;font-family:Menlo,'DejaVu Sans Mono',consolas,'Courier New',monospace\">┏━━━━━━━━━━━━━━━━━━━━━━━━━━━━━━━━━━━━━━┳━━━━━━━━━━━━━━━━━━━━━━━━━━━━━┳━━━━━━━━━━━━━━━━━┓\n",
              "┃<span style=\"font-weight: bold\"> Layer (type)                         </span>┃<span style=\"font-weight: bold\"> Output Shape                </span>┃<span style=\"font-weight: bold\">         Param # </span>┃\n",
              "┡━━━━━━━━━━━━━━━━━━━━━━━━━━━━━━━━━━━━━━╇━━━━━━━━━━━━━━━━━━━━━━━━━━━━━╇━━━━━━━━━━━━━━━━━┩\n",
              "│ Input_Layer (<span style=\"color: #0087ff; text-decoration-color: #0087ff\">InputLayer</span>)             │ (<span style=\"color: #00d7ff; text-decoration-color: #00d7ff\">None</span>, <span style=\"color: #00af00; text-decoration-color: #00af00\">4</span>)                   │               <span style=\"color: #00af00; text-decoration-color: #00af00\">0</span> │\n",
              "├──────────────────────────────────────┼─────────────────────────────┼─────────────────┤\n",
              "│ Hidden_Layer_1 (<span style=\"color: #0087ff; text-decoration-color: #0087ff\">Dense</span>)               │ (<span style=\"color: #00d7ff; text-decoration-color: #00d7ff\">None</span>, <span style=\"color: #00af00; text-decoration-color: #00af00\">128</span>)                 │             <span style=\"color: #00af00; text-decoration-color: #00af00\">640</span> │\n",
              "├──────────────────────────────────────┼─────────────────────────────┼─────────────────┤\n",
              "│ Hidden_Layer_2 (<span style=\"color: #0087ff; text-decoration-color: #0087ff\">Dense</span>)               │ (<span style=\"color: #00d7ff; text-decoration-color: #00d7ff\">None</span>, <span style=\"color: #00af00; text-decoration-color: #00af00\">64</span>)                  │           <span style=\"color: #00af00; text-decoration-color: #00af00\">8,256</span> │\n",
              "├──────────────────────────────────────┼─────────────────────────────┼─────────────────┤\n",
              "│ Hidden_Layer_3 (<span style=\"color: #0087ff; text-decoration-color: #0087ff\">Dense</span>)               │ (<span style=\"color: #00d7ff; text-decoration-color: #00d7ff\">None</span>, <span style=\"color: #00af00; text-decoration-color: #00af00\">32</span>)                  │           <span style=\"color: #00af00; text-decoration-color: #00af00\">2,080</span> │\n",
              "├──────────────────────────────────────┼─────────────────────────────┼─────────────────┤\n",
              "│ Output_Layer (<span style=\"color: #0087ff; text-decoration-color: #0087ff\">Dense</span>)                 │ (<span style=\"color: #00d7ff; text-decoration-color: #00d7ff\">None</span>, <span style=\"color: #00af00; text-decoration-color: #00af00\">10</span>)                  │             <span style=\"color: #00af00; text-decoration-color: #00af00\">330</span> │\n",
              "└──────────────────────────────────────┴─────────────────────────────┴─────────────────┘\n",
              "</pre>\n"
            ]
          },
          "metadata": {}
        },
        {
          "output_type": "display_data",
          "data": {
            "text/plain": [
              "\u001b[1m Total params: \u001b[0m\u001b[38;5;34m11,306\u001b[0m (44.16 KB)\n"
            ],
            "text/html": [
              "<pre style=\"white-space:pre;overflow-x:auto;line-height:normal;font-family:Menlo,'DejaVu Sans Mono',consolas,'Courier New',monospace\"><span style=\"font-weight: bold\"> Total params: </span><span style=\"color: #00af00; text-decoration-color: #00af00\">11,306</span> (44.16 KB)\n",
              "</pre>\n"
            ]
          },
          "metadata": {}
        },
        {
          "output_type": "display_data",
          "data": {
            "text/plain": [
              "\u001b[1m Trainable params: \u001b[0m\u001b[38;5;34m11,306\u001b[0m (44.16 KB)\n"
            ],
            "text/html": [
              "<pre style=\"white-space:pre;overflow-x:auto;line-height:normal;font-family:Menlo,'DejaVu Sans Mono',consolas,'Courier New',monospace\"><span style=\"font-weight: bold\"> Trainable params: </span><span style=\"color: #00af00; text-decoration-color: #00af00\">11,306</span> (44.16 KB)\n",
              "</pre>\n"
            ]
          },
          "metadata": {}
        },
        {
          "output_type": "display_data",
          "data": {
            "text/plain": [
              "\u001b[1m Non-trainable params: \u001b[0m\u001b[38;5;34m0\u001b[0m (0.00 B)\n"
            ],
            "text/html": [
              "<pre style=\"white-space:pre;overflow-x:auto;line-height:normal;font-family:Menlo,'DejaVu Sans Mono',consolas,'Courier New',monospace\"><span style=\"font-weight: bold\"> Non-trainable params: </span><span style=\"color: #00af00; text-decoration-color: #00af00\">0</span> (0.00 B)\n",
              "</pre>\n"
            ]
          },
          "metadata": {}
        }
      ]
    },
    {
      "cell_type": "markdown",
      "source": [
        "**Class Inerithance mode**"
      ],
      "metadata": {
        "id": "DpVv6nfRzXzX"
      }
    },
    {
      "cell_type": "code",
      "source": [
        "import tensorflow as tf\n",
        "from tensorflow import keras\n",
        "\n",
        "class MyNeuralNetwork(keras.Model):\n",
        "    def __init__(self):\n",
        "        super(MyNeuralNetwork, self).__init__()\n",
        "        self.dense1 = keras.layers.Dense(64, activation='relu', name=\"Dense1\")\n",
        "        self.dense2 = keras.layers.Dense(32, activation='relu', name=\"Dense2\")\n",
        "        self.dense3 = keras.layers.Dense(32, activation='relu', name=\"Dense3\")\n",
        "        self.dense4 = keras.layers.Dense(10, activation='softmax')\n",
        "\n",
        "    def call(self, inputs):\n",
        "        x = self.dense1(inputs)\n",
        "        x = self.dense2(x)\n",
        "        x = self.dense3(x)\n",
        "        x = self.dense4(x)\n",
        "        return x\n",
        "\n",
        "model = MyNeuralNetwork()"
      ],
      "metadata": {
        "id": "McrK8oLA2Yp3"
      },
      "execution_count": 87,
      "outputs": []
    },
    {
      "cell_type": "markdown",
      "source": [
        "**Sequantial mode**"
      ],
      "metadata": {
        "id": "HDBo3PC7Tcxm"
      }
    },
    {
      "cell_type": "code",
      "source": [
        "model = keras.Sequential(\n",
        "    [\n",
        "        keras.layers.Dense(2, activation=\"relu\", name=\"layer1\"),\n",
        "        keras.layers.Dense(3, activation=\"relu\", name=\"layer2\"),\n",
        "        keras.layers.Dense(4, name=\"layer3\"),\n",
        "    ]\n",
        ")"
      ],
      "metadata": {
        "id": "PKVqGz5mTgvn"
      },
      "execution_count": 88,
      "outputs": []
    },
    {
      "cell_type": "markdown",
      "source": [
        "##Layers"
      ],
      "metadata": {
        "id": "c9efhzYoTRfe"
      }
    },
    {
      "cell_type": "markdown",
      "source": [
        "A single perceptron is made of:"
      ],
      "metadata": {
        "id": "CdfcOlGEY-sD"
      }
    },
    {
      "cell_type": "markdown",
      "source": [
        "![PERCEPTRON](https://drive.google.com/uc?id=1aCVcbcOYQCzyqRdftlclmqfoUXtOsu6M )"
      ],
      "metadata": {
        "id": "ImaTbbxcZE0m"
      }
    },
    {
      "cell_type": "markdown",
      "source": [
        "**L'algoritmo di backpropagation in un nustshell:**\n",
        "\n",
        "*   Dati gli input calcola tutti gli output pesati e le attivazioni per ogni layer.\n",
        "*   Calcola l'errore per l'ultimo layer usando la funzione di costo.\n",
        "*   Propaga l'informazione all'indietro calcolando layer per layer il gradiente dell'errore rispetto ai pesi e ai bias.\n",
        "*   Usa un algorimto di ottimizzazione come il gradient descent per aggiornare bias e pesi dal gradiente calcolato.\n"
      ],
      "metadata": {
        "id": "5HrWqShrQu6a"
      }
    },
    {
      "cell_type": "markdown",
      "source": [
        "[TensorFlowPlayground](https://playground.tensorflow.org/#activation=sigmoid&regularization=L2&batchSize=11&dataset=spiral&regDataset=reg-plane&learningRate=0.001&regularizationRate=0&noise=50&networkShape=2,1&seed=0.16959&showTestData=true&discretize=true&percTrainData=50&x=true&y=true&xTimesY=false&xSquared=true&ySquared=true&cosX=false&sinX=false&cosY=false&sinY=false&collectStats=false&problem=classification&initZero=false&hideText=false)\n",
        "\n",
        "\n",
        "[Blog](https://cloud.google.com/blog/products/ai-machine-learning-understanding-neural-networks-with-tensorflow-playground)\n",
        "\n",
        "Un esmepio di Fully connected layer di keras.\n",
        "\n",
        "*   Units.\n",
        "*   Kernel e Bias.\n",
        "*   Activation Function.\n",
        "\n",
        "Quindi vediamo come sono organizzati e come possiamo usarli"
      ],
      "metadata": {
        "id": "iDFReiFJU0lW"
      }
    },
    {
      "cell_type": "code",
      "source": [
        "import tensorflow as tf\n",
        "from keras.layers import Dense\n",
        "from keras.regularizers import l1, l2, l1_l2\n",
        "from keras.constraints import MinMaxNorm, NonNeg\n",
        "\n",
        "\n",
        "layer = Dense(\n",
        "    units=32,\n",
        "    activation=\"relu\",\n",
        "    use_bias=True,\n",
        "\n",
        "    #Inizializzazione dei pesi\n",
        "    kernel_initializer=tf.keras.initializers.Ones(),\n",
        "    bias_initializer=tf.keras.initializers.Zeros(),\n",
        "\n",
        "    #Regolarizzatori\n",
        "    kernel_regularizer=l1(l1=0.01), #Regolarizzazione Lasso, l1 * reduce_sum(abs(x))\n",
        "    bias_regularizer=l2(l2=0.01),   #Regolarizzazione Ridge, l2 * reduce_sum(square(x))\n",
        "    activity_regularizer=l1_l2(l1=0.01, l2=0.01), #penalty = l1 * reduce_sum(abs(x)) + l2*reduce_sum(square(x))\n",
        "\n",
        "    #Vincoli\n",
        "    kernel_constraint=MinMaxNorm(min_value=0.0, max_value=1.0),\n",
        "    bias_constraint=NonNeg()\n",
        ")\n"
      ],
      "metadata": {
        "id": "9U662HOUTTc-"
      },
      "execution_count": 89,
      "outputs": []
    },
    {
      "cell_type": "markdown",
      "source": [
        "\n",
        "*   Gli initializer determinano come vengono inizializzati i pesi della rete influenzando la convergenza dell'addestramento.\n",
        "\n",
        "*   I regularizer in Keras servono per controllare l'overfitting nei modelli\n",
        "neurali,ad esempio aggiungendo una penalità ai pesi della rete durante l'addestramento indirettamente si modifica l'output rendendolo piu generale.\n",
        "\n",
        "*    I constraints su intervalli, possono migliorare la stabilità del modello."
      ],
      "metadata": {
        "id": "GjuRCiCz2ozH"
      }
    },
    {
      "cell_type": "markdown",
      "source": [
        "### Overfitting\n",
        "L'overfitting in deep learning avviene quando un modello addestrato ha una prestazione eccellente ai dati di addestramento, al punto da perdere la sua capacità di generalizzazione su nuovi dati, dove invece si riscontra una prestazione significativamente peggiore.\n",
        "\n",
        "Cause possibili di overfitting:\n",
        "\n",
        "- Modello troppo intelligente, riduci la sua complessità.\n",
        "- Scarso volume di dati, aumentali.\n",
        "- Scarsa qualità nei dati: rumore o errori possono confondere il modello.\n",
        "\n",
        "L'obiettivo è trovare un equilibrio tra l'adattamento ai dati di addestramento e la capacità di generalizzazione su nuovi dati."
      ],
      "metadata": {
        "id": "4TyxXPyc2ox9"
      }
    },
    {
      "cell_type": "markdown",
      "source": [
        "##Training"
      ],
      "metadata": {
        "id": "fi8RYLcbzpU0"
      }
    },
    {
      "cell_type": "markdown",
      "source": [
        "Compilare il modello prima di chiamare il fit"
      ],
      "metadata": {
        "id": "cRdFgZCKEHMv"
      }
    },
    {
      "cell_type": "code",
      "source": [
        "### Training Hyperparamenters\n",
        "epochs_num=100\n",
        "batch_size=32\n",
        "lr = 0.0001\n",
        "opt = ...\n",
        "loss_fun = ...\n",
        "metrics_list = [..., ..., ...]\n",
        "\n",
        "def create_model():\n",
        "  # return build_neural_network()\n",
        "  return MyNeuralNetwork()\n",
        "\n",
        "#model = create_model()\n",
        "#model.compile( loss=loss_fun, optimizer=opt, metrics=metrics_list )\n",
        "#model.fit( x_train, y_train, epochs=epochs_num, batch_size=batch_size, validation_data=(x_valid,y_valid) )"
      ],
      "metadata": {
        "id": "ecct9KcqqOgg"
      },
      "execution_count": 90,
      "outputs": []
    },
    {
      "cell_type": "markdown",
      "source": [
        "Il metodo \"compile\" richiede almeno due componenti essenziali senza i quali il fit non può funzionare:\n",
        "\n",
        "*   Loss Function: La funzione serve a comparare i valori target con l'output del modello e quantifica l'errore che the optimizer tenta di minimizzare.\n",
        "\n",
        "*   Optimizer: componente che determina le regole per cui fare l'update dei pesi del modello durante il training.\n",
        "\n",
        "Il metodo compile inoltre può prendere altri parametri opzionali come le metriche che forniscono un monitoring delle performance del modello durante il training."
      ],
      "metadata": {
        "id": "jTlDj3PZHxt7"
      }
    },
    {
      "cell_type": "markdown",
      "source": [
        "**Optimizers**..https://www.tensorflow.org/api_docs/python/tf/keras/optimizers\n",
        "\n",
        "Questo processo di aggiornamento dei pesi può essere basato su varie tecniche di ottimizzazione:\n",
        "\n",
        "- SGD = discesa del gradiente stocastica.\n",
        "- Adam= Adaptive Moment Estimation.\n",
        "- RMSProp= root mean square propagation.\n",
        "- ...\n",
        "\n",
        "Keras mette a disposizione le implementazioni degli algoritmi degli optimizers."
      ],
      "metadata": {
        "id": "R3XkKN3I8g6d"
      }
    },
    {
      "cell_type": "code",
      "source": [
        "from keras.optimizers import SGD, Adam, AdamW, RMSprop,schedules\n",
        "\n",
        "#possiamo definire l'algorimto usando il nome\n",
        "optimizer=\"adam\"\n",
        "optimizer=\"sgd\"\n",
        "optimizer=\"rmsp\"\n",
        "\n",
        "#keras implementa gli algo di opt, ognuno ha i suoi iperparamentri.\n",
        "sgd = SGD(learning_rate=0.01)\n",
        "adam = Adam(learning_rate=0.01)\n",
        "adamw = AdamW(learning_rate=0.01)\n",
        "rmsprop = RMSprop(learning_rate=0.001)\n",
        "\n",
        "#keras implementa diversi algoritmi di learning rate scheduling:\n",
        "lr_schedule_exp = schedules.ExponentialDecay(initial_learning_rate=1e-2, decay_steps=10000, decay_rate=0.9)\n",
        "lr_schedule_pol = schedules.PolynomialDecay(initial_learning_rate=1e-2,decay_steps=10000,end_learning_rate=0.0001)\n",
        "lr_schedule_cos = schedules.CosineDecay(initial_learning_rate=1e-2, decay_steps=10000, alpha=0.0)\n",
        "\n",
        "optimizer = AdamW( learning_rate=lr_schedule_cos )"
      ],
      "metadata": {
        "id": "7duLw5Fk8gHg"
      },
      "execution_count": 91,
      "outputs": []
    },
    {
      "cell_type": "markdown",
      "source": [
        "**Loss Functions**...\n",
        "- https://keras.io/api/losses/\n",
        "\n"
      ],
      "metadata": {
        "id": "u9Uy-ObrIjJh"
      }
    },
    {
      "cell_type": "code",
      "source": [
        "from keras.losses import MeanSquaredError,MeanAbsoluteError,BinaryCrossentropy,KLDivergence,Huber,Loss\n",
        "\n",
        "# Dati di esempio\n",
        "y_true = tf.constant([0.0, 1.0, 1.0, 0.0])\n",
        "y_pred = tf.constant([0.1, 0.9, 0.8, 0.2])\n",
        "\n",
        "class CustomLoss(Loss):\n",
        "    def __init__(self, name=\"custom_loss\"):\n",
        "        super(CustomLoss, self).__init__(name=name)\n",
        "    def call(self, y_true, y_pred):\n",
        "        return tf.reduce_mean(tf.square(y_true - y_pred))\n",
        "\n",
        "\n",
        "def custom_loss_fun(y_true, y_pred):\n",
        "    return tf.reduce_mean(tf.square(y_true - y_pred))\n",
        "\n",
        "\n",
        "#Regressions\n",
        "mse = MeanSquaredError()\n",
        "mse_loss = mse(y_true, y_pred)\n",
        "\n",
        "\n",
        "mae = MeanAbsoluteError()\n",
        "mae_loss = mae(y_true, y_pred)\n",
        "\n",
        "#Comportamento quadratico per piccoli errori, lineare per grandi errori\n",
        "huber= Huber()\n",
        "huber_loss = huber(y_true, y_pred)\n",
        "\n",
        "\n",
        "#Probability Based\n",
        "kl = KLDivergence()\n",
        "kl_loss = kl(y_true, y_pred)\n",
        "\n",
        "\n",
        "costum = CustomLoss()\n",
        "custom_loss_function = custom_loss_fun(y_true, y_pred)\n",
        "class_loss = costum(y_true, y_pred)\n",
        "\n",
        "\n",
        "print(\"Mean Squared Error:\", mse_loss)\n",
        "print(\"Mean Absolute Error:\", mae_loss)\n",
        "print(\"KL Divergence:\", kl_loss)\n",
        "print(\"Huber Loss:\", huber_loss)\n",
        "print(\"Custom Loss (Using a Function):\", custom_loss_function)\n",
        "print(\"Custom Loss (Subclassing Loss):\", class_loss)"
      ],
      "metadata": {
        "colab": {
          "base_uri": "https://localhost:8080/"
        },
        "id": "q2xiIsyFSL3R",
        "outputId": "a95787ee-2c4f-47ca-e648-dba3781a0a23"
      },
      "execution_count": 92,
      "outputs": [
        {
          "output_type": "stream",
          "name": "stdout",
          "text": [
            "Mean Squared Error: tf.Tensor(0.025000002, shape=(), dtype=float32)\n",
            "Mean Absolute Error: tf.Tensor(0.15, shape=(), dtype=float32)\n",
            "KL Divergence: tf.Tensor(0.32850125, shape=(), dtype=float32)\n",
            "Huber Loss: tf.Tensor(0.012500001, shape=(), dtype=float32)\n",
            "Custom Loss (Using a Function): tf.Tensor(0.025000002, shape=(), dtype=float32)\n",
            "Custom Loss (Subclassing Loss): tf.Tensor(0.025000002, shape=(), dtype=float32)\n"
          ]
        }
      ]
    },
    {
      "cell_type": "markdown",
      "source": [
        "### Vediamo il grafico di qualche funzione di Loss"
      ],
      "metadata": {
        "id": "aAop_376kcta"
      }
    },
    {
      "cell_type": "code",
      "source": [
        "import numpy as np\n",
        "import tensorflow as tf\n",
        "import matplotlib.pyplot as plt\n",
        "\n",
        "\n",
        "\n",
        "# Crea una gamma di valori di errore tra y_true e y_pred\n",
        "error_range = np.linspace(-3, 3, 500)\n",
        "y_true = np.zeros_like(error_range)  # y_true è zero per semplicità\n",
        "y_pred = error_range  # y_pred varia per simulare l'errore\n",
        "\n",
        "# Calcolo delle perdite punto per punto\n",
        "mse = tf.keras.losses.MeanSquaredError()\n",
        "mse_loss = [mse(np.asarray([yt]), np.asarray([yp])).numpy() for yt, yp in zip(y_true, y_pred)]\n",
        "\n",
        "mae = tf.keras.losses.MeanAbsoluteError()\n",
        "mae_loss = [mae(np.asarray([yt]), np.asarray([yp])).numpy() for yt, yp in zip(y_true, y_pred)]\n",
        "\n",
        "huber = tf.keras.losses.Huber(delta=2.0)\n",
        "huber_loss = [huber(np.asarray([yt]), np.asarray([yp])).numpy() for yt, yp in zip(y_true, y_pred)]\n",
        "\n",
        "\n",
        "# Creazione del grafico\n",
        "plt.figure(figsize=(12, 6))\n",
        "plt.plot(error_range, mse_loss, label=\"MSE\")\n",
        "plt.plot(error_range, mae_loss, label=\"MAE\")\n",
        "plt.plot(error_range, huber_loss, label=\"Huber\")\n",
        "plt.xlabel(\"Prediction Error (y_pred - y_true)\")\n",
        "plt.ylabel(\"Loss Value\")\n",
        "plt.title(\"Comparison of Different Loss Functions\")\n",
        "plt.legend()\n",
        "plt.grid(True)\n",
        "plt.show()"
      ],
      "metadata": {
        "colab": {
          "base_uri": "https://localhost:8080/",
          "height": 564
        },
        "id": "roANnV7i7CEc",
        "outputId": "f20647c3-684b-4d20-eead-2c48b1440c23"
      },
      "execution_count": 93,
      "outputs": [
        {
          "output_type": "display_data",
          "data": {
            "text/plain": [
              "<Figure size 1200x600 with 1 Axes>"
            ],
            "image/png": "[encoded data removed]"
          },
          "metadata": {}
        }
      ]
    },
    {
      "cell_type": "code",
      "source": [
        "import numpy as np\n",
        "import tensorflow as tf\n",
        "from keras.losses import CategoricalCrossentropy, SparseCategoricalCrossentropy\n",
        "\n",
        "# Etichette di classe iniziali\n",
        "y_true_indices = np.array([0, 1, 2, 1, 0])\n",
        "\n",
        "# Trova i valori unici\n",
        "unique_values, _ = tf.unique(y_true_indices)\n",
        "# Calcola il numero di elementi distinti\n",
        "num_classes = tf.size(unique_values)\n",
        "\n",
        "#Converti in one hot encoding\n",
        "y_true_one_hot = tf.one_hot(y_true_indices, depth=num_classes)\n",
        "\n",
        "# Probabilità predette per ciascuna classe\n",
        "y_pred = np.array([[0.8, 0.1, 0.1],\n",
        "                   [0.2, 0.7, 0.1],\n",
        "                   [0.1, 0.2, 0.7],\n",
        "                   [0.3, 0.6, 0.1],\n",
        "                   [0.7, 0.2, 0.1]])\n",
        "\n",
        "\n",
        "cce_fun = CategoricalCrossentropy()\n",
        "loss_cce = cce_fun(y_true_one_hot, y_pred)\n",
        "\n",
        "\n",
        "sce_fun = SparseCategoricalCrossentropy()\n",
        "loss_sce = sce_fun(y_true_indices, y_pred)\n",
        "\n",
        "print(\"Loss con CategoricalCrossentropy:\", loss_cce.numpy() )\n",
        "print(\"Loss con SparseCategoricalCrossentropy:\", loss_sce.numpy() )"
      ],
      "metadata": {
        "id": "iUpndwafOIws"
      },
      "execution_count": null,
      "outputs": []
    },
    {
      "cell_type": "markdown",
      "source": [
        "**Metrics**...\n",
        "*   https://keras.io/api/metrics/\n"
      ],
      "metadata": {
        "id": "rnI16uMlES9q"
      }
    },
    {
      "cell_type": "code",
      "source": [
        "from keras.metrics import Accuracy, Precision,Recall, F1Score, MeanAbsolutePercentageError\n",
        "accuracy = Accuracy()\n",
        "precision = Precision()\n",
        "recall = Recall()\n",
        "f1_score = F1Score()\n",
        "mae_percentage = MeanAbsolutePercentageError()\n",
        "\n",
        "#sklearn, scipy e altre, possono aiutare."
      ],
      "metadata": {
        "id": "T-FFtlTpHAok"
      },
      "execution_count": 95,
      "outputs": []
    },
    {
      "cell_type": "markdown",
      "source": [
        "Esempio"
      ],
      "metadata": {
        "id": "AP_dd3ojgSGi"
      }
    },
    {
      "cell_type": "code",
      "source": [
        "# Dati di esempio\n",
        "y_true = tf.constant([[0.0], [1.0], [1.0], [0.0]], dtype=tf.float32)\n",
        "y_pred = tf.constant([[0.0],[1.0], [1.0], [1.0]], dtype=tf.float32)\n",
        "\n",
        "\n",
        "accuracy.update_state(y_true, y_pred)\n",
        "precision.update_state(y_true, y_pred)\n",
        "recall.update_state(y_true, y_pred)\n",
        "f1_score.update_state(y_true, y_pred)\n",
        "\n",
        "# Metrica di regressione\n",
        "mae_percentage = MeanAbsolutePercentageError()\n",
        "mae_percentage.update_state(y_true, y_pred)\n",
        "\n",
        "\n",
        "# Ottieni i risultati delle metriche\n",
        "accuracy_result = accuracy.result().numpy()\n",
        "precision_result = precision.result().numpy()\n",
        "recall_result = recall.result().numpy()\n",
        "f1_score_result = f1_score.result().numpy()\n",
        "\n",
        "print(\"Accuracy:\", accuracy_result)\n",
        "print(\"Precision:\", precision_result) #riduce i falsi positivi\n",
        "print(\"Recall:\", recall_result) #riduce i falsi negativi\n",
        "print(\"F1 Score:\", f1_score_result)"
      ],
      "metadata": {
        "colab": {
          "base_uri": "https://localhost:8080/"
        },
        "id": "PNKvDiF7gS8t",
        "outputId": "b453b32c-0437-48ef-c89d-5c7e56d5383e"
      },
      "execution_count": 96,
      "outputs": [
        {
          "output_type": "stream",
          "name": "stdout",
          "text": [
            "Accuracy: 0.75\n",
            "Precision: 0.6666667\n",
            "Recall: 1.0\n",
            "F1 Score: [0.79999995]\n"
          ]
        }
      ]
    },
    {
      "cell_type": "markdown",
      "source": [
        "Tutto insieme"
      ],
      "metadata": {
        "id": "de4aLrw9nZcK"
      }
    },
    {
      "cell_type": "code",
      "source": [
        "import tensorflow as tf\n",
        "import keras\n",
        "import numpy as np\n",
        "from sklearn.datasets import load_iris\n",
        "from sklearn.model_selection import train_test_split\n",
        "from sklearn.preprocessing import MinMaxScaler\n",
        "from keras.layers import Input, Dense\n",
        "from keras.models import Model\n",
        "from keras.optimizers import AdamW,Adam\n",
        "from keras.losses import CategoricalCrossentropy\n",
        "from keras.metrics import CategoricalAccuracy\n",
        "\n",
        "\n",
        "\n",
        "def load_and_preprocess_iris_dataset( test_split, valid_split, seed):\n",
        "    # Carica il dataset Iris\n",
        "    iris = load_iris()\n",
        "\n",
        "    # Estrai le features e le etichette\n",
        "    X = iris.data\n",
        "    y = iris.target\n",
        "    unique_values, _ = tf.unique(y)\n",
        "\n",
        "    no_classes = tf.size(unique_values) # Trova il numero di classi uniche nel vettore delle etichette\n",
        "\n",
        "    #Simple preprocessing\n",
        "    scaler = MinMaxScaler()\n",
        "    X = scaler.fit_transform(X)\n",
        "    # y_encoded = tf.one_hot(y, depth=no_classes)\n",
        "\n",
        "    # Suddivisione stratificata in set di addestramento e test\n",
        "    X_train, X_test, y_train, y_test = train_test_split(X, y, test_size=test_split, random_state=seed, stratify=y)\n",
        "    X_train, X_val, y_train, y_val = train_test_split(X_train, y_train, test_size=valid_split, random_state=seed, stratify=y_train)\n",
        "\n",
        "    y_train = tf.one_hot(y_train, depth=no_classes)\n",
        "    y_val = tf.one_hot(y_val, depth=no_classes)\n",
        "    y_test =  tf.one_hot(y_test, depth=no_classes)\n",
        "\n",
        "    print(\"Dataset Info:\")\n",
        "    print(f\"Class labels = {unique_values}\")\n",
        "    print(f\"X_Training set shape = {tf.shape(X_train)}\")\n",
        "    print(f\"X_Validation set shape = {tf.shape(X_val)}\")\n",
        "    print(f\"X_Test set shape = {tf.shape(X_test)}\")\n",
        "    print(f\"min features value {tf.reduce_min(X_train)}\")\n",
        "    print(f\"max features value {tf.reduce_max(X_train)}\")\n",
        "    return (X_train,y_train),(X_val,y_val),(X_test,y_test)\n",
        "\n",
        "\n",
        "\n",
        "##Hyperparamenters\n",
        "seed = 42\n",
        "np.random.seed(seed)\n",
        "tf.random.set_seed(seed)\n",
        "tf.config.experimental.enable_op_determinism() #influenza le prestazioni\n",
        "\n",
        "\n",
        "data_input_shape=(4,)\n",
        "data_output_shape=3\n",
        "lr = 0.001\n",
        "opt=Adam( learning_rate = lr)\n",
        "# opt = AdamW(learning_rate=lr, weight_decay=0.01)\n",
        "loss_fun = CategoricalCrossentropy()\n",
        "accuracy = CategoricalAccuracy(name=\"acc\")\n",
        "\n",
        "num_epochs=30\n",
        "batch_size=2\n",
        "\n",
        "(X_train, y_train), (X_val, y_val), (X_test, y_test), = load_and_preprocess_iris_dataset(test_split=0.2, valid_split=0.125, seed=seed)\n",
        "\n",
        "\n",
        "def my_first_neural_network(input_shape, output_shape ):\n",
        "    # Input layer\n",
        "    input_layer = Input(shape=input_shape)\n",
        "\n",
        "    # Hidden layers with more neurons\n",
        "    x = Dense(8, activation='relu')(input_layer)\n",
        "    x = Dense(8, activation='relu')(x)\n",
        "\n",
        "    # Output layer\n",
        "    output_layer = Dense(output_shape, activation='softmax')(x)\n",
        "\n",
        "    model = Model(inputs=input_layer, outputs=output_layer)\n",
        "    return model\n",
        "\n",
        "\n",
        "model_b = my_first_neural_network(input_shape=data_input_shape, output_shape=data_output_shape)\n",
        "\n",
        "model_b.compile(loss=loss_fun, optimizer=opt, metrics=[ accuracy ])\n",
        "# model.summary()\n",
        "\n",
        "# Addestramento del modello\n",
        "history = model_b.fit(X_train, y_train, validation_data=(X_val, y_val), epochs=num_epochs, batch_size=batch_size, shuffle=True)"
      ],
      "metadata": {
        "colab": {
          "base_uri": "https://localhost:8080/"
        },
        "id": "8BgnfMyEnbAe",
        "outputId": "8f255754-578e-42f4-bc2e-54dbcbd1e3f7"
      },
      "execution_count": 97,
      "outputs": [
        {
          "output_type": "stream",
          "name": "stdout",
          "text": [
            "Dataset Info:\n",
            "Class labels = [0 1 2]\n",
            "X_Training set shape = [105   4]\n",
            "X_Validation set shape = [15  4]\n",
            "X_Test set shape = [30  4]\n",
            "min features value 0.0\n",
            "max features value 1.0\n",
            "Epoch 1/30\n",
            "\u001b[1m53/53\u001b[0m \u001b[32m━━━━━━━━━━━━━━━━━━━━\u001b[0m\u001b[37m\u001b[0m \u001b[1m2s\u001b[0m 11ms/step - acc: 0.3383 - loss: 1.0647 - val_acc: 0.3333 - val_loss: 1.0449\n",
            "Epoch 2/30\n",
            "\u001b[1m53/53\u001b[0m \u001b[32m━━━━━━━━━━━━━━━━━━━━\u001b[0m\u001b[37m\u001b[0m \u001b[1m0s\u001b[0m 4ms/step - acc: 0.3383 - loss: 1.0256 - val_acc: 0.3333 - val_loss: 0.9840\n",
            "Epoch 3/30\n",
            "\u001b[1m53/53\u001b[0m \u001b[32m━━━━━━━━━━━━━━━━━━━━\u001b[0m\u001b[37m\u001b[0m \u001b[1m0s\u001b[0m 3ms/step - acc: 0.3383 - loss: 0.9768 - val_acc: 0.3333 - val_loss: 0.9225\n",
            "Epoch 4/30\n",
            "\u001b[1m53/53\u001b[0m \u001b[32m━━━━━━━━━━━━━━━━━━━━\u001b[0m\u001b[37m\u001b[0m \u001b[1m0s\u001b[0m 2ms/step - acc: 0.3756 - loss: 0.9259 - val_acc: 0.5333 - val_loss: 0.8677\n",
            "Epoch 5/30\n",
            "\u001b[1m53/53\u001b[0m \u001b[32m━━━━━━━━━━━━━━━━━━━━\u001b[0m\u001b[37m\u001b[0m \u001b[1m0s\u001b[0m 2ms/step - acc: 0.6392 - loss: 0.8791 - val_acc: 0.7333 - val_loss: 0.8195\n",
            "Epoch 6/30\n",
            "\u001b[1m53/53\u001b[0m \u001b[32m━━━━━━━━━━━━━━━━━━━━\u001b[0m\u001b[37m\u001b[0m \u001b[1m0s\u001b[0m 2ms/step - acc: 0.7728 - loss: 0.8373 - val_acc: 0.8000 - val_loss: 0.7792\n",
            "Epoch 7/30\n",
            "\u001b[1m53/53\u001b[0m \u001b[32m━━━━━━━━━━━━━━━━━━━━\u001b[0m\u001b[37m\u001b[0m \u001b[1m0s\u001b[0m 3ms/step - acc: 0.7542 - loss: 0.8004 - val_acc: 0.8000 - val_loss: 0.7481\n",
            "Epoch 8/30\n",
            "\u001b[1m53/53\u001b[0m \u001b[32m━━━━━━━━━━━━━━━━━━━━\u001b[0m\u001b[37m\u001b[0m \u001b[1m0s\u001b[0m 2ms/step - acc: 0.7988 - loss: 0.7699 - val_acc: 0.8667 - val_loss: 0.7235\n",
            "Epoch 9/30\n",
            "\u001b[1m53/53\u001b[0m \u001b[32m━━━━━━━━━━━━━━━━━━━━\u001b[0m\u001b[37m\u001b[0m \u001b[1m0s\u001b[0m 3ms/step - acc: 0.7967 - loss: 0.7445 - val_acc: 0.8667 - val_loss: 0.7044\n",
            "Epoch 10/30\n",
            "\u001b[1m53/53\u001b[0m \u001b[32m━━━━━━━━━━━━━━━━━━━━\u001b[0m\u001b[37m\u001b[0m \u001b[1m0s\u001b[0m 2ms/step - acc: 0.7834 - loss: 0.7231 - val_acc: 0.8667 - val_loss: 0.6882\n",
            "Epoch 11/30\n",
            "\u001b[1m53/53\u001b[0m \u001b[32m━━━━━━━━━━━━━━━━━━━━\u001b[0m\u001b[37m\u001b[0m \u001b[1m0s\u001b[0m 3ms/step - acc: 0.7834 - loss: 0.7044 - val_acc: 0.8667 - val_loss: 0.6739\n",
            "Epoch 12/30\n",
            "\u001b[1m53/53\u001b[0m \u001b[32m━━━━━━━━━━━━━━━━━━━━\u001b[0m\u001b[37m\u001b[0m \u001b[1m0s\u001b[0m 2ms/step - acc: 0.7909 - loss: 0.6879 - val_acc: 0.8667 - val_loss: 0.6610\n",
            "Epoch 13/30\n",
            "\u001b[1m53/53\u001b[0m \u001b[32m━━━━━━━━━━━━━━━━━━━━\u001b[0m\u001b[37m\u001b[0m \u001b[1m0s\u001b[0m 2ms/step - acc: 0.7877 - loss: 0.6725 - val_acc: 0.8667 - val_loss: 0.6489\n",
            "Epoch 14/30\n",
            "\u001b[1m53/53\u001b[0m \u001b[32m━━━━━━━━━━━━━━━━━━━━\u001b[0m\u001b[37m\u001b[0m \u001b[1m0s\u001b[0m 2ms/step - acc: 0.8222 - loss: 0.6583 - val_acc: 0.9333 - val_loss: 0.6375\n",
            "Epoch 15/30\n",
            "\u001b[1m53/53\u001b[0m \u001b[32m━━━━━━━━━━━━━━━━━━━━\u001b[0m\u001b[37m\u001b[0m \u001b[1m0s\u001b[0m 2ms/step - acc: 0.8292 - loss: 0.6448 - val_acc: 0.9333 - val_loss: 0.6263\n",
            "Epoch 16/30\n",
            "\u001b[1m53/53\u001b[0m \u001b[32m━━━━━━━━━━━━━━━━━━━━\u001b[0m\u001b[37m\u001b[0m \u001b[1m0s\u001b[0m 3ms/step - acc: 0.8564 - loss: 0.6317 - val_acc: 0.9333 - val_loss: 0.6154\n",
            "Epoch 17/30\n",
            "\u001b[1m53/53\u001b[0m \u001b[32m━━━━━━━━━━━━━━━━━━━━\u001b[0m\u001b[37m\u001b[0m \u001b[1m0s\u001b[0m 2ms/step - acc: 0.8586 - loss: 0.6190 - val_acc: 0.9333 - val_loss: 0.6045\n",
            "Epoch 18/30\n",
            "\u001b[1m53/53\u001b[0m \u001b[32m━━━━━━━━━━━━━━━━━━━━\u001b[0m\u001b[37m\u001b[0m \u001b[1m0s\u001b[0m 2ms/step - acc: 0.8968 - loss: 0.6057 - val_acc: 0.8667 - val_loss: 0.5934\n",
            "Epoch 19/30\n",
            "\u001b[1m53/53\u001b[0m \u001b[32m━━━━━━━━━━━━━━━━━━━━\u001b[0m\u001b[37m\u001b[0m \u001b[1m0s\u001b[0m 3ms/step - acc: 0.8808 - loss: 0.5916 - val_acc: 0.8667 - val_loss: 0.5821\n",
            "Epoch 20/30\n",
            "\u001b[1m53/53\u001b[0m \u001b[32m━━━━━━━━━━━━━━━━━━━━\u001b[0m\u001b[37m\u001b[0m \u001b[1m0s\u001b[0m 2ms/step - acc: 0.8912 - loss: 0.5772 - val_acc: 0.8667 - val_loss: 0.5703\n",
            "Epoch 21/30\n",
            "\u001b[1m53/53\u001b[0m \u001b[32m━━━━━━━━━━━━━━━━━━━━\u001b[0m\u001b[37m\u001b[0m \u001b[1m0s\u001b[0m 2ms/step - acc: 0.8729 - loss: 0.5619 - val_acc: 0.8000 - val_loss: 0.5581\n",
            "Epoch 22/30\n",
            "\u001b[1m53/53\u001b[0m \u001b[32m━━━━━━━━━━━━━━━━━━━━\u001b[0m\u001b[37m\u001b[0m \u001b[1m0s\u001b[0m 3ms/step - acc: 0.8020 - loss: 0.5461 - val_acc: 0.8000 - val_loss: 0.5459\n",
            "Epoch 23/30\n",
            "\u001b[1m53/53\u001b[0m \u001b[32m━━━━━━━━━━━━━━━━━━━━\u001b[0m\u001b[37m\u001b[0m \u001b[1m0s\u001b[0m 2ms/step - acc: 0.7989 - loss: 0.5305 - val_acc: 0.8000 - val_loss: 0.5337\n",
            "Epoch 24/30\n",
            "\u001b[1m53/53\u001b[0m \u001b[32m━━━━━━━━━━━━━━━━━━━━\u001b[0m\u001b[37m\u001b[0m \u001b[1m0s\u001b[0m 2ms/step - acc: 0.7866 - loss: 0.5152 - val_acc: 0.8000 - val_loss: 0.5217\n",
            "Epoch 25/30\n",
            "\u001b[1m53/53\u001b[0m \u001b[32m━━━━━━━━━━━━━━━━━━━━\u001b[0m\u001b[37m\u001b[0m \u001b[1m0s\u001b[0m 2ms/step - acc: 0.7866 - loss: 0.5005 - val_acc: 0.8000 - val_loss: 0.5101\n",
            "Epoch 26/30\n",
            "\u001b[1m53/53\u001b[0m \u001b[32m━━━━━━━━━━━━━━━━━━━━\u001b[0m\u001b[37m\u001b[0m \u001b[1m0s\u001b[0m 2ms/step - acc: 0.7866 - loss: 0.4864 - val_acc: 0.8000 - val_loss: 0.4990\n",
            "Epoch 27/30\n",
            "\u001b[1m53/53\u001b[0m \u001b[32m━━━━━━━━━━━━━━━━━━━━\u001b[0m\u001b[37m\u001b[0m \u001b[1m0s\u001b[0m 2ms/step - acc: 0.7866 - loss: 0.4735 - val_acc: 0.8000 - val_loss: 0.4886\n",
            "Epoch 28/30\n",
            "\u001b[1m53/53\u001b[0m \u001b[32m━━━━━━━━━━━━━━━━━━━━\u001b[0m\u001b[37m\u001b[0m \u001b[1m0s\u001b[0m 2ms/step - acc: 0.7866 - loss: 0.4617 - val_acc: 0.8000 - val_loss: 0.4786\n",
            "Epoch 29/30\n",
            "\u001b[1m53/53\u001b[0m \u001b[32m━━━━━━━━━━━━━━━━━━━━\u001b[0m\u001b[37m\u001b[0m \u001b[1m0s\u001b[0m 3ms/step - acc: 0.7866 - loss: 0.4508 - val_acc: 0.8000 - val_loss: 0.4694\n",
            "Epoch 30/30\n",
            "\u001b[1m53/53\u001b[0m \u001b[32m━━━━━━━━━━━━━━━━━━━━\u001b[0m\u001b[37m\u001b[0m \u001b[1m0s\u001b[0m 2ms/step - acc: 0.7866 - loss: 0.4410 - val_acc: 0.8000 - val_loss: 0.4605\n"
          ]
        }
      ]
    },
    {
      "cell_type": "markdown",
      "source": [
        "Grazie ad history, tornato dal fit, possiamo monitorare e visualizzare il comportamento del modello durante il training e questo ci permette di fare il tuning degli iperparamentri.\n",
        "Ad esempio, di seguito plottiamo i risultati..."
      ],
      "metadata": {
        "id": "mj-TJ4FHsXlE"
      }
    },
    {
      "cell_type": "code",
      "source": [
        "import matplotlib.pyplot as plt\n",
        "\n",
        "def plot_training_history(history, num_epochs):\n",
        "\n",
        "    # Estrai la loss di training e validation\n",
        "    training_loss = history.history['loss']\n",
        "    validation_loss = history.history['val_loss']\n",
        "\n",
        "    # Estrai le metriche di training e validation\n",
        "    training_metrics = history.history['acc']\n",
        "    validation_metrics = history.history['val_acc']\n",
        "\n",
        "    # Crea un grafico\n",
        "    epochs = range(1, num_epochs + 1)\n",
        "    plt.figure(figsize=(12, 4))\n",
        "\n",
        "    plt.subplot(1, 2, 1)\n",
        "    plt.plot(epochs, training_loss, label='Training Loss')\n",
        "    plt.plot(epochs, validation_loss, label='Validation Loss')\n",
        "    plt.title('Loss')\n",
        "    plt.xlabel('Epochs')\n",
        "    plt.legend()\n",
        "\n",
        "    plt.subplot(1, 2, 2)\n",
        "    plt.plot(epochs, training_metrics, label='Training Accuracy')\n",
        "    plt.plot(epochs, validation_metrics, label='Validation Accuracy')\n",
        "    plt.title('Accuracy')\n",
        "    plt.xlabel('Epochs')\n",
        "    plt.legend()\n",
        "\n",
        "    plt.tight_layout()\n",
        "    plt.show()\n",
        "\n",
        "\n",
        "plot_training_history(history, num_epochs)"
      ],
      "metadata": {
        "colab": {
          "base_uri": "https://localhost:8080/",
          "height": 382
        },
        "id": "UWmfu9SMsXEk",
        "outputId": "1b9ad38c-9bc1-4f9d-8533-e7903497055e"
      },
      "execution_count": 98,
      "outputs": [
        {
          "output_type": "display_data",
          "data": {
            "text/plain": [
              "<Figure size 1200x400 with 2 Axes>"
            ],
            "image/png": "[encoded data removed]"
          },
          "metadata": {}
        }
      ]
    },
    {
      "cell_type": "markdown",
      "source": [
        "Aumentiamo il livello di difficoltà e facciamoci una nostra categorical loss entropy"
      ],
      "metadata": {
        "id": "gtIDpj8u3nlG"
      }
    },
    {
      "cell_type": "markdown",
      "source": [
        "\n",
        "\n",
        "$$\n",
        "L(y_{\\text{true}}, y_{\\text{pred}}) = - \\frac{1}{N} \\sum_{j=1}^{N} \\sum_{i=1}^{C} y_{\\text{true},ij} \\cdot \\log(y_{\\text{pred},ij})\n",
        "$$\n",
        "\n",
        "dove:\n",
        "- $( y_{\\text{true}} $) : rappresenta le etichette reali in formato one-hot (un vettore di zeri con un solo uno per classe),\n",
        "- $( y_{\\text{pred}} $) : rappresenta le probabilità previste per ciascuna classe, dopo essere state scalate per evitare instabilità numeriche,\n",
        "- $( C $) : è il numero delle classi.\n",
        "- $( N $) è il numero totale delle osservazioni,\n",
        "\n",
        "La cross-entropy misura la differenza tra le probabilità vere e quelle previste, penalizzando maggiormente le previsioni lontane dalle etichette reali e favorendo probabilità elevate per le classi corrette.\n"
      ],
      "metadata": {
        "id": "ZbzvLdCG1-U-"
      }
    },
    {
      "cell_type": "code",
      "source": [
        "# Definizione della funzione di perdita personalizzata\n",
        "def my_categorical_crossentropy(y_true, y_pred):\n",
        "    epsilon = 1e-8  # Aggiunto per evitare divisione per zero\n",
        "    y_pred = tf.clip_by_value(y_pred, epsilon, 1.0 - epsilon)  # Clip delle probabilità che devono essere comprese tra [0,1]\n",
        "    losses = -tf.reduce_sum(y_true * tf.math.log(y_pred), axis=-1)\n",
        "    return tf.reduce_mean(losses)\n",
        "\n",
        "lr = 0.001\n",
        "opt=Adam( learning_rate = lr)\n",
        "\n",
        "model = my_first_neural_network(input_shape=data_input_shape, output_shape=data_output_shape)\n",
        "model.compile(loss=my_categorical_crossentropy, optimizer=opt, metrics=[ accuracy ])\n",
        "\n",
        "history = model.fit(X_train, y_train, validation_data=(X_val, y_val), epochs=num_epochs, batch_size=batch_size)\n",
        "plot_training_history(history, num_epochs)"
      ],
      "metadata": {
        "colab": {
          "base_uri": "https://localhost:8080/",
          "height": 1000
        },
        "id": "-A2Xvo5s3s66",
        "outputId": "224338ea-c764-439d-a9ae-b1b73d0a03c6"
      },
      "execution_count": 99,
      "outputs": [
        {
          "output_type": "stream",
          "name": "stdout",
          "text": [
            "Epoch 1/30\n",
            "\u001b[1m53/53\u001b[0m \u001b[32m━━━━━━━━━━━━━━━━━━━━\u001b[0m\u001b[37m\u001b[0m \u001b[1m1s\u001b[0m 6ms/step - acc: 0.4931 - loss: 1.1036 - val_acc: 0.6667 - val_loss: 1.0580\n",
            "Epoch 2/30\n",
            "\u001b[1m53/53\u001b[0m \u001b[32m━━━━━━━━━━━━━━━━━━━━\u001b[0m\u001b[37m\u001b[0m \u001b[1m0s\u001b[0m 2ms/step - acc: 0.7296 - loss: 1.0436 - val_acc: 0.6667 - val_loss: 1.0124\n",
            "Epoch 3/30\n",
            "\u001b[1m53/53\u001b[0m \u001b[32m━━━━━━━━━━━━━━━━━━━━\u001b[0m\u001b[37m\u001b[0m \u001b[1m0s\u001b[0m 2ms/step - acc: 0.7296 - loss: 0.9948 - val_acc: 0.6667 - val_loss: 0.9700\n",
            "Epoch 4/30\n",
            "\u001b[1m53/53\u001b[0m \u001b[32m━━━━━━━━━━━━━━━━━━━━\u001b[0m\u001b[37m\u001b[0m \u001b[1m0s\u001b[0m 3ms/step - acc: 0.7440 - loss: 0.9486 - val_acc: 0.6667 - val_loss: 0.9243\n",
            "Epoch 5/30\n",
            "\u001b[1m53/53\u001b[0m \u001b[32m━━━━━━━━━━━━━━━━━━━━\u001b[0m\u001b[37m\u001b[0m \u001b[1m0s\u001b[0m 4ms/step - acc: 0.7440 - loss: 0.8995 - val_acc: 0.6667 - val_loss: 0.8716\n",
            "Epoch 6/30\n",
            "\u001b[1m53/53\u001b[0m \u001b[32m━━━━━━━━━━━━━━━━━━━━\u001b[0m\u001b[37m\u001b[0m \u001b[1m0s\u001b[0m 4ms/step - acc: 0.7440 - loss: 0.8442 - val_acc: 0.6667 - val_loss: 0.8157\n",
            "Epoch 7/30\n",
            "\u001b[1m53/53\u001b[0m \u001b[32m━━━━━━━━━━━━━━━━━━━━\u001b[0m\u001b[37m\u001b[0m \u001b[1m0s\u001b[0m 3ms/step - acc: 0.7440 - loss: 0.7887 - val_acc: 0.6667 - val_loss: 0.7598\n",
            "Epoch 8/30\n",
            "\u001b[1m53/53\u001b[0m \u001b[32m━━━━━━━━━━━━━━━━━━━━\u001b[0m\u001b[37m\u001b[0m \u001b[1m0s\u001b[0m 3ms/step - acc: 0.7440 - loss: 0.7319 - val_acc: 0.6667 - val_loss: 0.7052\n",
            "Epoch 9/30\n",
            "\u001b[1m53/53\u001b[0m \u001b[32m━━━━━━━━━━━━━━━━━━━━\u001b[0m\u001b[37m\u001b[0m \u001b[1m0s\u001b[0m 4ms/step - acc: 0.7440 - loss: 0.6780 - val_acc: 0.6667 - val_loss: 0.6521\n",
            "Epoch 10/30\n",
            "\u001b[1m53/53\u001b[0m \u001b[32m━━━━━━━━━━━━━━━━━━━━\u001b[0m\u001b[37m\u001b[0m \u001b[1m0s\u001b[0m 4ms/step - acc: 0.7440 - loss: 0.6272 - val_acc: 0.6667 - val_loss: 0.6043\n",
            "Epoch 11/30\n",
            "\u001b[1m53/53\u001b[0m \u001b[32m━━━━━━━━━━━━━━━━━━━━\u001b[0m\u001b[37m\u001b[0m \u001b[1m0s\u001b[0m 4ms/step - acc: 0.7440 - loss: 0.5815 - val_acc: 0.6667 - val_loss: 0.5623\n",
            "Epoch 12/30\n",
            "\u001b[1m53/53\u001b[0m \u001b[32m━━━━━━━━━━━━━━━━━━━━\u001b[0m\u001b[37m\u001b[0m \u001b[1m0s\u001b[0m 4ms/step - acc: 0.7632 - loss: 0.5419 - val_acc: 0.6667 - val_loss: 0.5269\n",
            "Epoch 13/30\n",
            "\u001b[1m53/53\u001b[0m \u001b[32m━━━━━━━━━━━━━━━━━━━━\u001b[0m\u001b[37m\u001b[0m \u001b[1m0s\u001b[0m 5ms/step - acc: 0.7711 - loss: 0.5086 - val_acc: 0.8000 - val_loss: 0.4967\n",
            "Epoch 14/30\n",
            "\u001b[1m53/53\u001b[0m \u001b[32m━━━━━━━━━━━━━━━━━━━━\u001b[0m\u001b[37m\u001b[0m \u001b[1m0s\u001b[0m 4ms/step - acc: 0.7868 - loss: 0.4797 - val_acc: 0.9333 - val_loss: 0.4713\n",
            "Epoch 15/30\n",
            "\u001b[1m53/53\u001b[0m \u001b[32m━━━━━━━━━━━━━━━━━━━━\u001b[0m\u001b[37m\u001b[0m \u001b[1m0s\u001b[0m 2ms/step - acc: 0.8660 - loss: 0.4562 - val_acc: 0.9333 - val_loss: 0.4497\n",
            "Epoch 16/30\n",
            "\u001b[1m53/53\u001b[0m \u001b[32m━━━━━━━━━━━━━━━━━━━━\u001b[0m\u001b[37m\u001b[0m \u001b[1m0s\u001b[0m 2ms/step - acc: 0.8677 - loss: 0.4365 - val_acc: 0.9333 - val_loss: 0.4305\n",
            "Epoch 17/30\n",
            "\u001b[1m53/53\u001b[0m \u001b[32m━━━━━━━━━━━━━━━━━━━━\u001b[0m\u001b[37m\u001b[0m \u001b[1m0s\u001b[0m 2ms/step - acc: 0.9063 - loss: 0.4189 - val_acc: 1.0000 - val_loss: 0.4138\n",
            "Epoch 18/30\n",
            "\u001b[1m53/53\u001b[0m \u001b[32m━━━━━━━━━━━━━━━━━━━━\u001b[0m\u001b[37m\u001b[0m \u001b[1m0s\u001b[0m 3ms/step - acc: 0.9063 - loss: 0.4037 - val_acc: 1.0000 - val_loss: 0.3987\n",
            "Epoch 19/30\n",
            "\u001b[1m53/53\u001b[0m \u001b[32m━━━━━━━━━━━━━━━━━━━━\u001b[0m\u001b[37m\u001b[0m \u001b[1m0s\u001b[0m 2ms/step - acc: 0.9149 - loss: 0.3898 - val_acc: 1.0000 - val_loss: 0.3846\n",
            "Epoch 20/30\n",
            "\u001b[1m53/53\u001b[0m \u001b[32m━━━━━━━━━━━━━━━━━━━━\u001b[0m\u001b[37m\u001b[0m \u001b[1m0s\u001b[0m 3ms/step - acc: 0.9272 - loss: 0.3766 - val_acc: 1.0000 - val_loss: 0.3718\n",
            "Epoch 21/30\n",
            "\u001b[1m53/53\u001b[0m \u001b[32m━━━━━━━━━━━━━━━━━━━━\u001b[0m\u001b[37m\u001b[0m \u001b[1m0s\u001b[0m 3ms/step - acc: 0.9304 - loss: 0.3648 - val_acc: 1.0000 - val_loss: 0.3594\n",
            "Epoch 22/30\n",
            "\u001b[1m53/53\u001b[0m \u001b[32m━━━━━━━━━━━━━━━━━━━━\u001b[0m\u001b[37m\u001b[0m \u001b[1m0s\u001b[0m 3ms/step - acc: 0.9390 - loss: 0.3529 - val_acc: 1.0000 - val_loss: 0.3475\n",
            "Epoch 23/30\n",
            "\u001b[1m53/53\u001b[0m \u001b[32m━━━━━━━━━━━━━━━━━━━━\u001b[0m\u001b[37m\u001b[0m \u001b[1m0s\u001b[0m 2ms/step - acc: 0.9470 - loss: 0.3416 - val_acc: 1.0000 - val_loss: 0.3359\n",
            "Epoch 24/30\n",
            "\u001b[1m53/53\u001b[0m \u001b[32m━━━━━━━━━━━━━━━━━━━━\u001b[0m\u001b[37m\u001b[0m \u001b[1m0s\u001b[0m 2ms/step - acc: 0.9470 - loss: 0.3309 - val_acc: 1.0000 - val_loss: 0.3247\n",
            "Epoch 25/30\n",
            "\u001b[1m53/53\u001b[0m \u001b[32m━━━━━━━━━━━━━━━━━━━━\u001b[0m\u001b[37m\u001b[0m \u001b[1m0s\u001b[0m 2ms/step - acc: 0.9521 - loss: 0.3207 - val_acc: 1.0000 - val_loss: 0.3138\n",
            "Epoch 26/30\n",
            "\u001b[1m53/53\u001b[0m \u001b[32m━━━━━━━━━━━━━━━━━━━━\u001b[0m\u001b[37m\u001b[0m \u001b[1m0s\u001b[0m 2ms/step - acc: 0.9553 - loss: 0.3102 - val_acc: 1.0000 - val_loss: 0.3030\n",
            "Epoch 27/30\n",
            "\u001b[1m53/53\u001b[0m \u001b[32m━━━━━━━━━━━━━━━━━━━━\u001b[0m\u001b[37m\u001b[0m \u001b[1m0s\u001b[0m 2ms/step - acc: 0.9553 - loss: 0.2997 - val_acc: 1.0000 - val_loss: 0.2921\n",
            "Epoch 28/30\n",
            "\u001b[1m53/53\u001b[0m \u001b[32m━━━━━━━━━━━━━━━━━━━━\u001b[0m\u001b[37m\u001b[0m \u001b[1m0s\u001b[0m 2ms/step - acc: 0.9553 - loss: 0.2893 - val_acc: 1.0000 - val_loss: 0.2818\n",
            "Epoch 29/30\n",
            "\u001b[1m53/53\u001b[0m \u001b[32m━━━━━━━━━━━━━━━━━━━━\u001b[0m\u001b[37m\u001b[0m \u001b[1m0s\u001b[0m 2ms/step - acc: 0.9553 - loss: 0.2798 - val_acc: 1.0000 - val_loss: 0.2718\n",
            "Epoch 30/30\n",
            "\u001b[1m53/53\u001b[0m \u001b[32m━━━━━━━━━━━━━━━━━━━━\u001b[0m\u001b[37m\u001b[0m \u001b[1m0s\u001b[0m 2ms/step - acc: 0.9553 - loss: 0.2705 - val_acc: 1.0000 - val_loss: 0.2620\n"
          ]
        },
        {
          "output_type": "display_data",
          "data": {
            "text/plain": [
              "<Figure size 1200x400 with 2 Axes>"
            ],
            "image/png": "[encoded data removed]"
          },
          "metadata": {}
        }
      ]
    },
    {
      "cell_type": "markdown",
      "source": [
        "##Evaluate"
      ],
      "metadata": {
        "id": "82s5-diK7QAf"
      }
    },
    {
      "cell_type": "code",
      "source": [
        "(loss_value, acc_value) =  model.evaluate( X_val, y_val , batch_size=8 )\n",
        "\n",
        "print(f\"Val loss is {float(loss_value)}\")\n",
        "print(f\"Val Accuracy is {float(acc_value)}\")"
      ],
      "metadata": {
        "colab": {
          "base_uri": "https://localhost:8080/"
        },
        "id": "ftwE3E0s7S44",
        "outputId": "428e0fa1-e00c-4a10-d38c-89739fc0b4a8"
      },
      "execution_count": 100,
      "outputs": [
        {
          "output_type": "stream",
          "name": "stdout",
          "text": [
            "\u001b[1m2/2\u001b[0m \u001b[32m━━━━━━━━━━━━━━━━━━━━\u001b[0m\u001b[37m\u001b[0m \u001b[1m0s\u001b[0m 7ms/step - acc: 1.0000 - loss: 0.2531 \n",
            "Val loss is 0.2620413303375244\n",
            "Val Accuracy is 1.0\n"
          ]
        }
      ]
    },
    {
      "cell_type": "code",
      "source": [
        "(loss_value, acc_value) =  model.evaluate( X_test, y_test , batch_size=8 )\n",
        "\n",
        "print(f\"Test loss is {float(loss_value)}\")\n",
        "print(f\"Test Accuracy is {float(acc_value)}\")"
      ],
      "metadata": {
        "colab": {
          "base_uri": "https://localhost:8080/"
        },
        "id": "Qw9ND8-S8Edx",
        "outputId": "1a40ba20-281b-4af6-cc32-1c4d9e2a8df5"
      },
      "execution_count": 101,
      "outputs": [
        {
          "output_type": "stream",
          "name": "stdout",
          "text": [
            "\u001b[1m4/4\u001b[0m \u001b[32m━━━━━━━━━━━━━━━━━━━━\u001b[0m\u001b[37m\u001b[0m \u001b[1m0s\u001b[0m 3ms/step - acc: 0.9058 - loss: 0.2685 \n",
            "Test loss is 0.2909121811389923\n",
            "Test Accuracy is 0.8999999761581421\n"
          ]
        }
      ]
    },
    {
      "cell_type": "markdown",
      "source": [
        "##Predict"
      ],
      "metadata": {
        "id": "MKELvdjf76nm"
      }
    },
    {
      "cell_type": "code",
      "source": [
        "preds = model.predict( X_test, batch_size=8 )\n",
        "print( np.round( preds , 3 ) )\n",
        "\n",
        "results = np.argmax(preds, axis=1 )\n",
        "print(\"\\nPredicted Labels\")\n",
        "print( results )"
      ],
      "metadata": {
        "colab": {
          "base_uri": "https://localhost:8080/"
        },
        "id": "zVW22R32781t",
        "outputId": "275bc416-ae0b-4736-e250-16fe86582190"
      },
      "execution_count": 102,
      "outputs": [
        {
          "output_type": "stream",
          "name": "stderr",
          "text": [
            "WARNING:tensorflow:5 out of the last 9 calls to <function TensorFlowTrainer.make_predict_function.<locals>.one_step_on_data_distributed at 0x7bf92350cf70> triggered tf.function retracing. Tracing is expensive and the excessive number of tracings could be due to (1) creating @tf.function repeatedly in a loop, (2) passing tensors with different shapes, (3) passing Python objects instead of tensors. For (1), please define your @tf.function outside of the loop. For (2), @tf.function has reduce_retracing=True option that can avoid unnecessary retracing. For (3), please refer to https://www.tensorflow.org/guide/function#controlling_retracing and https://www.tensorflow.org/api_docs/python/tf/function for  more details.\n"
          ]
        },
        {
          "output_type": "stream",
          "name": "stdout",
          "text": [
            "\r\u001b[1m1/4\u001b[0m \u001b[32m━━━━━\u001b[0m\u001b[37m━━━━━━━━━━━━━━━\u001b[0m \u001b[1m0s\u001b[0m 99ms/step"
          ]
        },
        {
          "output_type": "stream",
          "name": "stderr",
          "text": [
            "WARNING:tensorflow:6 out of the last 12 calls to <function TensorFlowTrainer.make_predict_function.<locals>.one_step_on_data_distributed at 0x7bf92350cf70> triggered tf.function retracing. Tracing is expensive and the excessive number of tracings could be due to (1) creating @tf.function repeatedly in a loop, (2) passing tensors with different shapes, (3) passing Python objects instead of tensors. For (1), please define your @tf.function outside of the loop. For (2), @tf.function has reduce_retracing=True option that can avoid unnecessary retracing. For (3), please refer to https://www.tensorflow.org/guide/function#controlling_retracing and https://www.tensorflow.org/api_docs/python/tf/function for  more details.\n"
          ]
        },
        {
          "output_type": "stream",
          "name": "stdout",
          "text": [
            "\u001b[1m4/4\u001b[0m \u001b[32m━━━━━━━━━━━━━━━━━━━━\u001b[0m\u001b[37m\u001b[0m \u001b[1m1s\u001b[0m 148ms/step\n",
            "[[0.975 0.025 0.001]\n",
            " [0.003 0.51  0.488]\n",
            " [0.134 0.703 0.162]\n",
            " [0.101 0.706 0.193]\n",
            " [0.981 0.019 0.   ]\n",
            " [0.008 0.677 0.316]\n",
            " [0.99  0.009 0.   ]\n",
            " [0.976 0.024 0.   ]\n",
            " [0.001 0.362 0.637]\n",
            " [0.017 0.713 0.27 ]\n",
            " [0.    0.168 0.832]\n",
            " [0.    0.298 0.702]\n",
            " [0.    0.232 0.767]\n",
            " [0.009 0.686 0.305]\n",
            " [0.983 0.017 0.   ]\n",
            " [0.981 0.019 0.   ]\n",
            " [0.993 0.007 0.   ]\n",
            " [0.031 0.698 0.271]\n",
            " [0.007 0.61  0.383]\n",
            " [0.003 0.538 0.459]\n",
            " [0.988 0.012 0.   ]\n",
            " [0.    0.228 0.771]\n",
            " [0.006 0.598 0.396]\n",
            " [0.001 0.353 0.646]\n",
            " [0.    0.212 0.788]\n",
            " [0.002 0.451 0.547]\n",
            " [0.008 0.639 0.353]\n",
            " [0.983 0.017 0.   ]\n",
            " [0.001 0.365 0.634]\n",
            " [0.983 0.017 0.   ]]\n",
            "\n",
            "Predicted Labels\n",
            "[0 1 1 1 0 1 0 0 2 1 2 2 2 1 0 0 0 1 1 1 0 2 1 2 2 2 1 0 2 0]\n"
          ]
        }
      ]
    },
    {
      "cell_type": "code",
      "source": [
        "preds = model( X_test)\n",
        "results = np.argmax( preds, axis=1 )\n",
        "print(\"Predicted Labels\")\n",
        "print( results )"
      ],
      "metadata": {
        "colab": {
          "base_uri": "https://localhost:8080/"
        },
        "id": "AO2fFIAv-EnZ",
        "outputId": "43f5d3fe-00c3-457f-ca3b-fda14f33b266"
      },
      "execution_count": 103,
      "outputs": [
        {
          "output_type": "stream",
          "name": "stdout",
          "text": [
            "Predicted Labels\n",
            "[0 1 1 1 0 1 0 0 2 1 2 2 2 1 0 0 0 1 1 1 0 2 1 2 2 2 1 0 2 0]\n"
          ]
        }
      ]
    },
    {
      "cell_type": "markdown",
      "source": [
        "Diffrenza fra i due modi di fare inferenza è che uno chiama la classe call, invece il predict è specificamente progettato per fare inferenza. Infatti non ha un parametro batch_size"
      ],
      "metadata": {
        "id": "L5EgOsOx_qmu"
      }
    },
    {
      "cell_type": "markdown",
      "source": [
        "###Salvare e caricare i pesi di un modello"
      ],
      "metadata": {
        "id": "ZJ3SLvabBEII"
      }
    },
    {
      "cell_type": "code",
      "source": [
        "model.save_weights(\"nome_file.weights.h5\")\n",
        "model.load_weights(\"nome_file.weights.h5\")"
      ],
      "metadata": {
        "id": "0iPF8BLwBkVM"
      },
      "execution_count": 104,
      "outputs": []
    },
    {
      "cell_type": "markdown",
      "source": [
        "Attenzione state salvando o caricando solo i pesi del modello non la sua struttura."
      ],
      "metadata": {
        "id": "emCM0RAkC65g"
      }
    },
    {
      "cell_type": "code",
      "source": [
        "model_b.save(\"model.keras\")\n",
        "\n",
        "loaded_model = tf.keras.models.load_model(\"model.keras\")"
      ],
      "metadata": {
        "id": "N0zFYipbDXgp"
      },
      "execution_count": 105,
      "outputs": []
    },
    {
      "cell_type": "markdown",
      "source": [
        "Questo salva la sua struttura ma esistono altri metodi per farlo che non saranno discussi in questa lezione."
      ],
      "metadata": {
        "id": "0Z-q-3w_DyK6"
      }
    },
    {
      "cell_type": "markdown",
      "source": [
        "##Advanced Topics"
      ],
      "metadata": {
        "id": "bHNEKNRVAnaY"
      }
    },
    {
      "cell_type": "markdown",
      "source": [
        "###Custom Train"
      ],
      "metadata": {
        "id": "dRWXAUxyA8EG"
      }
    },
    {
      "cell_type": "markdown",
      "source": [
        "Eventualmente possiamo anche andare piu a basso livello ed allenare il modello usando il gradient tape."
      ],
      "metadata": {
        "id": "porB2XJa9olV"
      }
    },
    {
      "cell_type": "code",
      "source": [
        "##Loss function\n",
        "def my_categorical_crossentropy(y_true, y_pred):\n",
        "    epsilon = 1e-8  # Aggiunto per evitare divisione per zero\n",
        "    y_pred = tf.clip_by_value(y_pred, epsilon, 1.0 - epsilon)  # Clip delle probabilità\n",
        "    losses = -tf.reduce_sum(y_true * tf.math.log(y_pred), axis=-1)\n",
        "    return tf.reduce_mean(losses)\n",
        "\n",
        "\n",
        "def train_step(x,y):\n",
        "\n",
        "  with tf.GradientTape() as tape: #E' un context che \"registra\" le operazioni e poi de alloca la memoria\n",
        "      # forward process\n",
        "      predictions = model(x)\n",
        "      # Calcola la loss\n",
        "      loss = my_categorical_crossentropy(y, predictions)\n",
        "\n",
        "  # Calcola i gradienti\n",
        "  gradients = tape.gradient(loss, model.trainable_variables)\n",
        "\n",
        "  # Applica gli aggiornamenti ai pesi del modello\n",
        "  opt.apply_gradients(zip(gradients, model.trainable_variables))\n",
        "\n",
        "  return loss\n",
        "\n",
        "\n",
        "#Hyperparameters\n",
        "num_epochs = 10\n",
        "batch_size = 4\n",
        "lr = 0.01\n",
        "opt=Adam( learning_rate = lr)\n",
        "model = my_first_neural_network(input_shape=data_input_shape, output_shape=data_output_shape)\n",
        "\n",
        "trainset = tf.data.Dataset.from_tensor_slices( (X_train,y_train) ).batch( batch_size )\n",
        "\n",
        "for epoch in range(num_epochs):\n",
        "  print(f\"Epoch {epoch + 1}/{num_epochs}\")\n",
        "  steps_per_epoch = len(trainset)\n",
        "  prog_bar = tf.keras.utils.Progbar(steps_per_epoch, unit_name='batch')\n",
        "  for step, (x,y) in enumerate( trainset):\n",
        "\n",
        "    loss_value = train_step(x , y)\n",
        "\n",
        "    # Log every 5 batches.\n",
        "    if step % 5 == 0:\n",
        "      values = [ ('loss', float(loss_value)) ]\n",
        "      prog_bar.update((step+3), values=values )\n",
        "\n",
        "\n",
        "print( f\"\\nTraining completato\" )\n"
      ],
      "metadata": {
        "colab": {
          "base_uri": "https://localhost:8080/"
        },
        "id": "sTVcMhXC9vK2",
        "outputId": "c9929969-dc69-4003-b373-213b19837ae6"
      },
      "execution_count": 106,
      "outputs": [
        {
          "output_type": "stream",
          "name": "stdout",
          "text": [
            "Epoch 1/10\n",
            "\u001b[1m28/27\u001b[0m \u001b[32m━━━━━━━━━━━━━━━━━━━━\u001b[0m\u001b[37m\u001b[0m \u001b[1m1s\u001b[0m 38ms/batch - loss: 1.0365\n",
            "Epoch 2/10\n",
            "\u001b[1m28/27\u001b[0m \u001b[32m━━━━━━━━━━━━━━━━━━━━\u001b[0m\u001b[37m\u001b[0m \u001b[1m1s\u001b[0m 35ms/batch - loss: 0.7449\n",
            "Epoch 3/10\n",
            "\u001b[1m28/27\u001b[0m \u001b[32m━━━━━━━━━━━━━━━━━━━━\u001b[0m\u001b[37m\u001b[0m \u001b[1m1s\u001b[0m 34ms/batch - loss: 0.5420\n",
            "Epoch 4/10\n",
            "\u001b[1m28/27\u001b[0m \u001b[32m━━━━━━━━━━━━━━━━━━━━\u001b[0m\u001b[37m\u001b[0m \u001b[1m1s\u001b[0m 34ms/batch - loss: 0.4614\n",
            "Epoch 5/10\n",
            "\u001b[1m28/27\u001b[0m \u001b[32m━━━━━━━━━━━━━━━━━━━━\u001b[0m\u001b[37m\u001b[0m \u001b[1m1s\u001b[0m 44ms/batch - loss: 0.3668\n",
            "Epoch 6/10\n",
            "\u001b[1m28/27\u001b[0m \u001b[32m━━━━━━━━━━━━━━━━━━━━\u001b[0m\u001b[37m\u001b[0m \u001b[1m1s\u001b[0m 35ms/batch - loss: 0.2478\n",
            "Epoch 7/10\n",
            "\u001b[1m28/27\u001b[0m \u001b[32m━━━━━━━━━━━━━━━━━━━━\u001b[0m\u001b[37m\u001b[0m \u001b[1m1s\u001b[0m 34ms/batch - loss: 0.1629\n",
            "Epoch 8/10\n",
            "\u001b[1m28/27\u001b[0m \u001b[32m━━━━━━━━━━━━━━━━━━━━\u001b[0m\u001b[37m\u001b[0m \u001b[1m1s\u001b[0m 33ms/batch - loss: 0.1158\n",
            "Epoch 9/10\n",
            "\u001b[1m28/27\u001b[0m \u001b[32m━━━━━━━━━━━━━━━━━━━━\u001b[0m\u001b[37m\u001b[0m \u001b[1m1s\u001b[0m 33ms/batch - loss: 0.0873\n",
            "Epoch 10/10\n",
            "\u001b[1m28/27\u001b[0m \u001b[32m━━━━━━━━━━━━━━━━━━━━\u001b[0m\u001b[37m\u001b[0m \u001b[1m1s\u001b[0m 33ms/batch - loss: 0.0692\n",
            "\n",
            "Training completato\n"
          ]
        }
      ]
    },
    {
      "cell_type": "markdown",
      "source": [
        "###Lambda layer"
      ],
      "metadata": {
        "id": "jEWYpWwDAwd7"
      }
    },
    {
      "cell_type": "code",
      "source": [
        "from keras.layers import Input, Dense,Lambda\n",
        "from keras.models import Model\n",
        "\n",
        "def my_lambda_pow(x):\n",
        "  return x**3\n",
        "\n",
        "def build_neural_network():\n",
        "  in_layer = Input(shape=(100,), name=\"Input_Layer\")\n",
        "  x = Dense(units=128, activation='relu', name=\"Hidden_Layer_1\")(in_layer)\n",
        "  x = Dense(units=64, activation='relu', name=\"Hidden_Layer_2\")(x)\n",
        "  x = Dense(units=32, activation='relu', name=\"Hidden_Layer_3\")(x)\n",
        "  x = Lambda ( my_lambda_pow , name=\"Lambda_Layer\" )(x)\n",
        "  out_layer = Dense(units=10, activation='softmax',name=\"Output_Layer\")(x)\n",
        "  model = Model(inputs=in_layer, outputs=out_layer)\n",
        "\n",
        "  return model\n",
        "\n",
        "model = build_neural_network()\n",
        "model.summary()\n"
      ],
      "metadata": {
        "colab": {
          "base_uri": "https://localhost:8080/",
          "height": 321
        },
        "id": "WPtyzJmHAza2",
        "outputId": "a319e06b-3630-49e1-a34f-b1d9577a6a87"
      },
      "execution_count": 107,
      "outputs": [
        {
          "output_type": "display_data",
          "data": {
            "text/plain": [
              "\u001b[1mModel: \"functional_9\"\u001b[0m\n"
            ],
            "text/html": [
              "<pre style=\"white-space:pre;overflow-x:auto;line-height:normal;font-family:Menlo,'DejaVu Sans Mono',consolas,'Courier New',monospace\"><span style=\"font-weight: bold\">Model: \"functional_9\"</span>\n",
              "</pre>\n"
            ]
          },
          "metadata": {}
        },
        {
          "output_type": "display_data",
          "data": {
            "text/plain": [
              "┏━━━━━━━━━━━━━━━━━━━━━━━━━━━━━━━━━━━━━━┳━━━━━━━━━━━━━━━━━━━━━━━━━━━━━┳━━━━━━━━━━━━━━━━━┓\n",
              "┃\u001b[1m \u001b[0m\u001b[1mLayer (type)                        \u001b[0m\u001b[1m \u001b[0m┃\u001b[1m \u001b[0m\u001b[1mOutput Shape               \u001b[0m\u001b[1m \u001b[0m┃\u001b[1m \u001b[0m\u001b[1m        Param #\u001b[0m\u001b[1m \u001b[0m┃\n",
              "┡━━━━━━━━━━━━━━━━━━━━━━━━━━━━━━━━━━━━━━╇━━━━━━━━━━━━━━━━━━━━━━━━━━━━━╇━━━━━━━━━━━━━━━━━┩\n",
              "│ Input_Layer (\u001b[38;5;33mInputLayer\u001b[0m)             │ (\u001b[38;5;45mNone\u001b[0m, \u001b[38;5;34m100\u001b[0m)                 │               \u001b[38;5;34m0\u001b[0m │\n",
              "├──────────────────────────────────────┼─────────────────────────────┼─────────────────┤\n",
              "│ Hidden_Layer_1 (\u001b[38;5;33mDense\u001b[0m)               │ (\u001b[38;5;45mNone\u001b[0m, \u001b[38;5;34m128\u001b[0m)                 │          \u001b[38;5;34m12,928\u001b[0m │\n",
              "├──────────────────────────────────────┼─────────────────────────────┼─────────────────┤\n",
              "│ Hidden_Layer_2 (\u001b[38;5;33mDense\u001b[0m)               │ (\u001b[38;5;45mNone\u001b[0m, \u001b[38;5;34m64\u001b[0m)                  │           \u001b[38;5;34m8,256\u001b[0m │\n",
              "├──────────────────────────────────────┼─────────────────────────────┼─────────────────┤\n",
              "│ Hidden_Layer_3 (\u001b[38;5;33mDense\u001b[0m)               │ (\u001b[38;5;45mNone\u001b[0m, \u001b[38;5;34m32\u001b[0m)                  │           \u001b[38;5;34m2,080\u001b[0m │\n",
              "├──────────────────────────────────────┼─────────────────────────────┼─────────────────┤\n",
              "│ Lambda_Layer (\u001b[38;5;33mLambda\u001b[0m)                │ (\u001b[38;5;45mNone\u001b[0m, \u001b[38;5;34m32\u001b[0m)                  │               \u001b[38;5;34m0\u001b[0m │\n",
              "├──────────────────────────────────────┼─────────────────────────────┼─────────────────┤\n",
              "│ Output_Layer (\u001b[38;5;33mDense\u001b[0m)                 │ (\u001b[38;5;45mNone\u001b[0m, \u001b[38;5;34m10\u001b[0m)                  │             \u001b[38;5;34m330\u001b[0m │\n",
              "└──────────────────────────────────────┴─────────────────────────────┴─────────────────┘\n"
            ],
            "text/html": [
              "<pre style=\"white-space:pre;overflow-x:auto;line-height:normal;font-family:Menlo,'DejaVu Sans Mono',consolas,'Courier New',monospace\">┏━━━━━━━━━━━━━━━━━━━━━━━━━━━━━━━━━━━━━━┳━━━━━━━━━━━━━━━━━━━━━━━━━━━━━┳━━━━━━━━━━━━━━━━━┓\n",
              "┃<span style=\"font-weight: bold\"> Layer (type)                         </span>┃<span style=\"font-weight: bold\"> Output Shape                </span>┃<span style=\"font-weight: bold\">         Param # </span>┃\n",
              "┡━━━━━━━━━━━━━━━━━━━━━━━━━━━━━━━━━━━━━━╇━━━━━━━━━━━━━━━━━━━━━━━━━━━━━╇━━━━━━━━━━━━━━━━━┩\n",
              "│ Input_Layer (<span style=\"color: #0087ff; text-decoration-color: #0087ff\">InputLayer</span>)             │ (<span style=\"color: #00d7ff; text-decoration-color: #00d7ff\">None</span>, <span style=\"color: #00af00; text-decoration-color: #00af00\">100</span>)                 │               <span style=\"color: #00af00; text-decoration-color: #00af00\">0</span> │\n",
              "├──────────────────────────────────────┼─────────────────────────────┼─────────────────┤\n",
              "│ Hidden_Layer_1 (<span style=\"color: #0087ff; text-decoration-color: #0087ff\">Dense</span>)               │ (<span style=\"color: #00d7ff; text-decoration-color: #00d7ff\">None</span>, <span style=\"color: #00af00; text-decoration-color: #00af00\">128</span>)                 │          <span style=\"color: #00af00; text-decoration-color: #00af00\">12,928</span> │\n",
              "├──────────────────────────────────────┼─────────────────────────────┼─────────────────┤\n",
              "│ Hidden_Layer_2 (<span style=\"color: #0087ff; text-decoration-color: #0087ff\">Dense</span>)               │ (<span style=\"color: #00d7ff; text-decoration-color: #00d7ff\">None</span>, <span style=\"color: #00af00; text-decoration-color: #00af00\">64</span>)                  │           <span style=\"color: #00af00; text-decoration-color: #00af00\">8,256</span> │\n",
              "├──────────────────────────────────────┼─────────────────────────────┼─────────────────┤\n",
              "│ Hidden_Layer_3 (<span style=\"color: #0087ff; text-decoration-color: #0087ff\">Dense</span>)               │ (<span style=\"color: #00d7ff; text-decoration-color: #00d7ff\">None</span>, <span style=\"color: #00af00; text-decoration-color: #00af00\">32</span>)                  │           <span style=\"color: #00af00; text-decoration-color: #00af00\">2,080</span> │\n",
              "├──────────────────────────────────────┼─────────────────────────────┼─────────────────┤\n",
              "│ Lambda_Layer (<span style=\"color: #0087ff; text-decoration-color: #0087ff\">Lambda</span>)                │ (<span style=\"color: #00d7ff; text-decoration-color: #00d7ff\">None</span>, <span style=\"color: #00af00; text-decoration-color: #00af00\">32</span>)                  │               <span style=\"color: #00af00; text-decoration-color: #00af00\">0</span> │\n",
              "├──────────────────────────────────────┼─────────────────────────────┼─────────────────┤\n",
              "│ Output_Layer (<span style=\"color: #0087ff; text-decoration-color: #0087ff\">Dense</span>)                 │ (<span style=\"color: #00d7ff; text-decoration-color: #00d7ff\">None</span>, <span style=\"color: #00af00; text-decoration-color: #00af00\">10</span>)                  │             <span style=\"color: #00af00; text-decoration-color: #00af00\">330</span> │\n",
              "└──────────────────────────────────────┴─────────────────────────────┴─────────────────┘\n",
              "</pre>\n"
            ]
          },
          "metadata": {}
        },
        {
          "output_type": "display_data",
          "data": {
            "text/plain": [
              "\u001b[1m Total params: \u001b[0m\u001b[38;5;34m23,594\u001b[0m (92.16 KB)\n"
            ],
            "text/html": [
              "<pre style=\"white-space:pre;overflow-x:auto;line-height:normal;font-family:Menlo,'DejaVu Sans Mono',consolas,'Courier New',monospace\"><span style=\"font-weight: bold\"> Total params: </span><span style=\"color: #00af00; text-decoration-color: #00af00\">23,594</span> (92.16 KB)\n",
              "</pre>\n"
            ]
          },
          "metadata": {}
        },
        {
          "output_type": "display_data",
          "data": {
            "text/plain": [
              "\u001b[1m Trainable params: \u001b[0m\u001b[38;5;34m23,594\u001b[0m (92.16 KB)\n"
            ],
            "text/html": [
              "<pre style=\"white-space:pre;overflow-x:auto;line-height:normal;font-family:Menlo,'DejaVu Sans Mono',consolas,'Courier New',monospace\"><span style=\"font-weight: bold\"> Trainable params: </span><span style=\"color: #00af00; text-decoration-color: #00af00\">23,594</span> (92.16 KB)\n",
              "</pre>\n"
            ]
          },
          "metadata": {}
        },
        {
          "output_type": "display_data",
          "data": {
            "text/plain": [
              "\u001b[1m Non-trainable params: \u001b[0m\u001b[38;5;34m0\u001b[0m (0.00 B)\n"
            ],
            "text/html": [
              "<pre style=\"white-space:pre;overflow-x:auto;line-height:normal;font-family:Menlo,'DejaVu Sans Mono',consolas,'Courier New',monospace\"><span style=\"font-weight: bold\"> Non-trainable params: </span><span style=\"color: #00af00; text-decoration-color: #00af00\">0</span> (0.00 B)\n",
              "</pre>\n"
            ]
          },
          "metadata": {}
        }
      ]
    },
    {
      "cell_type": "code",
      "source": [
        "class CustomLayer(tf.keras.layers.Layer):\n",
        "    def __init__(self, **kwargs):\n",
        "        super().__init__(**kwargs)\n",
        "        self.scale = tf.Variable(1.)\n",
        "    def call(self, inputs):\n",
        "        return inputs * self.scale\n",
        "\n",
        "\n",
        "\n",
        "def build_neural_network():\n",
        "  in_layer = Input(shape=(100,), name=\"Input_Layer\")\n",
        "  x = Dense(units=128, activation='relu', name=\"Hidden_Layer_1\")(in_layer)\n",
        "  x = Dense(units=64, activation='relu', name=\"Hidden_Layer_2\")(x)\n",
        "  x = Dense(units=32, activation='relu', name=\"Hidden_Layer_3\")(x)\n",
        "  x= CustomLayer(name=\"Lambda_Layer\" )(x)\n",
        "  out_layer = Dense(units=10, activation='softmax',name=\"Output_Layer\")(x)\n",
        "  model = Model(inputs=in_layer, outputs=out_layer, name=\"Model_X\")\n",
        "\n",
        "  return model\n",
        "\n",
        "model = build_neural_network()\n",
        "model.summary()"
      ],
      "metadata": {
        "colab": {
          "base_uri": "https://localhost:8080/",
          "height": 321
        },
        "id": "x9vl_qAUFsSm",
        "outputId": "2c084947-13f7-438b-c672-9c347ca84642"
      },
      "execution_count": 108,
      "outputs": [
        {
          "output_type": "display_data",
          "data": {
            "text/plain": [
              "\u001b[1mModel: \"Model_X\"\u001b[0m\n"
            ],
            "text/html": [
              "<pre style=\"white-space:pre;overflow-x:auto;line-height:normal;font-family:Menlo,'DejaVu Sans Mono',consolas,'Courier New',monospace\"><span style=\"font-weight: bold\">Model: \"Model_X\"</span>\n",
              "</pre>\n"
            ]
          },
          "metadata": {}
        },
        {
          "output_type": "display_data",
          "data": {
            "text/plain": [
              "┏━━━━━━━━━━━━━━━━━━━━━━━━━━━━━━━━━━━━━━┳━━━━━━━━━━━━━━━━━━━━━━━━━━━━━┳━━━━━━━━━━━━━━━━━┓\n",
              "┃\u001b[1m \u001b[0m\u001b[1mLayer (type)                        \u001b[0m\u001b[1m \u001b[0m┃\u001b[1m \u001b[0m\u001b[1mOutput Shape               \u001b[0m\u001b[1m \u001b[0m┃\u001b[1m \u001b[0m\u001b[1m        Param #\u001b[0m\u001b[1m \u001b[0m┃\n",
              "┡━━━━━━━━━━━━━━━━━━━━━━━━━━━━━━━━━━━━━━╇━━━━━━━━━━━━━━━━━━━━━━━━━━━━━╇━━━━━━━━━━━━━━━━━┩\n",
              "│ Input_Layer (\u001b[38;5;33mInputLayer\u001b[0m)             │ (\u001b[38;5;45mNone\u001b[0m, \u001b[38;5;34m100\u001b[0m)                 │               \u001b[38;5;34m0\u001b[0m │\n",
              "├──────────────────────────────────────┼─────────────────────────────┼─────────────────┤\n",
              "│ Hidden_Layer_1 (\u001b[38;5;33mDense\u001b[0m)               │ (\u001b[38;5;45mNone\u001b[0m, \u001b[38;5;34m128\u001b[0m)                 │          \u001b[38;5;34m12,928\u001b[0m │\n",
              "├──────────────────────────────────────┼─────────────────────────────┼─────────────────┤\n",
              "│ Hidden_Layer_2 (\u001b[38;5;33mDense\u001b[0m)               │ (\u001b[38;5;45mNone\u001b[0m, \u001b[38;5;34m64\u001b[0m)                  │           \u001b[38;5;34m8,256\u001b[0m │\n",
              "├──────────────────────────────────────┼─────────────────────────────┼─────────────────┤\n",
              "│ Hidden_Layer_3 (\u001b[38;5;33mDense\u001b[0m)               │ (\u001b[38;5;45mNone\u001b[0m, \u001b[38;5;34m32\u001b[0m)                  │           \u001b[38;5;34m2,080\u001b[0m │\n",
              "├──────────────────────────────────────┼─────────────────────────────┼─────────────────┤\n",
              "│ Lambda_Layer (\u001b[38;5;33mCustomLayer\u001b[0m)           │ (\u001b[38;5;45mNone\u001b[0m, \u001b[38;5;34m32\u001b[0m)                  │               \u001b[38;5;34m0\u001b[0m │\n",
              "├──────────────────────────────────────┼─────────────────────────────┼─────────────────┤\n",
              "│ Output_Layer (\u001b[38;5;33mDense\u001b[0m)                 │ (\u001b[38;5;45mNone\u001b[0m, \u001b[38;5;34m10\u001b[0m)                  │             \u001b[38;5;34m330\u001b[0m │\n",
              "└──────────────────────────────────────┴─────────────────────────────┴─────────────────┘\n"
            ],
            "text/html": [
              "<pre style=\"white-space:pre;overflow-x:auto;line-height:normal;font-family:Menlo,'DejaVu Sans Mono',consolas,'Courier New',monospace\">┏━━━━━━━━━━━━━━━━━━━━━━━━━━━━━━━━━━━━━━┳━━━━━━━━━━━━━━━━━━━━━━━━━━━━━┳━━━━━━━━━━━━━━━━━┓\n",
              "┃<span style=\"font-weight: bold\"> Layer (type)                         </span>┃<span style=\"font-weight: bold\"> Output Shape                </span>┃<span style=\"font-weight: bold\">         Param # </span>┃\n",
              "┡━━━━━━━━━━━━━━━━━━━━━━━━━━━━━━━━━━━━━━╇━━━━━━━━━━━━━━━━━━━━━━━━━━━━━╇━━━━━━━━━━━━━━━━━┩\n",
              "│ Input_Layer (<span style=\"color: #0087ff; text-decoration-color: #0087ff\">InputLayer</span>)             │ (<span style=\"color: #00d7ff; text-decoration-color: #00d7ff\">None</span>, <span style=\"color: #00af00; text-decoration-color: #00af00\">100</span>)                 │               <span style=\"color: #00af00; text-decoration-color: #00af00\">0</span> │\n",
              "├──────────────────────────────────────┼─────────────────────────────┼─────────────────┤\n",
              "│ Hidden_Layer_1 (<span style=\"color: #0087ff; text-decoration-color: #0087ff\">Dense</span>)               │ (<span style=\"color: #00d7ff; text-decoration-color: #00d7ff\">None</span>, <span style=\"color: #00af00; text-decoration-color: #00af00\">128</span>)                 │          <span style=\"color: #00af00; text-decoration-color: #00af00\">12,928</span> │\n",
              "├──────────────────────────────────────┼─────────────────────────────┼─────────────────┤\n",
              "│ Hidden_Layer_2 (<span style=\"color: #0087ff; text-decoration-color: #0087ff\">Dense</span>)               │ (<span style=\"color: #00d7ff; text-decoration-color: #00d7ff\">None</span>, <span style=\"color: #00af00; text-decoration-color: #00af00\">64</span>)                  │           <span style=\"color: #00af00; text-decoration-color: #00af00\">8,256</span> │\n",
              "├──────────────────────────────────────┼─────────────────────────────┼─────────────────┤\n",
              "│ Hidden_Layer_3 (<span style=\"color: #0087ff; text-decoration-color: #0087ff\">Dense</span>)               │ (<span style=\"color: #00d7ff; text-decoration-color: #00d7ff\">None</span>, <span style=\"color: #00af00; text-decoration-color: #00af00\">32</span>)                  │           <span style=\"color: #00af00; text-decoration-color: #00af00\">2,080</span> │\n",
              "├──────────────────────────────────────┼─────────────────────────────┼─────────────────┤\n",
              "│ Lambda_Layer (<span style=\"color: #0087ff; text-decoration-color: #0087ff\">CustomLayer</span>)           │ (<span style=\"color: #00d7ff; text-decoration-color: #00d7ff\">None</span>, <span style=\"color: #00af00; text-decoration-color: #00af00\">32</span>)                  │               <span style=\"color: #00af00; text-decoration-color: #00af00\">0</span> │\n",
              "├──────────────────────────────────────┼─────────────────────────────┼─────────────────┤\n",
              "│ Output_Layer (<span style=\"color: #0087ff; text-decoration-color: #0087ff\">Dense</span>)                 │ (<span style=\"color: #00d7ff; text-decoration-color: #00d7ff\">None</span>, <span style=\"color: #00af00; text-decoration-color: #00af00\">10</span>)                  │             <span style=\"color: #00af00; text-decoration-color: #00af00\">330</span> │\n",
              "└──────────────────────────────────────┴─────────────────────────────┴─────────────────┘\n",
              "</pre>\n"
            ]
          },
          "metadata": {}
        },
        {
          "output_type": "display_data",
          "data": {
            "text/plain": [
              "\u001b[1m Total params: \u001b[0m\u001b[38;5;34m23,594\u001b[0m (92.16 KB)\n"
            ],
            "text/html": [
              "<pre style=\"white-space:pre;overflow-x:auto;line-height:normal;font-family:Menlo,'DejaVu Sans Mono',consolas,'Courier New',monospace\"><span style=\"font-weight: bold\"> Total params: </span><span style=\"color: #00af00; text-decoration-color: #00af00\">23,594</span> (92.16 KB)\n",
              "</pre>\n"
            ]
          },
          "metadata": {}
        },
        {
          "output_type": "display_data",
          "data": {
            "text/plain": [
              "\u001b[1m Trainable params: \u001b[0m\u001b[38;5;34m23,594\u001b[0m (92.16 KB)\n"
            ],
            "text/html": [
              "<pre style=\"white-space:pre;overflow-x:auto;line-height:normal;font-family:Menlo,'DejaVu Sans Mono',consolas,'Courier New',monospace\"><span style=\"font-weight: bold\"> Trainable params: </span><span style=\"color: #00af00; text-decoration-color: #00af00\">23,594</span> (92.16 KB)\n",
              "</pre>\n"
            ]
          },
          "metadata": {}
        },
        {
          "output_type": "display_data",
          "data": {
            "text/plain": [
              "\u001b[1m Non-trainable params: \u001b[0m\u001b[38;5;34m0\u001b[0m (0.00 B)\n"
            ],
            "text/html": [
              "<pre style=\"white-space:pre;overflow-x:auto;line-height:normal;font-family:Menlo,'DejaVu Sans Mono',consolas,'Courier New',monospace\"><span style=\"font-weight: bold\"> Non-trainable params: </span><span style=\"color: #00af00; text-decoration-color: #00af00\">0</span> (0.00 B)\n",
              "</pre>\n"
            ]
          },
          "metadata": {}
        }
      ]
    },
    {
      "cell_type": "markdown",
      "source": [
        "###Callbacks"
      ],
      "metadata": {
        "id": "rwvYeP5nB761"
      }
    },
    {
      "cell_type": "code",
      "source": [
        "from keras.callbacks import EarlyStopping\n",
        "\n",
        "# Definisci la callback EarlyStopping\n",
        "early_stopping = EarlyStopping(\n",
        "    monitor='val_loss',   # Monitora la loss sulla metrica indicata\n",
        "    min_delta=0.001,      # Variazione minima da considerare come miglioramento\n",
        "    patience=10,          # Numero di epoche senza miglioramenti prima di fermare l'addestramento\n",
        "    mode='auto',          # oppure prende \"min\",\"max\", seleziona la direzione in automatico\n",
        "    baseline=0.5,         # Baseline per il controllo,default è None.\n",
        "    restore_best_weights=True,  # Ripristina i pesi migliori quando l'addestramento si ferma\n",
        "    start_from_epoch=5    # Inizia il monitoraggio dall'epoca 5\n",
        ")\n",
        "\n",
        "lr = 0.001\n",
        "opt=Adam( learning_rate = lr)\n",
        "num_epochs=250\n",
        "model = my_first_neural_network(input_shape=data_input_shape, output_shape=data_output_shape)\n",
        "model.compile(loss=my_categorical_crossentropy, optimizer=opt, metrics=[ accuracy ])\n",
        "# Addestramento del modello\n",
        "history = model.fit(X_train, y_train, validation_data=(X_val, y_val), epochs=num_epochs, batch_size=batch_size, callbacks=[early_stopping] )"
      ],
      "metadata": {
        "id": "_N-oq5v9B7rX",
        "colab": {
          "base_uri": "https://localhost:8080/"
        },
        "outputId": "c72bfac4-55c5-4f9f-c030-a68727538923"
      },
      "execution_count": 113,
      "outputs": [
        {
          "output_type": "stream",
          "name": "stdout",
          "text": [
            "Epoch 1/400\n",
            "\u001b[1m27/27\u001b[0m \u001b[32m━━━━━━━━━━━━━━━━━━━━\u001b[0m\u001b[37m\u001b[0m \u001b[1m2s\u001b[0m 9ms/step - acc: 0.5434 - loss: 1.0369 - val_acc: 0.3333 - val_loss: 1.0608\n",
            "Epoch 2/400\n",
            "\u001b[1m27/27\u001b[0m \u001b[32m━━━━━━━━━━━━━━━━━━━━\u001b[0m\u001b[37m\u001b[0m \u001b[1m0s\u001b[0m 3ms/step - acc: 0.3949 - loss: 1.0129 - val_acc: 0.3333 - val_loss: 1.0345\n",
            "Epoch 3/400\n",
            "\u001b[1m27/27\u001b[0m \u001b[32m━━━━━━━━━━━━━━━━━━━━\u001b[0m\u001b[37m\u001b[0m \u001b[1m0s\u001b[0m 3ms/step - acc: 0.3949 - loss: 0.9926 - val_acc: 0.3333 - val_loss: 1.0073\n",
            "Epoch 4/400\n",
            "\u001b[1m27/27\u001b[0m \u001b[32m━━━━━━━━━━━━━━━━━━━━\u001b[0m\u001b[37m\u001b[0m \u001b[1m0s\u001b[0m 3ms/step - acc: 0.4168 - loss: 0.9702 - val_acc: 0.3333 - val_loss: 0.9786\n",
            "Epoch 5/400\n",
            "\u001b[1m27/27\u001b[0m \u001b[32m━━━━━━━━━━━━━━━━━━━━\u001b[0m\u001b[37m\u001b[0m \u001b[1m0s\u001b[0m 3ms/step - acc: 0.4354 - loss: 0.9476 - val_acc: 0.3333 - val_loss: 0.9533\n",
            "Epoch 6/400\n",
            "\u001b[1m27/27\u001b[0m \u001b[32m━━━━━━━━━━━━━━━━━━━━\u001b[0m\u001b[37m\u001b[0m \u001b[1m0s\u001b[0m 3ms/step - acc: 0.5530 - loss: 0.9241 - val_acc: 0.4667 - val_loss: 0.9263\n",
            "Epoch 7/400\n",
            "\u001b[1m27/27\u001b[0m \u001b[32m━━━━━━━━━━━━━━━━━━━━\u001b[0m\u001b[37m\u001b[0m \u001b[1m0s\u001b[0m 3ms/step - acc: 0.6510 - loss: 0.8964 - val_acc: 0.6667 - val_loss: 0.8952\n",
            "Epoch 8/400\n",
            "\u001b[1m27/27\u001b[0m \u001b[32m━━━━━━━━━━━━━━━━━━━━\u001b[0m\u001b[37m\u001b[0m \u001b[1m0s\u001b[0m 3ms/step - acc: 0.7181 - loss: 0.8645 - val_acc: 0.6667 - val_loss: 0.8597\n",
            "Epoch 9/400\n",
            "\u001b[1m27/27\u001b[0m \u001b[32m━━━━━━━━━━━━━━━━━━━━\u001b[0m\u001b[37m\u001b[0m \u001b[1m0s\u001b[0m 3ms/step - acc: 0.7346 - loss: 0.8280 - val_acc: 0.6667 - val_loss: 0.8167\n",
            "Epoch 10/400\n",
            "\u001b[1m27/27\u001b[0m \u001b[32m━━━━━━━━━━━━━━━━━━━━\u001b[0m\u001b[37m\u001b[0m \u001b[1m0s\u001b[0m 3ms/step - acc: 0.7346 - loss: 0.7845 - val_acc: 0.6667 - val_loss: 0.7663\n",
            "Epoch 11/400\n",
            "\u001b[1m27/27\u001b[0m \u001b[32m━━━━━━━━━━━━━━━━━━━━\u001b[0m\u001b[37m\u001b[0m \u001b[1m0s\u001b[0m 3ms/step - acc: 0.7346 - loss: 0.7340 - val_acc: 0.6667 - val_loss: 0.7139\n",
            "Epoch 12/400\n",
            "\u001b[1m27/27\u001b[0m \u001b[32m━━━━━━━━━━━━━━━━━━━━\u001b[0m\u001b[37m\u001b[0m \u001b[1m0s\u001b[0m 3ms/step - acc: 0.7346 - loss: 0.6836 - val_acc: 0.6667 - val_loss: 0.6657\n",
            "Epoch 13/400\n",
            "\u001b[1m27/27\u001b[0m \u001b[32m━━━━━━━━━━━━━━━━━━━━\u001b[0m\u001b[37m\u001b[0m \u001b[1m0s\u001b[0m 4ms/step - acc: 0.7346 - loss: 0.6361 - val_acc: 0.6667 - val_loss: 0.6209\n",
            "Epoch 14/400\n",
            "\u001b[1m27/27\u001b[0m \u001b[32m━━━━━━━━━━━━━━━━━━━━\u001b[0m\u001b[37m\u001b[0m \u001b[1m0s\u001b[0m 4ms/step - acc: 0.7346 - loss: 0.5925 - val_acc: 0.6667 - val_loss: 0.5814\n",
            "Epoch 15/400\n",
            "\u001b[1m27/27\u001b[0m \u001b[32m━━━━━━━━━━━━━━━━━━━━\u001b[0m\u001b[37m\u001b[0m \u001b[1m0s\u001b[0m 3ms/step - acc: 0.7346 - loss: 0.5545 - val_acc: 0.6667 - val_loss: 0.5473\n",
            "Epoch 16/400\n",
            "\u001b[1m27/27\u001b[0m \u001b[32m━━━━━━━━━━━━━━━━━━━━\u001b[0m\u001b[37m\u001b[0m \u001b[1m0s\u001b[0m 3ms/step - acc: 0.7346 - loss: 0.5217 - val_acc: 0.6667 - val_loss: 0.5180\n",
            "Epoch 17/400\n",
            "\u001b[1m27/27\u001b[0m \u001b[32m━━━━━━━━━━━━━━━━━━━━\u001b[0m\u001b[37m\u001b[0m \u001b[1m0s\u001b[0m 3ms/step - acc: 0.7401 - loss: 0.4940 - val_acc: 0.7333 - val_loss: 0.4930\n",
            "Epoch 18/400\n",
            "\u001b[1m27/27\u001b[0m \u001b[32m━━━━━━━━━━━━━━━━━━━━\u001b[0m\u001b[37m\u001b[0m \u001b[1m0s\u001b[0m 3ms/step - acc: 0.7474 - loss: 0.4706 - val_acc: 0.7333 - val_loss: 0.4715\n",
            "Epoch 19/400\n",
            "\u001b[1m27/27\u001b[0m \u001b[32m━━━━━━━━━━━━━━━━━━━━\u001b[0m\u001b[37m\u001b[0m \u001b[1m0s\u001b[0m 3ms/step - acc: 0.7736 - loss: 0.4508 - val_acc: 0.8000 - val_loss: 0.4529\n",
            "Epoch 20/400\n",
            "\u001b[1m27/27\u001b[0m \u001b[32m━━━━━━━━━━━━━━━━━━━━\u001b[0m\u001b[37m\u001b[0m \u001b[1m0s\u001b[0m 3ms/step - acc: 0.7999 - loss: 0.4337 - val_acc: 0.8000 - val_loss: 0.4366\n",
            "Epoch 21/400\n",
            "\u001b[1m27/27\u001b[0m \u001b[32m━━━━━━━━━━━━━━━━━━━━\u001b[0m\u001b[37m\u001b[0m \u001b[1m0s\u001b[0m 4ms/step - acc: 0.8260 - loss: 0.4188 - val_acc: 0.8000 - val_loss: 0.4219\n",
            "Epoch 22/400\n",
            "\u001b[1m27/27\u001b[0m \u001b[32m━━━━━━━━━━━━━━━━━━━━\u001b[0m\u001b[37m\u001b[0m \u001b[1m0s\u001b[0m 3ms/step - acc: 0.8343 - loss: 0.4056 - val_acc: 0.8000 - val_loss: 0.4086\n",
            "Epoch 23/400\n",
            "\u001b[1m27/27\u001b[0m \u001b[32m━━━━━━━━━━━━━━━━━━━━\u001b[0m\u001b[37m\u001b[0m \u001b[1m0s\u001b[0m 3ms/step - acc: 0.8410 - loss: 0.3939 - val_acc: 0.8667 - val_loss: 0.3961\n",
            "Epoch 24/400\n",
            "\u001b[1m27/27\u001b[0m \u001b[32m━━━━━━━━━━━━━━━━━━━━\u001b[0m\u001b[37m\u001b[0m \u001b[1m0s\u001b[0m 3ms/step - acc: 0.8632 - loss: 0.3830 - val_acc: 0.8667 - val_loss: 0.3850\n",
            "Epoch 25/400\n",
            "\u001b[1m27/27\u001b[0m \u001b[32m━━━━━━━━━━━━━━━━━━━━\u001b[0m\u001b[37m\u001b[0m \u001b[1m0s\u001b[0m 3ms/step - acc: 0.8788 - loss: 0.3726 - val_acc: 0.8667 - val_loss: 0.3742\n",
            "Epoch 26/400\n",
            "\u001b[1m27/27\u001b[0m \u001b[32m━━━━━━━━━━━━━━━━━━━━\u001b[0m\u001b[37m\u001b[0m \u001b[1m0s\u001b[0m 3ms/step - acc: 0.9348 - loss: 0.3626 - val_acc: 0.9333 - val_loss: 0.3634\n",
            "Epoch 27/400\n",
            "\u001b[1m27/27\u001b[0m \u001b[32m━━━━━━━━━━━━━━━━━━━━\u001b[0m\u001b[37m\u001b[0m \u001b[1m0s\u001b[0m 3ms/step - acc: 0.9423 - loss: 0.3530 - val_acc: 0.9333 - val_loss: 0.3528\n",
            "Epoch 28/400\n",
            "\u001b[1m27/27\u001b[0m \u001b[32m━━━━━━━━━━━━━━━━━━━━\u001b[0m\u001b[37m\u001b[0m \u001b[1m0s\u001b[0m 3ms/step - acc: 0.9518 - loss: 0.3437 - val_acc: 1.0000 - val_loss: 0.3432\n",
            "Epoch 29/400\n",
            "\u001b[1m27/27\u001b[0m \u001b[32m━━━━━━━━━━━━━━━━━━━━\u001b[0m\u001b[37m\u001b[0m \u001b[1m0s\u001b[0m 4ms/step - acc: 0.9572 - loss: 0.3348 - val_acc: 1.0000 - val_loss: 0.3340\n",
            "Epoch 30/400\n",
            "\u001b[1m27/27\u001b[0m \u001b[32m━━━━━━━━━━━━━━━━━━━━\u001b[0m\u001b[37m\u001b[0m \u001b[1m0s\u001b[0m 3ms/step - acc: 0.9636 - loss: 0.3263 - val_acc: 1.0000 - val_loss: 0.3251\n",
            "Epoch 31/400\n",
            "\u001b[1m27/27\u001b[0m \u001b[32m━━━━━━━━━━━━━━━━━━━━\u001b[0m\u001b[37m\u001b[0m \u001b[1m0s\u001b[0m 3ms/step - acc: 0.9744 - loss: 0.3181 - val_acc: 1.0000 - val_loss: 0.3164\n",
            "Epoch 32/400\n",
            "\u001b[1m27/27\u001b[0m \u001b[32m━━━━━━━━━━━━━━━━━━━━\u001b[0m\u001b[37m\u001b[0m \u001b[1m0s\u001b[0m 3ms/step - acc: 0.9783 - loss: 0.3102 - val_acc: 1.0000 - val_loss: 0.3078\n",
            "Epoch 33/400\n",
            "\u001b[1m27/27\u001b[0m \u001b[32m━━━━━━━━━━━━━━━━━━━━\u001b[0m\u001b[37m\u001b[0m \u001b[1m0s\u001b[0m 3ms/step - acc: 0.9783 - loss: 0.3024 - val_acc: 1.0000 - val_loss: 0.2993\n",
            "Epoch 34/400\n",
            "\u001b[1m27/27\u001b[0m \u001b[32m━━━━━━━━━━━━━━━━━━━━\u001b[0m\u001b[37m\u001b[0m \u001b[1m0s\u001b[0m 3ms/step - acc: 0.9783 - loss: 0.2949 - val_acc: 1.0000 - val_loss: 0.2912\n",
            "Epoch 35/400\n",
            "\u001b[1m27/27\u001b[0m \u001b[32m━━━━━━━━━━━━━━━━━━━━\u001b[0m\u001b[37m\u001b[0m \u001b[1m0s\u001b[0m 3ms/step - acc: 0.9783 - loss: 0.2875 - val_acc: 1.0000 - val_loss: 0.2831\n",
            "Epoch 36/400\n",
            "\u001b[1m27/27\u001b[0m \u001b[32m━━━━━━━━━━━━━━━━━━━━\u001b[0m\u001b[37m\u001b[0m \u001b[1m0s\u001b[0m 3ms/step - acc: 0.9783 - loss: 0.2802 - val_acc: 1.0000 - val_loss: 0.2753\n",
            "Epoch 37/400\n",
            "\u001b[1m27/27\u001b[0m \u001b[32m━━━━━━━━━━━━━━━━━━━━\u001b[0m\u001b[37m\u001b[0m \u001b[1m0s\u001b[0m 3ms/step - acc: 0.9783 - loss: 0.2729 - val_acc: 1.0000 - val_loss: 0.2675\n",
            "Epoch 38/400\n",
            "\u001b[1m27/27\u001b[0m \u001b[32m━━━━━━━━━━━━━━━━━━━━\u001b[0m\u001b[37m\u001b[0m \u001b[1m0s\u001b[0m 3ms/step - acc: 0.9783 - loss: 0.2657 - val_acc: 1.0000 - val_loss: 0.2597\n",
            "Epoch 39/400\n",
            "\u001b[1m27/27\u001b[0m \u001b[32m━━━━━━━━━━━━━━━━━━━━\u001b[0m\u001b[37m\u001b[0m \u001b[1m0s\u001b[0m 3ms/step - acc: 0.9783 - loss: 0.2586 - val_acc: 1.0000 - val_loss: 0.2520\n",
            "Epoch 40/400\n",
            "\u001b[1m27/27\u001b[0m \u001b[32m━━━━━━━━━━━━━━━━━━━━\u001b[0m\u001b[37m\u001b[0m \u001b[1m0s\u001b[0m 4ms/step - acc: 0.9783 - loss: 0.2514 - val_acc: 1.0000 - val_loss: 0.2445\n",
            "Epoch 41/400\n",
            "\u001b[1m27/27\u001b[0m \u001b[32m━━━━━━━━━━━━━━━━━━━━\u001b[0m\u001b[37m\u001b[0m \u001b[1m0s\u001b[0m 4ms/step - acc: 0.9783 - loss: 0.2444 - val_acc: 1.0000 - val_loss: 0.2371\n",
            "Epoch 42/400\n",
            "\u001b[1m27/27\u001b[0m \u001b[32m━━━━━━━━━━━━━━━━━━━━\u001b[0m\u001b[37m\u001b[0m \u001b[1m0s\u001b[0m 3ms/step - acc: 0.9783 - loss: 0.2377 - val_acc: 1.0000 - val_loss: 0.2298\n",
            "Epoch 43/400\n",
            "\u001b[1m27/27\u001b[0m \u001b[32m━━━━━━━━━━━━━━━━━━━━\u001b[0m\u001b[37m\u001b[0m \u001b[1m0s\u001b[0m 3ms/step - acc: 0.9783 - loss: 0.2310 - val_acc: 1.0000 - val_loss: 0.2227\n",
            "Epoch 44/400\n",
            "\u001b[1m27/27\u001b[0m \u001b[32m━━━━━━━━━━━━━━━━━━━━\u001b[0m\u001b[37m\u001b[0m \u001b[1m0s\u001b[0m 3ms/step - acc: 0.9783 - loss: 0.2245 - val_acc: 1.0000 - val_loss: 0.2156\n",
            "Epoch 45/400\n",
            "\u001b[1m27/27\u001b[0m \u001b[32m━━━━━━━━━━━━━━━━━━━━\u001b[0m\u001b[37m\u001b[0m \u001b[1m0s\u001b[0m 3ms/step - acc: 0.9783 - loss: 0.2180 - val_acc: 1.0000 - val_loss: 0.2088\n",
            "Epoch 46/400\n",
            "\u001b[1m27/27\u001b[0m \u001b[32m━━━━━━━━━━━━━━━━━━━━\u001b[0m\u001b[37m\u001b[0m \u001b[1m0s\u001b[0m 3ms/step - acc: 0.9783 - loss: 0.2116 - val_acc: 1.0000 - val_loss: 0.2022\n",
            "Epoch 47/400\n",
            "\u001b[1m27/27\u001b[0m \u001b[32m━━━━━━━━━━━━━━━━━━━━\u001b[0m\u001b[37m\u001b[0m \u001b[1m0s\u001b[0m 3ms/step - acc: 0.9783 - loss: 0.2056 - val_acc: 1.0000 - val_loss: 0.1958\n",
            "Epoch 48/400\n",
            "\u001b[1m27/27\u001b[0m \u001b[32m━━━━━━━━━━━━━━━━━━━━\u001b[0m\u001b[37m\u001b[0m \u001b[1m0s\u001b[0m 3ms/step - acc: 0.9783 - loss: 0.1997 - val_acc: 1.0000 - val_loss: 0.1896\n",
            "Epoch 49/400\n",
            "\u001b[1m27/27\u001b[0m \u001b[32m━━━━━━━━━━━━━━━━━━━━\u001b[0m\u001b[37m\u001b[0m \u001b[1m0s\u001b[0m 3ms/step - acc: 0.9783 - loss: 0.1939 - val_acc: 1.0000 - val_loss: 0.1836\n",
            "Epoch 50/400\n",
            "\u001b[1m27/27\u001b[0m \u001b[32m━━━━━━━━━━━━━━━━━━━━\u001b[0m\u001b[37m\u001b[0m \u001b[1m0s\u001b[0m 3ms/step - acc: 0.9783 - loss: 0.1883 - val_acc: 1.0000 - val_loss: 0.1778\n",
            "Epoch 51/400\n",
            "\u001b[1m27/27\u001b[0m \u001b[32m━━━━━━━━━━━━━━━━━━━━\u001b[0m\u001b[37m\u001b[0m \u001b[1m0s\u001b[0m 3ms/step - acc: 0.9723 - loss: 0.1829 - val_acc: 1.0000 - val_loss: 0.1721\n",
            "Epoch 52/400\n",
            "\u001b[1m27/27\u001b[0m \u001b[32m━━━━━━━━━━━━━━━━━━━━\u001b[0m\u001b[37m\u001b[0m \u001b[1m0s\u001b[0m 4ms/step - acc: 0.9733 - loss: 0.1777 - val_acc: 1.0000 - val_loss: 0.1667\n",
            "Epoch 53/400\n",
            "\u001b[1m27/27\u001b[0m \u001b[32m━━━━━━━━━━━━━━━━━━━━\u001b[0m\u001b[37m\u001b[0m \u001b[1m0s\u001b[0m 3ms/step - acc: 0.9733 - loss: 0.1727 - val_acc: 1.0000 - val_loss: 0.1616\n",
            "Epoch 54/400\n",
            "\u001b[1m27/27\u001b[0m \u001b[32m━━━━━━━━━━━━━━━━━━━━\u001b[0m\u001b[37m\u001b[0m \u001b[1m0s\u001b[0m 3ms/step - acc: 0.9733 - loss: 0.1679 - val_acc: 1.0000 - val_loss: 0.1567\n",
            "Epoch 55/400\n",
            "\u001b[1m27/27\u001b[0m \u001b[32m━━━━━━━━━━━━━━━━━━━━\u001b[0m\u001b[37m\u001b[0m \u001b[1m0s\u001b[0m 3ms/step - acc: 0.9733 - loss: 0.1634 - val_acc: 1.0000 - val_loss: 0.1520\n",
            "Epoch 56/400\n",
            "\u001b[1m27/27\u001b[0m \u001b[32m━━━━━━━━━━━━━━━━━━━━\u001b[0m\u001b[37m\u001b[0m \u001b[1m0s\u001b[0m 3ms/step - acc: 0.9733 - loss: 0.1590 - val_acc: 1.0000 - val_loss: 0.1474\n",
            "Epoch 57/400\n",
            "\u001b[1m27/27\u001b[0m \u001b[32m━━━━━━━━━━━━━━━━━━━━\u001b[0m\u001b[37m\u001b[0m \u001b[1m0s\u001b[0m 4ms/step - acc: 0.9733 - loss: 0.1548 - val_acc: 1.0000 - val_loss: 0.1430\n",
            "Epoch 58/400\n",
            "\u001b[1m27/27\u001b[0m \u001b[32m━━━━━━━━━━━━━━━━━━━━\u001b[0m\u001b[37m\u001b[0m \u001b[1m0s\u001b[0m 3ms/step - acc: 0.9733 - loss: 0.1507 - val_acc: 1.0000 - val_loss: 0.1388\n",
            "Epoch 59/400\n",
            "\u001b[1m27/27\u001b[0m \u001b[32m━━━━━━━━━━━━━━━━━━━━\u001b[0m\u001b[37m\u001b[0m \u001b[1m0s\u001b[0m 3ms/step - acc: 0.9733 - loss: 0.1468 - val_acc: 1.0000 - val_loss: 0.1347\n",
            "Epoch 60/400\n",
            "\u001b[1m27/27\u001b[0m \u001b[32m━━━━━━━━━━━━━━━━━━━━\u001b[0m\u001b[37m\u001b[0m \u001b[1m0s\u001b[0m 3ms/step - acc: 0.9733 - loss: 0.1430 - val_acc: 1.0000 - val_loss: 0.1308\n",
            "Epoch 61/400\n",
            "\u001b[1m27/27\u001b[0m \u001b[32m━━━━━━━━━━━━━━━━━━━━\u001b[0m\u001b[37m\u001b[0m \u001b[1m0s\u001b[0m 3ms/step - acc: 0.9733 - loss: 0.1394 - val_acc: 1.0000 - val_loss: 0.1271\n",
            "Epoch 62/400\n",
            "\u001b[1m27/27\u001b[0m \u001b[32m━━━━━━━━━━━━━━━━━━━━\u001b[0m\u001b[37m\u001b[0m \u001b[1m0s\u001b[0m 3ms/step - acc: 0.9733 - loss: 0.1359 - val_acc: 1.0000 - val_loss: 0.1235\n",
            "Epoch 63/400\n",
            "\u001b[1m27/27\u001b[0m \u001b[32m━━━━━━━━━━━━━━━━━━━━\u001b[0m\u001b[37m\u001b[0m \u001b[1m0s\u001b[0m 3ms/step - acc: 0.9733 - loss: 0.1325 - val_acc: 1.0000 - val_loss: 0.1200\n",
            "Epoch 64/400\n",
            "\u001b[1m27/27\u001b[0m \u001b[32m━━━━━━━━━━━━━━━━━━━━\u001b[0m\u001b[37m\u001b[0m \u001b[1m0s\u001b[0m 3ms/step - acc: 0.9733 - loss: 0.1293 - val_acc: 1.0000 - val_loss: 0.1166\n",
            "Epoch 65/400\n",
            "\u001b[1m27/27\u001b[0m \u001b[32m━━━━━━━━━━━━━━━━━━━━\u001b[0m\u001b[37m\u001b[0m \u001b[1m0s\u001b[0m 5ms/step - acc: 0.9733 - loss: 0.1262 - val_acc: 1.0000 - val_loss: 0.1134\n",
            "Epoch 66/400\n",
            "\u001b[1m27/27\u001b[0m \u001b[32m━━━━━━━━━━━━━━━━━━━━\u001b[0m\u001b[37m\u001b[0m \u001b[1m0s\u001b[0m 4ms/step - acc: 0.9733 - loss: 0.1232 - val_acc: 1.0000 - val_loss: 0.1103\n",
            "Epoch 67/400\n",
            "\u001b[1m27/27\u001b[0m \u001b[32m━━━━━━━━━━━━━━━━━━━━\u001b[0m\u001b[37m\u001b[0m \u001b[1m0s\u001b[0m 4ms/step - acc: 0.9733 - loss: 0.1203 - val_acc: 1.0000 - val_loss: 0.1074\n",
            "Epoch 68/400\n",
            "\u001b[1m27/27\u001b[0m \u001b[32m━━━━━━━━━━━━━━━━━━━━\u001b[0m\u001b[37m\u001b[0m \u001b[1m0s\u001b[0m 4ms/step - acc: 0.9733 - loss: 0.1176 - val_acc: 1.0000 - val_loss: 0.1045\n",
            "Epoch 69/400\n",
            "\u001b[1m27/27\u001b[0m \u001b[32m━━━━━━━━━━━━━━━━━━━━\u001b[0m\u001b[37m\u001b[0m \u001b[1m0s\u001b[0m 4ms/step - acc: 0.9733 - loss: 0.1149 - val_acc: 1.0000 - val_loss: 0.1018\n",
            "Epoch 70/400\n",
            "\u001b[1m27/27\u001b[0m \u001b[32m━━━━━━━━━━━━━━━━━━━━\u001b[0m\u001b[37m\u001b[0m \u001b[1m0s\u001b[0m 5ms/step - acc: 0.9733 - loss: 0.1124 - val_acc: 1.0000 - val_loss: 0.0991\n",
            "Epoch 71/400\n",
            "\u001b[1m27/27\u001b[0m \u001b[32m━━━━━━━━━━━━━━━━━━━━\u001b[0m\u001b[37m\u001b[0m \u001b[1m0s\u001b[0m 5ms/step - acc: 0.9733 - loss: 0.1100 - val_acc: 1.0000 - val_loss: 0.0966\n",
            "Epoch 72/400\n",
            "\u001b[1m27/27\u001b[0m \u001b[32m━━━━━━━━━━━━━━━━━━━━\u001b[0m\u001b[37m\u001b[0m \u001b[1m0s\u001b[0m 5ms/step - acc: 0.9733 - loss: 0.1077 - val_acc: 1.0000 - val_loss: 0.0941\n",
            "Epoch 73/400\n",
            "\u001b[1m27/27\u001b[0m \u001b[32m━━━━━━━━━━━━━━━━━━━━\u001b[0m\u001b[37m\u001b[0m \u001b[1m0s\u001b[0m 5ms/step - acc: 0.9733 - loss: 0.1054 - val_acc: 1.0000 - val_loss: 0.0918\n",
            "Epoch 74/400\n",
            "\u001b[1m27/27\u001b[0m \u001b[32m━━━━━━━━━━━━━━━━━━━━\u001b[0m\u001b[37m\u001b[0m \u001b[1m0s\u001b[0m 3ms/step - acc: 0.9733 - loss: 0.1032 - val_acc: 1.0000 - val_loss: 0.0895\n",
            "Epoch 75/400\n",
            "\u001b[1m27/27\u001b[0m \u001b[32m━━━━━━━━━━━━━━━━━━━━\u001b[0m\u001b[37m\u001b[0m \u001b[1m0s\u001b[0m 4ms/step - acc: 0.9733 - loss: 0.1011 - val_acc: 1.0000 - val_loss: 0.0873\n",
            "Epoch 76/400\n",
            "\u001b[1m27/27\u001b[0m \u001b[32m━━━━━━━━━━━━━━━━━━━━\u001b[0m\u001b[37m\u001b[0m \u001b[1m0s\u001b[0m 4ms/step - acc: 0.9733 - loss: 0.0992 - val_acc: 1.0000 - val_loss: 0.0852\n",
            "Epoch 77/400\n",
            "\u001b[1m27/27\u001b[0m \u001b[32m━━━━━━━━━━━━━━━━━━━━\u001b[0m\u001b[37m\u001b[0m \u001b[1m0s\u001b[0m 3ms/step - acc: 0.9733 - loss: 0.0972 - val_acc: 1.0000 - val_loss: 0.0832\n",
            "Epoch 78/400\n",
            "\u001b[1m27/27\u001b[0m \u001b[32m━━━━━━━━━━━━━━━━━━━━\u001b[0m\u001b[37m\u001b[0m \u001b[1m0s\u001b[0m 3ms/step - acc: 0.9733 - loss: 0.0954 - val_acc: 1.0000 - val_loss: 0.0812\n",
            "Epoch 79/400\n",
            "\u001b[1m27/27\u001b[0m \u001b[32m━━━━━━━━━━━━━━━━━━━━\u001b[0m\u001b[37m\u001b[0m \u001b[1m0s\u001b[0m 3ms/step - acc: 0.9733 - loss: 0.0936 - val_acc: 1.0000 - val_loss: 0.0793\n",
            "Epoch 80/400\n",
            "\u001b[1m27/27\u001b[0m \u001b[32m━━━━━━━━━━━━━━━━━━━━\u001b[0m\u001b[37m\u001b[0m \u001b[1m0s\u001b[0m 3ms/step - acc: 0.9733 - loss: 0.0919 - val_acc: 1.0000 - val_loss: 0.0775\n",
            "Epoch 81/400\n",
            "\u001b[1m27/27\u001b[0m \u001b[32m━━━━━━━━━━━━━━━━━━━━\u001b[0m\u001b[37m\u001b[0m \u001b[1m0s\u001b[0m 4ms/step - acc: 0.9733 - loss: 0.0903 - val_acc: 1.0000 - val_loss: 0.0758\n",
            "Epoch 82/400\n",
            "\u001b[1m27/27\u001b[0m \u001b[32m━━━━━━━━━━━━━━━━━━━━\u001b[0m\u001b[37m\u001b[0m \u001b[1m0s\u001b[0m 4ms/step - acc: 0.9733 - loss: 0.0887 - val_acc: 1.0000 - val_loss: 0.0741\n",
            "Epoch 83/400\n",
            "\u001b[1m27/27\u001b[0m \u001b[32m━━━━━━━━━━━━━━━━━━━━\u001b[0m\u001b[37m\u001b[0m \u001b[1m0s\u001b[0m 4ms/step - acc: 0.9733 - loss: 0.0872 - val_acc: 1.0000 - val_loss: 0.0725\n",
            "Epoch 84/400\n",
            "\u001b[1m27/27\u001b[0m \u001b[32m━━━━━━━━━━━━━━━━━━━━\u001b[0m\u001b[37m\u001b[0m \u001b[1m0s\u001b[0m 3ms/step - acc: 0.9733 - loss: 0.0857 - val_acc: 1.0000 - val_loss: 0.0709\n",
            "Epoch 85/400\n",
            "\u001b[1m27/27\u001b[0m \u001b[32m━━━━━━━━━━━━━━━━━━━━\u001b[0m\u001b[37m\u001b[0m \u001b[1m0s\u001b[0m 3ms/step - acc: 0.9733 - loss: 0.0843 - val_acc: 1.0000 - val_loss: 0.0694\n",
            "Epoch 86/400\n",
            "\u001b[1m27/27\u001b[0m \u001b[32m━━━━━━━━━━━━━━━━━━━━\u001b[0m\u001b[37m\u001b[0m \u001b[1m0s\u001b[0m 3ms/step - acc: 0.9733 - loss: 0.0829 - val_acc: 1.0000 - val_loss: 0.0679\n",
            "Epoch 87/400\n",
            "\u001b[1m27/27\u001b[0m \u001b[32m━━━━━━━━━━━━━━━━━━━━\u001b[0m\u001b[37m\u001b[0m \u001b[1m0s\u001b[0m 4ms/step - acc: 0.9733 - loss: 0.0816 - val_acc: 1.0000 - val_loss: 0.0665\n",
            "Epoch 88/400\n",
            "\u001b[1m27/27\u001b[0m \u001b[32m━━━━━━━━━━━━━━━━━━━━\u001b[0m\u001b[37m\u001b[0m \u001b[1m0s\u001b[0m 4ms/step - acc: 0.9733 - loss: 0.0803 - val_acc: 1.0000 - val_loss: 0.0652\n",
            "Epoch 89/400\n",
            "\u001b[1m27/27\u001b[0m \u001b[32m━━━━━━━━━━━━━━━━━━━━\u001b[0m\u001b[37m\u001b[0m \u001b[1m0s\u001b[0m 3ms/step - acc: 0.9733 - loss: 0.0791 - val_acc: 1.0000 - val_loss: 0.0639\n",
            "Epoch 90/400\n",
            "\u001b[1m27/27\u001b[0m \u001b[32m━━━━━━━━━━━━━━━━━━━━\u001b[0m\u001b[37m\u001b[0m \u001b[1m0s\u001b[0m 4ms/step - acc: 0.9733 - loss: 0.0779 - val_acc: 1.0000 - val_loss: 0.0626\n",
            "Epoch 91/400\n",
            "\u001b[1m27/27\u001b[0m \u001b[32m━━━━━━━━━━━━━━━━━━━━\u001b[0m\u001b[37m\u001b[0m \u001b[1m0s\u001b[0m 3ms/step - acc: 0.9733 - loss: 0.0768 - val_acc: 1.0000 - val_loss: 0.0614\n",
            "Epoch 92/400\n",
            "\u001b[1m27/27\u001b[0m \u001b[32m━━━━━━━━━━━━━━━━━━━━\u001b[0m\u001b[37m\u001b[0m \u001b[1m0s\u001b[0m 3ms/step - acc: 0.9733 - loss: 0.0757 - val_acc: 1.0000 - val_loss: 0.0602\n",
            "Epoch 93/400\n",
            "\u001b[1m27/27\u001b[0m \u001b[32m━━━━━━━━━━━━━━━━━━━━\u001b[0m\u001b[37m\u001b[0m \u001b[1m0s\u001b[0m 3ms/step - acc: 0.9733 - loss: 0.0746 - val_acc: 1.0000 - val_loss: 0.0590\n",
            "Epoch 94/400\n",
            "\u001b[1m27/27\u001b[0m \u001b[32m━━━━━━━━━━━━━━━━━━━━\u001b[0m\u001b[37m\u001b[0m \u001b[1m0s\u001b[0m 3ms/step - acc: 0.9733 - loss: 0.0736 - val_acc: 1.0000 - val_loss: 0.0579\n",
            "Epoch 95/400\n",
            "\u001b[1m27/27\u001b[0m \u001b[32m━━━━━━━━━━━━━━━━━━━━\u001b[0m\u001b[37m\u001b[0m \u001b[1m0s\u001b[0m 3ms/step - acc: 0.9733 - loss: 0.0726 - val_acc: 1.0000 - val_loss: 0.0568\n",
            "Epoch 96/400\n",
            "\u001b[1m27/27\u001b[0m \u001b[32m━━━━━━━━━━━━━━━━━━━━\u001b[0m\u001b[37m\u001b[0m \u001b[1m0s\u001b[0m 4ms/step - acc: 0.9733 - loss: 0.0716 - val_acc: 1.0000 - val_loss: 0.0558\n",
            "Epoch 97/400\n",
            "\u001b[1m27/27\u001b[0m \u001b[32m━━━━━━━━━━━━━━━━━━━━\u001b[0m\u001b[37m\u001b[0m \u001b[1m0s\u001b[0m 3ms/step - acc: 0.9733 - loss: 0.0707 - val_acc: 1.0000 - val_loss: 0.0548\n",
            "Epoch 98/400\n",
            "\u001b[1m27/27\u001b[0m \u001b[32m━━━━━━━━━━━━━━━━━━━━\u001b[0m\u001b[37m\u001b[0m \u001b[1m0s\u001b[0m 3ms/step - acc: 0.9733 - loss: 0.0698 - val_acc: 1.0000 - val_loss: 0.0538\n",
            "Epoch 99/400\n",
            "\u001b[1m27/27\u001b[0m \u001b[32m━━━━━━━━━━━━━━━━━━━━\u001b[0m\u001b[37m\u001b[0m \u001b[1m0s\u001b[0m 3ms/step - acc: 0.9733 - loss: 0.0689 - val_acc: 1.0000 - val_loss: 0.0528\n",
            "Epoch 100/400\n",
            "\u001b[1m27/27\u001b[0m \u001b[32m━━━━━━━━━━━━━━━━━━━━\u001b[0m\u001b[37m\u001b[0m \u001b[1m0s\u001b[0m 3ms/step - acc: 0.9733 - loss: 0.0681 - val_acc: 1.0000 - val_loss: 0.0519\n",
            "Epoch 101/400\n",
            "\u001b[1m27/27\u001b[0m \u001b[32m━━━━━━━━━━━━━━━━━━━━\u001b[0m\u001b[37m\u001b[0m \u001b[1m0s\u001b[0m 3ms/step - acc: 0.9733 - loss: 0.0673 - val_acc: 1.0000 - val_loss: 0.0510\n",
            "Epoch 102/400\n",
            "\u001b[1m27/27\u001b[0m \u001b[32m━━━━━━━━━━━━━━━━━━━━\u001b[0m\u001b[37m\u001b[0m \u001b[1m0s\u001b[0m 3ms/step - acc: 0.9733 - loss: 0.0665 - val_acc: 1.0000 - val_loss: 0.0502\n",
            "Epoch 103/400\n",
            "\u001b[1m27/27\u001b[0m \u001b[32m━━━━━━━━━━━━━━━━━━━━\u001b[0m\u001b[37m\u001b[0m \u001b[1m0s\u001b[0m 4ms/step - acc: 0.9733 - loss: 0.0657 - val_acc: 1.0000 - val_loss: 0.0493\n",
            "Epoch 104/400\n",
            "\u001b[1m27/27\u001b[0m \u001b[32m━━━━━━━━━━━━━━━━━━━━\u001b[0m\u001b[37m\u001b[0m \u001b[1m0s\u001b[0m 3ms/step - acc: 0.9733 - loss: 0.0650 - val_acc: 1.0000 - val_loss: 0.0485\n",
            "Epoch 105/400\n",
            "\u001b[1m27/27\u001b[0m \u001b[32m━━━━━━━━━━━━━━━━━━━━\u001b[0m\u001b[37m\u001b[0m \u001b[1m0s\u001b[0m 3ms/step - acc: 0.9733 - loss: 0.0642 - val_acc: 1.0000 - val_loss: 0.0477\n",
            "Epoch 106/400\n",
            "\u001b[1m27/27\u001b[0m \u001b[32m━━━━━━━━━━━━━━━━━━━━\u001b[0m\u001b[37m\u001b[0m \u001b[1m0s\u001b[0m 3ms/step - acc: 0.9733 - loss: 0.0635 - val_acc: 1.0000 - val_loss: 0.0469\n",
            "Epoch 107/400\n",
            "\u001b[1m27/27\u001b[0m \u001b[32m━━━━━━━━━━━━━━━━━━━━\u001b[0m\u001b[37m\u001b[0m \u001b[1m0s\u001b[0m 3ms/step - acc: 0.9733 - loss: 0.0629 - val_acc: 1.0000 - val_loss: 0.0462\n",
            "Epoch 108/400\n",
            "\u001b[1m27/27\u001b[0m \u001b[32m━━━━━━━━━━━━━━━━━━━━\u001b[0m\u001b[37m\u001b[0m \u001b[1m0s\u001b[0m 3ms/step - acc: 0.9733 - loss: 0.0622 - val_acc: 1.0000 - val_loss: 0.0455\n",
            "Epoch 109/400\n",
            "\u001b[1m27/27\u001b[0m \u001b[32m━━━━━━━━━━━━━━━━━━━━\u001b[0m\u001b[37m\u001b[0m \u001b[1m0s\u001b[0m 4ms/step - acc: 0.9733 - loss: 0.0615 - val_acc: 1.0000 - val_loss: 0.0448\n",
            "Epoch 110/400\n",
            "\u001b[1m27/27\u001b[0m \u001b[32m━━━━━━━━━━━━━━━━━━━━\u001b[0m\u001b[37m\u001b[0m \u001b[1m0s\u001b[0m 3ms/step - acc: 0.9733 - loss: 0.0609 - val_acc: 1.0000 - val_loss: 0.0441\n",
            "Epoch 111/400\n",
            "\u001b[1m27/27\u001b[0m \u001b[32m━━━━━━━━━━━━━━━━━━━━\u001b[0m\u001b[37m\u001b[0m \u001b[1m0s\u001b[0m 3ms/step - acc: 0.9733 - loss: 0.0603 - val_acc: 1.0000 - val_loss: 0.0434\n",
            "Epoch 112/400\n",
            "\u001b[1m27/27\u001b[0m \u001b[32m━━━━━━━━━━━━━━━━━━━━\u001b[0m\u001b[37m\u001b[0m \u001b[1m0s\u001b[0m 3ms/step - acc: 0.9733 - loss: 0.0597 - val_acc: 1.0000 - val_loss: 0.0428\n",
            "Epoch 113/400\n",
            "\u001b[1m27/27\u001b[0m \u001b[32m━━━━━━━━━━━━━━━━━━━━\u001b[0m\u001b[37m\u001b[0m \u001b[1m0s\u001b[0m 3ms/step - acc: 0.9733 - loss: 0.0592 - val_acc: 1.0000 - val_loss: 0.0421\n",
            "Epoch 114/400\n",
            "\u001b[1m27/27\u001b[0m \u001b[32m━━━━━━━━━━━━━━━━━━━━\u001b[0m\u001b[37m\u001b[0m \u001b[1m0s\u001b[0m 3ms/step - acc: 0.9733 - loss: 0.0586 - val_acc: 1.0000 - val_loss: 0.0415\n",
            "Epoch 115/400\n",
            "\u001b[1m27/27\u001b[0m \u001b[32m━━━━━━━━━━━━━━━━━━━━\u001b[0m\u001b[37m\u001b[0m \u001b[1m0s\u001b[0m 3ms/step - acc: 0.9733 - loss: 0.0581 - val_acc: 1.0000 - val_loss: 0.0409\n",
            "Epoch 116/400\n",
            "\u001b[1m27/27\u001b[0m \u001b[32m━━━━━━━━━━━━━━━━━━━━\u001b[0m\u001b[37m\u001b[0m \u001b[1m0s\u001b[0m 3ms/step - acc: 0.9880 - loss: 0.0575 - val_acc: 1.0000 - val_loss: 0.0403\n",
            "Epoch 117/400\n",
            "\u001b[1m27/27\u001b[0m \u001b[32m━━━━━━━━━━━━━━━━━━━━\u001b[0m\u001b[37m\u001b[0m \u001b[1m0s\u001b[0m 3ms/step - acc: 0.9880 - loss: 0.0570 - val_acc: 1.0000 - val_loss: 0.0398\n",
            "Epoch 118/400\n",
            "\u001b[1m27/27\u001b[0m \u001b[32m━━━━━━━━━━━━━━━━━━━━\u001b[0m\u001b[37m\u001b[0m \u001b[1m0s\u001b[0m 3ms/step - acc: 0.9880 - loss: 0.0565 - val_acc: 1.0000 - val_loss: 0.0392\n",
            "Epoch 119/400\n",
            "\u001b[1m27/27\u001b[0m \u001b[32m━━━━━━━━━━━━━━━━━━━━\u001b[0m\u001b[37m\u001b[0m \u001b[1m0s\u001b[0m 3ms/step - acc: 0.9880 - loss: 0.0560 - val_acc: 1.0000 - val_loss: 0.0387\n",
            "Epoch 120/400\n",
            "\u001b[1m27/27\u001b[0m \u001b[32m━━━━━━━━━━━━━━━━━━━━\u001b[0m\u001b[37m\u001b[0m \u001b[1m0s\u001b[0m 3ms/step - acc: 0.9880 - loss: 0.0556 - val_acc: 1.0000 - val_loss: 0.0381\n",
            "Epoch 121/400\n",
            "\u001b[1m27/27\u001b[0m \u001b[32m━━━━━━━━━━━━━━━━━━━━\u001b[0m\u001b[37m\u001b[0m \u001b[1m0s\u001b[0m 3ms/step - acc: 0.9880 - loss: 0.0551 - val_acc: 1.0000 - val_loss: 0.0376\n",
            "Epoch 122/400\n",
            "\u001b[1m27/27\u001b[0m \u001b[32m━━━━━━━━━━━━━━━━━━━━\u001b[0m\u001b[37m\u001b[0m \u001b[1m0s\u001b[0m 3ms/step - acc: 0.9880 - loss: 0.0547 - val_acc: 1.0000 - val_loss: 0.0371\n",
            "Epoch 123/400\n",
            "\u001b[1m27/27\u001b[0m \u001b[32m━━━━━━━━━━━━━━━━━━━━\u001b[0m\u001b[37m\u001b[0m \u001b[1m0s\u001b[0m 3ms/step - acc: 0.9880 - loss: 0.0542 - val_acc: 1.0000 - val_loss: 0.0366\n",
            "Epoch 124/400\n",
            "\u001b[1m27/27\u001b[0m \u001b[32m━━━━━━━━━━━━━━━━━━━━\u001b[0m\u001b[37m\u001b[0m \u001b[1m0s\u001b[0m 4ms/step - acc: 0.9880 - loss: 0.0538 - val_acc: 1.0000 - val_loss: 0.0361\n",
            "Epoch 125/400\n",
            "\u001b[1m27/27\u001b[0m \u001b[32m━━━━━━━━━━━━━━━━━━━━\u001b[0m\u001b[37m\u001b[0m \u001b[1m0s\u001b[0m 3ms/step - acc: 0.9880 - loss: 0.0534 - val_acc: 1.0000 - val_loss: 0.0357\n",
            "Epoch 126/400\n",
            "\u001b[1m27/27\u001b[0m \u001b[32m━━━━━━━━━━━━━━━━━━━━\u001b[0m\u001b[37m\u001b[0m \u001b[1m0s\u001b[0m 3ms/step - acc: 0.9890 - loss: 0.0530 - val_acc: 1.0000 - val_loss: 0.0352\n",
            "Epoch 127/400\n",
            "\u001b[1m27/27\u001b[0m \u001b[32m━━━━━━━━━━━━━━━━━━━━\u001b[0m\u001b[37m\u001b[0m \u001b[1m0s\u001b[0m 3ms/step - acc: 0.9890 - loss: 0.0526 - val_acc: 1.0000 - val_loss: 0.0348\n",
            "Epoch 128/400\n",
            "\u001b[1m27/27\u001b[0m \u001b[32m━━━━━━━━━━━━━━━━━━━━\u001b[0m\u001b[37m\u001b[0m \u001b[1m0s\u001b[0m 3ms/step - acc: 0.9890 - loss: 0.0522 - val_acc: 1.0000 - val_loss: 0.0343\n",
            "Epoch 129/400\n",
            "\u001b[1m27/27\u001b[0m \u001b[32m━━━━━━━━━━━━━━━━━━━━\u001b[0m\u001b[37m\u001b[0m \u001b[1m0s\u001b[0m 3ms/step - acc: 0.9890 - loss: 0.0518 - val_acc: 1.0000 - val_loss: 0.0339\n",
            "Epoch 130/400\n",
            "\u001b[1m27/27\u001b[0m \u001b[32m━━━━━━━━━━━━━━━━━━━━\u001b[0m\u001b[37m\u001b[0m \u001b[1m0s\u001b[0m 3ms/step - acc: 0.9890 - loss: 0.0514 - val_acc: 1.0000 - val_loss: 0.0335\n",
            "Epoch 131/400\n",
            "\u001b[1m27/27\u001b[0m \u001b[32m━━━━━━━━━━━━━━━━━━━━\u001b[0m\u001b[37m\u001b[0m \u001b[1m0s\u001b[0m 3ms/step - acc: 0.9890 - loss: 0.0511 - val_acc: 1.0000 - val_loss: 0.0331\n",
            "Epoch 132/400\n",
            "\u001b[1m27/27\u001b[0m \u001b[32m━━━━━━━━━━━━━━━━━━━━\u001b[0m\u001b[37m\u001b[0m \u001b[1m0s\u001b[0m 3ms/step - acc: 0.9890 - loss: 0.0507 - val_acc: 1.0000 - val_loss: 0.0327\n",
            "Epoch 133/400\n",
            "\u001b[1m27/27\u001b[0m \u001b[32m━━━━━━━━━━━━━━━━━━━━\u001b[0m\u001b[37m\u001b[0m \u001b[1m0s\u001b[0m 3ms/step - acc: 0.9890 - loss: 0.0504 - val_acc: 1.0000 - val_loss: 0.0323\n",
            "Epoch 134/400\n",
            "\u001b[1m27/27\u001b[0m \u001b[32m━━━━━━━━━━━━━━━━━━━━\u001b[0m\u001b[37m\u001b[0m \u001b[1m0s\u001b[0m 3ms/step - acc: 0.9890 - loss: 0.0500 - val_acc: 1.0000 - val_loss: 0.0319\n",
            "Epoch 135/400\n",
            "\u001b[1m27/27\u001b[0m \u001b[32m━━━━━━━━━━━━━━━━━━━━\u001b[0m\u001b[37m\u001b[0m \u001b[1m0s\u001b[0m 3ms/step - acc: 0.9890 - loss: 0.0497 - val_acc: 1.0000 - val_loss: 0.0316\n",
            "Epoch 136/400\n",
            "\u001b[1m27/27\u001b[0m \u001b[32m━━━━━━━━━━━━━━━━━━━━\u001b[0m\u001b[37m\u001b[0m \u001b[1m0s\u001b[0m 3ms/step - acc: 0.9890 - loss: 0.0494 - val_acc: 1.0000 - val_loss: 0.0312\n",
            "Epoch 137/400\n",
            "\u001b[1m27/27\u001b[0m \u001b[32m━━━━━━━━━━━━━━━━━━━━\u001b[0m\u001b[37m\u001b[0m \u001b[1m0s\u001b[0m 3ms/step - acc: 0.9890 - loss: 0.0491 - val_acc: 1.0000 - val_loss: 0.0309\n",
            "Epoch 138/400\n",
            "\u001b[1m27/27\u001b[0m \u001b[32m━━━━━━━━━━━━━━━━━━━━\u001b[0m\u001b[37m\u001b[0m \u001b[1m0s\u001b[0m 4ms/step - acc: 0.9890 - loss: 0.0488 - val_acc: 1.0000 - val_loss: 0.0305\n",
            "Epoch 139/400\n",
            "\u001b[1m27/27\u001b[0m \u001b[32m━━━━━━━━━━━━━━━━━━━━\u001b[0m\u001b[37m\u001b[0m \u001b[1m0s\u001b[0m 4ms/step - acc: 0.9890 - loss: 0.0485 - val_acc: 1.0000 - val_loss: 0.0301\n",
            "Epoch 140/400\n",
            "\u001b[1m27/27\u001b[0m \u001b[32m━━━━━━━━━━━━━━━━━━━━\u001b[0m\u001b[37m\u001b[0m \u001b[1m0s\u001b[0m 3ms/step - acc: 0.9890 - loss: 0.0482 - val_acc: 1.0000 - val_loss: 0.0298\n",
            "Epoch 141/400\n",
            "\u001b[1m27/27\u001b[0m \u001b[32m━━━━━━━━━━━━━━━━━━━━\u001b[0m\u001b[37m\u001b[0m \u001b[1m0s\u001b[0m 3ms/step - acc: 0.9890 - loss: 0.0479 - val_acc: 1.0000 - val_loss: 0.0295\n",
            "Epoch 142/400\n",
            "\u001b[1m27/27\u001b[0m \u001b[32m━━━━━━━━━━━━━━━━━━━━\u001b[0m\u001b[37m\u001b[0m \u001b[1m0s\u001b[0m 3ms/step - acc: 0.9890 - loss: 0.0476 - val_acc: 1.0000 - val_loss: 0.0292\n",
            "Epoch 143/400\n",
            "\u001b[1m27/27\u001b[0m \u001b[32m━━━━━━━━━━━━━━━━━━━━\u001b[0m\u001b[37m\u001b[0m \u001b[1m0s\u001b[0m 5ms/step - acc: 0.9890 - loss: 0.0473 - val_acc: 1.0000 - val_loss: 0.0289\n",
            "Epoch 144/400\n",
            "\u001b[1m27/27\u001b[0m \u001b[32m━━━━━━━━━━━━━━━━━━━━\u001b[0m\u001b[37m\u001b[0m \u001b[1m0s\u001b[0m 7ms/step - acc: 0.9890 - loss: 0.0471 - val_acc: 1.0000 - val_loss: 0.0286\n",
            "Epoch 145/400\n",
            "\u001b[1m27/27\u001b[0m \u001b[32m━━━━━━━━━━━━━━━━━━━━\u001b[0m\u001b[37m\u001b[0m \u001b[1m0s\u001b[0m 6ms/step - acc: 0.9890 - loss: 0.0468 - val_acc: 1.0000 - val_loss: 0.0283\n",
            "Epoch 146/400\n",
            "\u001b[1m27/27\u001b[0m \u001b[32m━━━━━━━━━━━━━━━━━━━━\u001b[0m\u001b[37m\u001b[0m \u001b[1m0s\u001b[0m 5ms/step - acc: 0.9890 - loss: 0.0465 - val_acc: 1.0000 - val_loss: 0.0280\n",
            "Epoch 147/400\n",
            "\u001b[1m27/27\u001b[0m \u001b[32m━━━━━━━━━━━━━━━━━━━━\u001b[0m\u001b[37m\u001b[0m \u001b[1m0s\u001b[0m 4ms/step - acc: 0.9890 - loss: 0.0463 - val_acc: 1.0000 - val_loss: 0.0276\n",
            "Epoch 148/400\n",
            "\u001b[1m27/27\u001b[0m \u001b[32m━━━━━━━━━━━━━━━━━━━━\u001b[0m\u001b[37m\u001b[0m \u001b[1m0s\u001b[0m 6ms/step - acc: 0.9890 - loss: 0.0460 - val_acc: 1.0000 - val_loss: 0.0274\n",
            "Epoch 149/400\n",
            "\u001b[1m27/27\u001b[0m \u001b[32m━━━━━━━━━━━━━━━━━━━━\u001b[0m\u001b[37m\u001b[0m \u001b[1m0s\u001b[0m 5ms/step - acc: 0.9880 - loss: 0.0458 - val_acc: 1.0000 - val_loss: 0.0271\n",
            "Epoch 150/400\n",
            "\u001b[1m27/27\u001b[0m \u001b[32m━━━━━━━━━━━━━━━━━━━━\u001b[0m\u001b[37m\u001b[0m \u001b[1m0s\u001b[0m 4ms/step - acc: 0.9880 - loss: 0.0455 - val_acc: 1.0000 - val_loss: 0.0268\n",
            "Epoch 151/400\n",
            "\u001b[1m27/27\u001b[0m \u001b[32m━━━━━━━━━━━━━━━━━━━━\u001b[0m\u001b[37m\u001b[0m \u001b[1m0s\u001b[0m 6ms/step - acc: 0.9880 - loss: 0.0453 - val_acc: 1.0000 - val_loss: 0.0266\n",
            "Epoch 152/400\n",
            "\u001b[1m27/27\u001b[0m \u001b[32m━━━━━━━━━━━━━━━━━━━━\u001b[0m\u001b[37m\u001b[0m \u001b[1m0s\u001b[0m 4ms/step - acc: 0.9880 - loss: 0.0451 - val_acc: 1.0000 - val_loss: 0.0263\n",
            "Epoch 153/400\n",
            "\u001b[1m27/27\u001b[0m \u001b[32m━━━━━━━━━━━━━━━━━━━━\u001b[0m\u001b[37m\u001b[0m \u001b[1m0s\u001b[0m 3ms/step - acc: 0.9880 - loss: 0.0449 - val_acc: 1.0000 - val_loss: 0.0260\n",
            "Epoch 154/400\n",
            "\u001b[1m27/27\u001b[0m \u001b[32m━━━━━━━━━━━━━━━━━━━━\u001b[0m\u001b[37m\u001b[0m \u001b[1m0s\u001b[0m 3ms/step - acc: 0.9880 - loss: 0.0446 - val_acc: 1.0000 - val_loss: 0.0258\n",
            "Epoch 155/400\n",
            "\u001b[1m27/27\u001b[0m \u001b[32m━━━━━━━━━━━━━━━━━━━━\u001b[0m\u001b[37m\u001b[0m \u001b[1m0s\u001b[0m 3ms/step - acc: 0.9880 - loss: 0.0444 - val_acc: 1.0000 - val_loss: 0.0255\n",
            "Epoch 156/400\n",
            "\u001b[1m27/27\u001b[0m \u001b[32m━━━━━━━━━━━━━━━━━━━━\u001b[0m\u001b[37m\u001b[0m \u001b[1m0s\u001b[0m 3ms/step - acc: 0.9880 - loss: 0.0442 - val_acc: 1.0000 - val_loss: 0.0253\n",
            "Epoch 157/400\n",
            "\u001b[1m27/27\u001b[0m \u001b[32m━━━━━━━━━━━━━━━━━━━━\u001b[0m\u001b[37m\u001b[0m \u001b[1m0s\u001b[0m 3ms/step - acc: 0.9880 - loss: 0.0440 - val_acc: 1.0000 - val_loss: 0.0250\n",
            "Epoch 158/400\n",
            "\u001b[1m27/27\u001b[0m \u001b[32m━━━━━━━━━━━━━━━━━━━━\u001b[0m\u001b[37m\u001b[0m \u001b[1m0s\u001b[0m 3ms/step - acc: 0.9880 - loss: 0.0438 - val_acc: 1.0000 - val_loss: 0.0248\n",
            "Epoch 159/400\n",
            "\u001b[1m27/27\u001b[0m \u001b[32m━━━━━━━━━━━━━━━━━━━━\u001b[0m\u001b[37m\u001b[0m \u001b[1m0s\u001b[0m 3ms/step - acc: 0.9880 - loss: 0.0436 - val_acc: 1.0000 - val_loss: 0.0246\n",
            "Epoch 160/400\n",
            "\u001b[1m27/27\u001b[0m \u001b[32m━━━━━━━━━━━━━━━━━━━━\u001b[0m\u001b[37m\u001b[0m \u001b[1m0s\u001b[0m 3ms/step - acc: 0.9880 - loss: 0.0434 - val_acc: 1.0000 - val_loss: 0.0243\n",
            "Epoch 161/400\n",
            "\u001b[1m27/27\u001b[0m \u001b[32m━━━━━━━━━━━━━━━━━━━━\u001b[0m\u001b[37m\u001b[0m \u001b[1m0s\u001b[0m 3ms/step - acc: 0.9880 - loss: 0.0432 - val_acc: 1.0000 - val_loss: 0.0241\n",
            "Epoch 162/400\n",
            "\u001b[1m27/27\u001b[0m \u001b[32m━━━━━━━━━━━━━━━━━━━━\u001b[0m\u001b[37m\u001b[0m \u001b[1m0s\u001b[0m 3ms/step - acc: 0.9880 - loss: 0.0430 - val_acc: 1.0000 - val_loss: 0.0239\n",
            "Epoch 163/400\n",
            "\u001b[1m27/27\u001b[0m \u001b[32m━━━━━━━━━━━━━━━━━━━━\u001b[0m\u001b[37m\u001b[0m \u001b[1m0s\u001b[0m 3ms/step - acc: 0.9880 - loss: 0.0428 - val_acc: 1.0000 - val_loss: 0.0237\n",
            "Epoch 164/400\n",
            "\u001b[1m27/27\u001b[0m \u001b[32m━━━━━━━━━━━━━━━━━━━━\u001b[0m\u001b[37m\u001b[0m \u001b[1m0s\u001b[0m 3ms/step - acc: 0.9880 - loss: 0.0426 - val_acc: 1.0000 - val_loss: 0.0235\n",
            "Epoch 165/400\n",
            "\u001b[1m27/27\u001b[0m \u001b[32m━━━━━━━━━━━━━━━━━━━━\u001b[0m\u001b[37m\u001b[0m \u001b[1m0s\u001b[0m 4ms/step - acc: 0.9880 - loss: 0.0425 - val_acc: 1.0000 - val_loss: 0.0232\n",
            "Epoch 166/400\n",
            "\u001b[1m27/27\u001b[0m \u001b[32m━━━━━━━━━━━━━━━━━━━━\u001b[0m\u001b[37m\u001b[0m \u001b[1m0s\u001b[0m 3ms/step - acc: 0.9880 - loss: 0.0423 - val_acc: 1.0000 - val_loss: 0.0230\n",
            "Epoch 167/400\n",
            "\u001b[1m27/27\u001b[0m \u001b[32m━━━━━━━━━━━━━━━━━━━━\u001b[0m\u001b[37m\u001b[0m \u001b[1m0s\u001b[0m 4ms/step - acc: 0.9880 - loss: 0.0421 - val_acc: 1.0000 - val_loss: 0.0228\n",
            "Epoch 168/400\n",
            "\u001b[1m27/27\u001b[0m \u001b[32m━━━━━━━━━━━━━━━━━━━━\u001b[0m\u001b[37m\u001b[0m \u001b[1m0s\u001b[0m 3ms/step - acc: 0.9880 - loss: 0.0419 - val_acc: 1.0000 - val_loss: 0.0226\n",
            "Epoch 169/400\n",
            "\u001b[1m27/27\u001b[0m \u001b[32m━━━━━━━━━━━━━━━━━━━━\u001b[0m\u001b[37m\u001b[0m \u001b[1m0s\u001b[0m 3ms/step - acc: 0.9880 - loss: 0.0418 - val_acc: 1.0000 - val_loss: 0.0224\n",
            "Epoch 170/400\n",
            "\u001b[1m27/27\u001b[0m \u001b[32m━━━━━━━━━━━━━━━━━━━━\u001b[0m\u001b[37m\u001b[0m \u001b[1m0s\u001b[0m 3ms/step - acc: 0.9880 - loss: 0.0416 - val_acc: 1.0000 - val_loss: 0.0222\n",
            "Epoch 171/400\n",
            "\u001b[1m27/27\u001b[0m \u001b[32m━━━━━━━━━━━━━━━━━━━━\u001b[0m\u001b[37m\u001b[0m \u001b[1m0s\u001b[0m 3ms/step - acc: 0.9880 - loss: 0.0414 - val_acc: 1.0000 - val_loss: 0.0220\n",
            "Epoch 172/400\n",
            "\u001b[1m27/27\u001b[0m \u001b[32m━━━━━━━━━━━━━━━━━━━━\u001b[0m\u001b[37m\u001b[0m \u001b[1m0s\u001b[0m 4ms/step - acc: 0.9880 - loss: 0.0413 - val_acc: 1.0000 - val_loss: 0.0219\n",
            "Epoch 173/400\n",
            "\u001b[1m27/27\u001b[0m \u001b[32m━━━━━━━━━━━━━━━━━━━━\u001b[0m\u001b[37m\u001b[0m \u001b[1m0s\u001b[0m 3ms/step - acc: 0.9880 - loss: 0.0411 - val_acc: 1.0000 - val_loss: 0.0217\n",
            "Epoch 174/400\n",
            "\u001b[1m27/27\u001b[0m \u001b[32m━━━━━━━━━━━━━━━━━━━━\u001b[0m\u001b[37m\u001b[0m \u001b[1m0s\u001b[0m 3ms/step - acc: 0.9880 - loss: 0.0410 - val_acc: 1.0000 - val_loss: 0.0215\n",
            "Epoch 175/400\n",
            "\u001b[1m27/27\u001b[0m \u001b[32m━━━━━━━━━━━━━━━━━━━━\u001b[0m\u001b[37m\u001b[0m \u001b[1m0s\u001b[0m 3ms/step - acc: 0.9880 - loss: 0.0408 - val_acc: 1.0000 - val_loss: 0.0213\n",
            "Epoch 176/400\n",
            "\u001b[1m27/27\u001b[0m \u001b[32m━━━━━━━━━━━━━━━━━━━━\u001b[0m\u001b[37m\u001b[0m \u001b[1m0s\u001b[0m 3ms/step - acc: 0.9880 - loss: 0.0407 - val_acc: 1.0000 - val_loss: 0.0211\n",
            "Epoch 177/400\n",
            "\u001b[1m27/27\u001b[0m \u001b[32m━━━━━━━━━━━━━━━━━━━━\u001b[0m\u001b[37m\u001b[0m \u001b[1m0s\u001b[0m 3ms/step - acc: 0.9880 - loss: 0.0405 - val_acc: 1.0000 - val_loss: 0.0210\n",
            "Epoch 178/400\n",
            "\u001b[1m27/27\u001b[0m \u001b[32m━━━━━━━━━━━━━━━━━━━━\u001b[0m\u001b[37m\u001b[0m \u001b[1m0s\u001b[0m 3ms/step - acc: 0.9880 - loss: 0.0404 - val_acc: 1.0000 - val_loss: 0.0208\n",
            "Epoch 179/400\n",
            "\u001b[1m27/27\u001b[0m \u001b[32m━━━━━━━━━━━━━━━━━━━━\u001b[0m\u001b[37m\u001b[0m \u001b[1m0s\u001b[0m 3ms/step - acc: 0.9880 - loss: 0.0402 - val_acc: 1.0000 - val_loss: 0.0206\n",
            "Epoch 180/400\n",
            "\u001b[1m27/27\u001b[0m \u001b[32m━━━━━━━━━━━━━━━━━━━━\u001b[0m\u001b[37m\u001b[0m \u001b[1m0s\u001b[0m 3ms/step - acc: 0.9880 - loss: 0.0401 - val_acc: 1.0000 - val_loss: 0.0205\n",
            "Epoch 181/400\n",
            "\u001b[1m27/27\u001b[0m \u001b[32m━━━━━━━━━━━━━━━━━━━━\u001b[0m\u001b[37m\u001b[0m \u001b[1m0s\u001b[0m 3ms/step - acc: 0.9880 - loss: 0.0399 - val_acc: 1.0000 - val_loss: 0.0203\n",
            "Epoch 182/400\n",
            "\u001b[1m27/27\u001b[0m \u001b[32m━━━━━━━━━━━━━━━━━━━━\u001b[0m\u001b[37m\u001b[0m \u001b[1m0s\u001b[0m 3ms/step - acc: 0.9880 - loss: 0.0398 - val_acc: 1.0000 - val_loss: 0.0202\n",
            "Epoch 183/400\n",
            "\u001b[1m27/27\u001b[0m \u001b[32m━━━━━━━━━━━━━━━━━━━━\u001b[0m\u001b[37m\u001b[0m \u001b[1m0s\u001b[0m 3ms/step - acc: 0.9880 - loss: 0.0397 - val_acc: 1.0000 - val_loss: 0.0200\n",
            "Epoch 184/400\n",
            "\u001b[1m27/27\u001b[0m \u001b[32m━━━━━━━━━━━━━━━━━━━━\u001b[0m\u001b[37m\u001b[0m \u001b[1m0s\u001b[0m 3ms/step - acc: 0.9880 - loss: 0.0395 - val_acc: 1.0000 - val_loss: 0.0198\n",
            "Epoch 185/400\n",
            "\u001b[1m27/27\u001b[0m \u001b[32m━━━━━━━━━━━━━━━━━━━━\u001b[0m\u001b[37m\u001b[0m \u001b[1m0s\u001b[0m 3ms/step - acc: 0.9880 - loss: 0.0394 - val_acc: 1.0000 - val_loss: 0.0197\n",
            "Epoch 186/400\n",
            "\u001b[1m27/27\u001b[0m \u001b[32m━━━━━━━━━━━━━━━━━━━━\u001b[0m\u001b[37m\u001b[0m \u001b[1m0s\u001b[0m 3ms/step - acc: 0.9880 - loss: 0.0393 - val_acc: 1.0000 - val_loss: 0.0195\n",
            "Epoch 187/400\n",
            "\u001b[1m27/27\u001b[0m \u001b[32m━━━━━━━━━━━━━━━━━━━━\u001b[0m\u001b[37m\u001b[0m \u001b[1m0s\u001b[0m 4ms/step - acc: 0.9880 - loss: 0.0392 - val_acc: 1.0000 - val_loss: 0.0194\n",
            "Epoch 188/400\n",
            "\u001b[1m27/27\u001b[0m \u001b[32m━━━━━━━━━━━━━━━━━━━━\u001b[0m\u001b[37m\u001b[0m \u001b[1m0s\u001b[0m 3ms/step - acc: 0.9880 - loss: 0.0390 - val_acc: 1.0000 - val_loss: 0.0192\n",
            "Epoch 189/400\n",
            "\u001b[1m27/27\u001b[0m \u001b[32m━━━━━━━━━━━━━━━━━━━━\u001b[0m\u001b[37m\u001b[0m \u001b[1m0s\u001b[0m 3ms/step - acc: 0.9880 - loss: 0.0389 - val_acc: 1.0000 - val_loss: 0.0191\n",
            "Epoch 190/400\n",
            "\u001b[1m27/27\u001b[0m \u001b[32m━━━━━━━━━━━━━━━━━━━━\u001b[0m\u001b[37m\u001b[0m \u001b[1m0s\u001b[0m 3ms/step - acc: 0.9880 - loss: 0.0388 - val_acc: 1.0000 - val_loss: 0.0190\n",
            "Epoch 191/400\n",
            "\u001b[1m27/27\u001b[0m \u001b[32m━━━━━━━━━━━━━━━━━━━━\u001b[0m\u001b[37m\u001b[0m \u001b[1m0s\u001b[0m 3ms/step - acc: 0.9880 - loss: 0.0387 - val_acc: 1.0000 - val_loss: 0.0188\n",
            "Epoch 192/400\n",
            "\u001b[1m27/27\u001b[0m \u001b[32m━━━━━━━━━━━━━━━━━━━━\u001b[0m\u001b[37m\u001b[0m \u001b[1m0s\u001b[0m 3ms/step - acc: 0.9880 - loss: 0.0386 - val_acc: 1.0000 - val_loss: 0.0187\n",
            "Epoch 193/400\n",
            "\u001b[1m27/27\u001b[0m \u001b[32m━━━━━━━━━━━━━━━━━━━━\u001b[0m\u001b[37m\u001b[0m \u001b[1m0s\u001b[0m 4ms/step - acc: 0.9880 - loss: 0.0384 - val_acc: 1.0000 - val_loss: 0.0185\n",
            "Epoch 194/400\n",
            "\u001b[1m27/27\u001b[0m \u001b[32m━━━━━━━━━━━━━━━━━━━━\u001b[0m\u001b[37m\u001b[0m \u001b[1m0s\u001b[0m 3ms/step - acc: 0.9880 - loss: 0.0383 - val_acc: 1.0000 - val_loss: 0.0184\n",
            "Epoch 195/400\n",
            "\u001b[1m27/27\u001b[0m \u001b[32m━━━━━━━━━━━━━━━━━━━━\u001b[0m\u001b[37m\u001b[0m \u001b[1m0s\u001b[0m 3ms/step - acc: 0.9880 - loss: 0.0382 - val_acc: 1.0000 - val_loss: 0.0183\n",
            "Epoch 196/400\n",
            "\u001b[1m27/27\u001b[0m \u001b[32m━━━━━━━━━━━━━━━━━━━━\u001b[0m\u001b[37m\u001b[0m \u001b[1m0s\u001b[0m 4ms/step - acc: 0.9880 - loss: 0.0381 - val_acc: 1.0000 - val_loss: 0.0181\n",
            "Epoch 197/400\n",
            "\u001b[1m27/27\u001b[0m \u001b[32m━━━━━━━━━━━━━━━━━━━━\u001b[0m\u001b[37m\u001b[0m \u001b[1m0s\u001b[0m 3ms/step - acc: 0.9880 - loss: 0.0380 - val_acc: 1.0000 - val_loss: 0.0180\n",
            "Epoch 198/400\n",
            "\u001b[1m27/27\u001b[0m \u001b[32m━━━━━━━━━━━━━━━━━━━━\u001b[0m\u001b[37m\u001b[0m \u001b[1m0s\u001b[0m 4ms/step - acc: 0.9880 - loss: 0.0379 - val_acc: 1.0000 - val_loss: 0.0179\n",
            "Epoch 199/400\n",
            "\u001b[1m27/27\u001b[0m \u001b[32m━━━━━━━━━━━━━━━━━━━━\u001b[0m\u001b[37m\u001b[0m \u001b[1m0s\u001b[0m 3ms/step - acc: 0.9880 - loss: 0.0378 - val_acc: 1.0000 - val_loss: 0.0177\n",
            "Epoch 200/400\n",
            "\u001b[1m27/27\u001b[0m \u001b[32m━━━━━━━━━━━━━━━━━━━━\u001b[0m\u001b[37m\u001b[0m \u001b[1m0s\u001b[0m 3ms/step - acc: 0.9880 - loss: 0.0377 - val_acc: 1.0000 - val_loss: 0.0176\n",
            "Epoch 201/400\n",
            "\u001b[1m27/27\u001b[0m \u001b[32m━━━━━━━━━━━━━━━━━━━━\u001b[0m\u001b[37m\u001b[0m \u001b[1m0s\u001b[0m 3ms/step - acc: 0.9880 - loss: 0.0376 - val_acc: 1.0000 - val_loss: 0.0175\n",
            "Epoch 202/400\n",
            "\u001b[1m27/27\u001b[0m \u001b[32m━━━━━━━━━━━━━━━━━━━━\u001b[0m\u001b[37m\u001b[0m \u001b[1m0s\u001b[0m 3ms/step - acc: 0.9880 - loss: 0.0375 - val_acc: 1.0000 - val_loss: 0.0174\n",
            "Epoch 203/400\n",
            "\u001b[1m27/27\u001b[0m \u001b[32m━━━━━━━━━━━━━━━━━━━━\u001b[0m\u001b[37m\u001b[0m \u001b[1m0s\u001b[0m 3ms/step - acc: 0.9880 - loss: 0.0374 - val_acc: 1.0000 - val_loss: 0.0172\n",
            "Epoch 204/400\n",
            "\u001b[1m27/27\u001b[0m \u001b[32m━━━━━━━━━━━━━━━━━━━━\u001b[0m\u001b[37m\u001b[0m \u001b[1m0s\u001b[0m 3ms/step - acc: 0.9880 - loss: 0.0373 - val_acc: 1.0000 - val_loss: 0.0171\n",
            "Epoch 205/400\n",
            "\u001b[1m27/27\u001b[0m \u001b[32m━━━━━━━━━━━━━━━━━━━━\u001b[0m\u001b[37m\u001b[0m \u001b[1m0s\u001b[0m 3ms/step - acc: 0.9880 - loss: 0.0372 - val_acc: 1.0000 - val_loss: 0.0170\n",
            "Epoch 206/400\n",
            "\u001b[1m27/27\u001b[0m \u001b[32m━━━━━━━━━━━━━━━━━━━━\u001b[0m\u001b[37m\u001b[0m \u001b[1m0s\u001b[0m 3ms/step - acc: 0.9880 - loss: 0.0371 - val_acc: 1.0000 - val_loss: 0.0169\n",
            "Epoch 207/400\n",
            "\u001b[1m27/27\u001b[0m \u001b[32m━━━━━━━━━━━━━━━━━━━━\u001b[0m\u001b[37m\u001b[0m \u001b[1m0s\u001b[0m 3ms/step - acc: 0.9880 - loss: 0.0370 - val_acc: 1.0000 - val_loss: 0.0168\n",
            "Epoch 208/400\n",
            "\u001b[1m27/27\u001b[0m \u001b[32m━━━━━━━━━━━━━━━━━━━━\u001b[0m\u001b[37m\u001b[0m \u001b[1m0s\u001b[0m 4ms/step - acc: 0.9880 - loss: 0.0369 - val_acc: 1.0000 - val_loss: 0.0167\n",
            "Epoch 209/400\n",
            "\u001b[1m27/27\u001b[0m \u001b[32m━━━━━━━━━━━━━━━━━━━━\u001b[0m\u001b[37m\u001b[0m \u001b[1m0s\u001b[0m 3ms/step - acc: 0.9880 - loss: 0.0368 - val_acc: 1.0000 - val_loss: 0.0166\n",
            "Epoch 210/400\n",
            "\u001b[1m27/27\u001b[0m \u001b[32m━━━━━━━━━━━━━━━━━━━━\u001b[0m\u001b[37m\u001b[0m \u001b[1m0s\u001b[0m 3ms/step - acc: 0.9880 - loss: 0.0367 - val_acc: 1.0000 - val_loss: 0.0164\n",
            "Epoch 211/400\n",
            "\u001b[1m27/27\u001b[0m \u001b[32m━━━━━━━━━━━━━━━━━━━━\u001b[0m\u001b[37m\u001b[0m \u001b[1m0s\u001b[0m 4ms/step - acc: 0.9880 - loss: 0.0366 - val_acc: 1.0000 - val_loss: 0.0164\n",
            "Epoch 212/400\n",
            "\u001b[1m27/27\u001b[0m \u001b[32m━━━━━━━━━━━━━━━━━━━━\u001b[0m\u001b[37m\u001b[0m \u001b[1m0s\u001b[0m 3ms/step - acc: 0.9880 - loss: 0.0366 - val_acc: 1.0000 - val_loss: 0.0163\n",
            "Epoch 213/400\n",
            "\u001b[1m27/27\u001b[0m \u001b[32m━━━━━━━━━━━━━━━━━━━━\u001b[0m\u001b[37m\u001b[0m \u001b[1m0s\u001b[0m 4ms/step - acc: 0.9880 - loss: 0.0365 - val_acc: 1.0000 - val_loss: 0.0161\n",
            "Epoch 214/400\n",
            "\u001b[1m27/27\u001b[0m \u001b[32m━━━━━━━━━━━━━━━━━━━━\u001b[0m\u001b[37m\u001b[0m \u001b[1m0s\u001b[0m 3ms/step - acc: 0.9880 - loss: 0.0364 - val_acc: 1.0000 - val_loss: 0.0160\n",
            "Epoch 215/400\n",
            "\u001b[1m27/27\u001b[0m \u001b[32m━━━━━━━━━━━━━━━━━━━━\u001b[0m\u001b[37m\u001b[0m \u001b[1m0s\u001b[0m 4ms/step - acc: 0.9880 - loss: 0.0363 - val_acc: 1.0000 - val_loss: 0.0159\n",
            "Epoch 216/400\n",
            "\u001b[1m27/27\u001b[0m \u001b[32m━━━━━━━━━━━━━━━━━━━━\u001b[0m\u001b[37m\u001b[0m \u001b[1m0s\u001b[0m 3ms/step - acc: 0.9880 - loss: 0.0362 - val_acc: 1.0000 - val_loss: 0.0158\n",
            "Epoch 217/400\n",
            "\u001b[1m27/27\u001b[0m \u001b[32m━━━━━━━━━━━━━━━━━━━━\u001b[0m\u001b[37m\u001b[0m \u001b[1m0s\u001b[0m 3ms/step - acc: 0.9880 - loss: 0.0361 - val_acc: 1.0000 - val_loss: 0.0157\n",
            "Epoch 218/400\n",
            "\u001b[1m27/27\u001b[0m \u001b[32m━━━━━━━━━━━━━━━━━━━━\u001b[0m\u001b[37m\u001b[0m \u001b[1m0s\u001b[0m 3ms/step - acc: 0.9880 - loss: 0.0361 - val_acc: 1.0000 - val_loss: 0.0156\n",
            "Epoch 219/400\n",
            "\u001b[1m27/27\u001b[0m \u001b[32m━━━━━━━━━━━━━━━━━━━━\u001b[0m\u001b[37m\u001b[0m \u001b[1m0s\u001b[0m 4ms/step - acc: 0.9880 - loss: 0.0360 - val_acc: 1.0000 - val_loss: 0.0155\n",
            "Epoch 220/400\n",
            "\u001b[1m27/27\u001b[0m \u001b[32m━━━━━━━━━━━━━━━━━━━━\u001b[0m\u001b[37m\u001b[0m \u001b[1m0s\u001b[0m 3ms/step - acc: 0.9880 - loss: 0.0359 - val_acc: 1.0000 - val_loss: 0.0154\n",
            "Epoch 221/400\n",
            "\u001b[1m27/27\u001b[0m \u001b[32m━━━━━━━━━━━━━━━━━━━━\u001b[0m\u001b[37m\u001b[0m \u001b[1m0s\u001b[0m 3ms/step - acc: 0.9880 - loss: 0.0358 - val_acc: 1.0000 - val_loss: 0.0153\n",
            "Epoch 222/400\n",
            "\u001b[1m27/27\u001b[0m \u001b[32m━━━━━━━━━━━━━━━━━━━━\u001b[0m\u001b[37m\u001b[0m \u001b[1m0s\u001b[0m 3ms/step - acc: 0.9880 - loss: 0.0357 - val_acc: 1.0000 - val_loss: 0.0152\n",
            "Epoch 223/400\n",
            "\u001b[1m27/27\u001b[0m \u001b[32m━━━━━━━━━━━━━━━━━━━━\u001b[0m\u001b[37m\u001b[0m \u001b[1m0s\u001b[0m 4ms/step - acc: 0.9880 - loss: 0.0357 - val_acc: 1.0000 - val_loss: 0.0151\n",
            "Epoch 224/400\n",
            "\u001b[1m27/27\u001b[0m \u001b[32m━━━━━━━━━━━━━━━━━━━━\u001b[0m\u001b[37m\u001b[0m \u001b[1m0s\u001b[0m 3ms/step - acc: 0.9880 - loss: 0.0356 - val_acc: 1.0000 - val_loss: 0.0150\n",
            "Epoch 225/400\n",
            "\u001b[1m27/27\u001b[0m \u001b[32m━━━━━━━━━━━━━━━━━━━━\u001b[0m\u001b[37m\u001b[0m \u001b[1m0s\u001b[0m 4ms/step - acc: 0.9880 - loss: 0.0355 - val_acc: 1.0000 - val_loss: 0.0150\n",
            "Epoch 226/400\n",
            "\u001b[1m27/27\u001b[0m \u001b[32m━━━━━━━━━━━━━━━━━━━━\u001b[0m\u001b[37m\u001b[0m \u001b[1m0s\u001b[0m 6ms/step - acc: 0.9880 - loss: 0.0355 - val_acc: 1.0000 - val_loss: 0.0149\n",
            "Epoch 227/400\n",
            "\u001b[1m27/27\u001b[0m \u001b[32m━━━━━━━━━━━━━━━━━━━━\u001b[0m\u001b[37m\u001b[0m \u001b[1m0s\u001b[0m 4ms/step - acc: 0.9880 - loss: 0.0354 - val_acc: 1.0000 - val_loss: 0.0148\n"
          ]
        }
      ]
    }
  ]
}